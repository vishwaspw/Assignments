{
 "cells": [
  {
   "cell_type": "markdown",
   "id": "d640d2c0-6bf4-4072-b888-df6cf0c9d830",
   "metadata": {},
   "source": [
    "### For Loop\n",
    "---"
   ]
  },
  {
   "cell_type": "markdown",
   "id": "de66d3de-cfb4-4cba-97d6-cb421c79c438",
   "metadata": {},
   "source": [
    "### 1. Write a python program to print numbers from 1 to 10 using for loop."
   ]
  },
  {
   "cell_type": "code",
   "execution_count": 2,
   "id": "652f7a69-ac4b-4640-8c1e-1c8b5e2dd2b3",
   "metadata": {},
   "outputs": [
    {
     "name": "stdout",
     "output_type": "stream",
     "text": [
      "1 2 3 4 5 6 7 8 9 10 "
     ]
    }
   ],
   "source": [
    "for i in range(1,11):\n",
    "    print(i,end=\" \")"
   ]
  },
  {
   "cell_type": "markdown",
   "id": "052c6792-be27-480c-a84d-8b4d7fe988cb",
   "metadata": {},
   "source": [
    "### 2. Explain the difference between a for loop and a while loop in python "
   ]
  },
  {
   "cell_type": "markdown",
   "id": "c097f6c5-448f-481b-ac45-1cebaa98ae82",
   "metadata": {},
   "source": [
    "-- For loop is used to iterate over a sequence of items. While loop is used to repeatedly execute a block of statements while a condition is true. "
   ]
  },
  {
   "cell_type": "markdown",
   "id": "d390d135-5b4f-414f-8d78-cf808b127117",
   "metadata": {},
   "source": [
    "Consider the following example."
   ]
  },
  {
   "cell_type": "code",
   "execution_count": 4,
   "id": "f42e26c4-f36f-4909-af25-a5ab84bb07b8",
   "metadata": {},
   "outputs": [
    {
     "name": "stdout",
     "output_type": "stream",
     "text": [
      "1 2 3 4 5 6 7 8 9 10 "
     ]
    }
   ],
   "source": [
    "for i in range(1,11):\n",
    "    print(i,end=\" \")"
   ]
  },
  {
   "cell_type": "code",
   "execution_count": 5,
   "id": "e3edcbba-b171-42d3-863e-ded44bf18ab7",
   "metadata": {},
   "outputs": [
    {
     "name": "stdout",
     "output_type": "stream",
     "text": [
      "1 2 3 4 5 6 7 8 9 10 "
     ]
    }
   ],
   "source": [
    "i=1\n",
    "while (i<11):\n",
    "    print(i,end=\" \")\n",
    "    i+=1"
   ]
  },
  {
   "cell_type": "markdown",
   "id": "769ae0d5-7314-499e-aa1d-b802f9f3da34",
   "metadata": {},
   "source": [
    "### 3. Write a python program to calculate the sum of all numbers from 1 to 100 using a for loop."
   ]
  },
  {
   "cell_type": "code",
   "execution_count": 6,
   "id": "821cdc13-8edd-430f-a3da-a6260c3874fb",
   "metadata": {},
   "outputs": [
    {
     "name": "stdout",
     "output_type": "stream",
     "text": [
      "Sum of all numbers from 1 to 100: 5050\n"
     ]
    }
   ],
   "source": [
    "count=0\n",
    "for i in range(1,101):\n",
    "    count+=i\n",
    "print(\"Sum of all numbers from 1 to 100:\",count)"
   ]
  },
  {
   "cell_type": "markdown",
   "id": "65fb452f-5188-471a-a732-c35336401b3f",
   "metadata": {},
   "source": [
    "### 4.How do you iterate through a list using a for loop in python?"
   ]
  },
  {
   "cell_type": "code",
   "execution_count": 7,
   "id": "60f40d2d-01eb-4b27-bb27-7e3017276894",
   "metadata": {},
   "outputs": [
    {
     "name": "stdout",
     "output_type": "stream",
     "text": [
      "Given list: [1, 2, 3, 4, 5, 6, 7, 8]\n"
     ]
    }
   ],
   "source": [
    "lst=[1,2,3,4,5,6,7,8]\n",
    "print(\"Given list:\",[i for i in lst])"
   ]
  },
  {
   "cell_type": "markdown",
   "id": "769f12b5-6c78-4521-9633-3313ef0caf89",
   "metadata": {},
   "source": [
    "### 5. Write a python program to find the product of all elements in a list using for loop."
   ]
  },
  {
   "cell_type": "code",
   "execution_count": 13,
   "id": "a1833ed3-c7cc-47f1-bc25-d977007c044d",
   "metadata": {},
   "outputs": [
    {
     "name": "stdout",
     "output_type": "stream",
     "text": [
      "Product of given list: 40320\n"
     ]
    }
   ],
   "source": [
    "lst=[1,2,3,4,5,6,7,8]\n",
    "\n",
    "product=1\n",
    "for i in lst:\n",
    "    product*=i\n",
    "    \n",
    "print(\"Product of given list:\",product)"
   ]
  },
  {
   "cell_type": "markdown",
   "id": "5b450dc5-89a7-4f23-a919-5bb74ccde9f3",
   "metadata": {},
   "source": [
    "### 6. Create a python program that prints all even numbers from 1 to 20 using for loop."
   ]
  },
  {
   "cell_type": "code",
   "execution_count": 14,
   "id": "d34ff8dd-4ff7-4d93-9c61-b9c6918f138f",
   "metadata": {},
   "outputs": [
    {
     "name": "stdout",
     "output_type": "stream",
     "text": [
      "2 4 6 8 10 12 14 16 18 20 "
     ]
    }
   ],
   "source": [
    "for i in range(1,21):\n",
    "    if (i%2==0):\n",
    "        print(i,end=\" \")"
   ]
  },
  {
   "cell_type": "markdown",
   "id": "b23503de-0678-4872-be79-e01b747493cd",
   "metadata": {},
   "source": [
    "### 7. Write a Python program that calculates the factorial of a number using a for loop."
   ]
  },
  {
   "cell_type": "code",
   "execution_count": 15,
   "id": "4aa8be21-d108-45e5-ade8-d80d9ab8fe72",
   "metadata": {},
   "outputs": [
    {
     "name": "stdin",
     "output_type": "stream",
     "text": [
      "Enter a number: 10\n"
     ]
    },
    {
     "name": "stdout",
     "output_type": "stream",
     "text": [
      "Factorial of a given number: 3628800\n"
     ]
    }
   ],
   "source": [
    "n=int(input(\"Enter a number:\"))\n",
    "\n",
    "fact=1\n",
    "for i in range(1,n+1):\n",
    "    fact*=i\n",
    "\n",
    "print(\"Factorial of a given number:\",fact)"
   ]
  },
  {
   "cell_type": "markdown",
   "id": "e6c756bd-d6be-4066-9418-0349a6f3fdb3",
   "metadata": {},
   "source": [
    "### 8. Iterate characters of a string using for loop"
   ]
  },
  {
   "cell_type": "code",
   "execution_count": 17,
   "id": "58835dfb-4e85-4c56-acc8-2b791d4f32e0",
   "metadata": {},
   "outputs": [
    {
     "name": "stdin",
     "output_type": "stream",
     "text": [
      "Enter a sentence: Hello, World!\n"
     ]
    },
    {
     "name": "stdout",
     "output_type": "stream",
     "text": [
      "H\n",
      "e\n",
      "l\n",
      "l\n",
      "o\n",
      ",\n",
      " \n",
      "W\n",
      "o\n",
      "r\n",
      "l\n",
      "d\n",
      "!\n"
     ]
    }
   ],
   "source": [
    "s=str(input(\"Enter a sentence:\"))\n",
    "\n",
    "for i in s:\n",
    "    print(i)"
   ]
  },
  {
   "cell_type": "markdown",
   "id": "5fd67cb2-ed7f-4689-b7a3-833a8753886a",
   "metadata": {},
   "source": [
    "### 9. Write a program to find the largest number in a list using for loop."
   ]
  },
  {
   "cell_type": "code",
   "execution_count": 20,
   "id": "031bf93e-ed66-4aa7-ae80-aa5107999a38",
   "metadata": {},
   "outputs": [
    {
     "name": "stdout",
     "output_type": "stream",
     "text": [
      "Maximum number in the given list: 98\n"
     ]
    }
   ],
   "source": [
    "lst=[24,34,57,27,66,21,98,50]\n",
    "\n",
    "ans=lst[0]\n",
    "for i in range(1,len(lst)):\n",
    "    if (ans<lst[i]):\n",
    "        ans=lst[i]\n",
    "\n",
    "print(\"Maximum number in the given list:\",ans)"
   ]
  },
  {
   "cell_type": "markdown",
   "id": "f1258092-e185-4a04-9f4f-f3402c646534",
   "metadata": {},
   "source": [
    "### 10. Create a python program that prints the Fibonacci sequence up to specified limit using a for loop."
   ]
  },
  {
   "cell_type": "code",
   "execution_count": 23,
   "id": "5dc79be1-b550-4053-89b9-325d7a910d42",
   "metadata": {},
   "outputs": [
    {
     "name": "stdin",
     "output_type": "stream",
     "text": [
      "Enter how many elements you want in Fibonacci sequence 10\n"
     ]
    },
    {
     "name": "stdout",
     "output_type": "stream",
     "text": [
      "Fibonacci sequence: [0, 1, 1, 2, 3, 5, 8, 13, 21, 34]\n"
     ]
    }
   ],
   "source": [
    "n=int(input(\"Enter how many elements you want in Fibonacci sequence\"))\n",
    "\n",
    "lst=[0,1]\n",
    "for i in range(n-2):\n",
    "    ans=lst[i]+lst[i+1]\n",
    "    lst.append(ans)\n",
    "    \n",
    "print(\"Fibonacci sequence:\",lst)"
   ]
  },
  {
   "cell_type": "markdown",
   "id": "8817f976-520a-4e13-b99e-73f5e5a61b72",
   "metadata": {},
   "source": [
    "### 11. Write a Python program to count the number of vowels in a given string using a for loop."
   ]
  },
  {
   "cell_type": "code",
   "execution_count": 25,
   "id": "8ec61a48-9e1c-4a97-81ee-dbb4a2d075b0",
   "metadata": {},
   "outputs": [
    {
     "name": "stdin",
     "output_type": "stream",
     "text": [
      "Enter a sentence Hello, World!\n"
     ]
    },
    {
     "name": "stdout",
     "output_type": "stream",
     "text": [
      "Count of vowels in given sentence: 3\n"
     ]
    }
   ],
   "source": [
    "s=str(input(\"Enter a sentence\"))\n",
    "a=\"aeiouAEIOU\"\n",
    "\n",
    "count=0\n",
    "for i in s:\n",
    "    if i in a:\n",
    "        count+=1\n",
    "        \n",
    "print(\"Count of vowels in given sentence:\",count)"
   ]
  },
  {
   "cell_type": "markdown",
   "id": "3c6c9233-9509-48be-b484-6fc5f966c047",
   "metadata": {},
   "source": [
    "### 12. Create a Python program that genertaes a multiplication table for a given number using for loop."
   ]
  },
  {
   "cell_type": "code",
   "execution_count": 26,
   "id": "40e3cb88-379e-4947-a881-2432fce0099c",
   "metadata": {},
   "outputs": [
    {
     "name": "stdin",
     "output_type": "stream",
     "text": [
      "Enter a number 5\n"
     ]
    },
    {
     "name": "stdout",
     "output_type": "stream",
     "text": [
      "5 * 1 = 5\n",
      "5 * 2 = 10\n",
      "5 * 3 = 15\n",
      "5 * 4 = 20\n",
      "5 * 5 = 25\n",
      "5 * 6 = 30\n",
      "5 * 7 = 35\n",
      "5 * 8 = 40\n",
      "5 * 9 = 45\n",
      "5 * 10 = 50\n"
     ]
    }
   ],
   "source": [
    "n=int(input(\"Enter a number\"))\n",
    "\n",
    "for i in range(1,11):\n",
    "    print(f\"{n} * {i} = {n*i}\")"
   ]
  },
  {
   "cell_type": "markdown",
   "id": "e8d457ed-792e-436c-9e05-f442bb206ac1",
   "metadata": {},
   "source": [
    "### 13.Write a Python program to reverse a list using a for loop."
   ]
  },
  {
   "cell_type": "code",
   "execution_count": 34,
   "id": "f9ae73fa-cda4-4a17-b707-c43c9950adee",
   "metadata": {},
   "outputs": [
    {
     "name": "stdout",
     "output_type": "stream",
     "text": [
      "Reversed list [8, 7, 6, 5, 4, 3, 2, 1]\n"
     ]
    }
   ],
   "source": [
    "lst=[1,2,3,4,5,6,7,8]\n",
    "\n",
    "reverse_list=[]\n",
    "for i in range(len(lst),0,-1):\n",
    "    reverse_list.append(i)\n",
    "    \n",
    "print(\"Reversed list\",reverse_list)"
   ]
  },
  {
   "cell_type": "markdown",
   "id": "606a6fba-9522-42ce-acce-2dddc4fc9676",
   "metadata": {},
   "source": [
    "### 14. Write a Python program to find the common elements between two lists using a for loop."
   ]
  },
  {
   "cell_type": "code",
   "execution_count": 35,
   "id": "de53cd2a-b8e1-4748-8c30-cc2b67f5b047",
   "metadata": {},
   "outputs": [
    {
     "name": "stdout",
     "output_type": "stream",
     "text": [
      "Common elements in given two list: [4, 5]\n"
     ]
    }
   ],
   "source": [
    "lst1=[1,2,3,4,5]\n",
    "lst2=[4,5,6,7,8]\n",
    "\n",
    "lst=[]\n",
    "for i in lst1:\n",
    "    for j in lst2:\n",
    "        if (i==j):\n",
    "            lst.append(i)\n",
    "            \n",
    "print(\"Common elements in given two list:\",lst)"
   ]
  },
  {
   "cell_type": "markdown",
   "id": "94bc2714-ae66-41a1-bbf0-31d0ab9972cd",
   "metadata": {},
   "source": [
    "### 15. Explain how to use a for loop to iterate through the keys and values of a dictionary in python."
   ]
  },
  {
   "cell_type": "code",
   "execution_count": 2,
   "id": "4deea7fc-6ee8-4c54-8870-57e2d8b2898b",
   "metadata": {},
   "outputs": [
    {
     "name": "stdout",
     "output_type": "stream",
     "text": [
      "0 zero\n",
      "1 one\n",
      "2 two\n",
      "3 three\n"
     ]
    }
   ],
   "source": [
    "d= { 0: 'zero', 1: 'one', 2: 'two', 3: 'three'}\n",
    "\n",
    "for i,j in d.items():\n",
    "    print(i,j)"
   ]
  },
  {
   "cell_type": "markdown",
   "id": "4510bcfc-3a1d-4be0-8226-ffadb2474b5b",
   "metadata": {},
   "source": [
    "### 16. Write a Python program to find the GCD of two numbers using a for loop."
   ]
  },
  {
   "cell_type": "code",
   "execution_count": 14,
   "id": "f1d28fbb-a647-4a40-a10d-54157186e39e",
   "metadata": {},
   "outputs": [
    {
     "name": "stdin",
     "output_type": "stream",
     "text": [
      "Enter a number 2\n",
      "Enter a second number 3\n"
     ]
    },
    {
     "name": "stdout",
     "output_type": "stream",
     "text": [
      "GCD of given two numbers 1\n"
     ]
    }
   ],
   "source": [
    "x=int(input(\"Enter a number\"))\n",
    "y=int(input(\"Enter a second number\"))\n",
    "\n",
    "n = min(x,y)\n",
    "gcd = 0\n",
    "for i in range(1,n+1):\n",
    "    if x%i == 0 and y%i == 0:\n",
    "        gcd = i\n",
    "    \n",
    "print(\"GCD of given two numbers\",gcd)"
   ]
  },
  {
   "cell_type": "markdown",
   "id": "90b5dc79-c238-49d4-a9d1-25c57ea3084f",
   "metadata": {},
   "source": [
    "### 17.Create a Python program that checks if a string is a palindrome using a for loop."
   ]
  },
  {
   "cell_type": "code",
   "execution_count": 16,
   "id": "ce4a69ff-3382-48aa-bcce-c141644bcb1d",
   "metadata": {},
   "outputs": [
    {
     "name": "stdin",
     "output_type": "stream",
     "text": [
      "Enter a string malayalam\n"
     ]
    },
    {
     "name": "stdout",
     "output_type": "stream",
     "text": [
      "Given string is palindrome\n"
     ]
    }
   ],
   "source": [
    "s=str(input(\"Enter a string\"))\n",
    "\n",
    "t=0\n",
    "for i in range(len(s)):\n",
    "    if (s[i]!=s[-(i+1)]):\n",
    "        t=0\n",
    "        break\n",
    "    else:\n",
    "        t+=1\n",
    "    \n",
    "if (t!=0):\n",
    "    print(\"Given string is palindrome\")\n",
    "else:\n",
    "    print(\"Given string is not palindrome\")"
   ]
  },
  {
   "cell_type": "markdown",
   "id": "a236997a-7410-4978-aadc-8ec6e6182d1e",
   "metadata": {},
   "source": [
    "### 18. Write a Python program to remove duplicates from a list using a for loop."
   ]
  },
  {
   "cell_type": "code",
   "execution_count": 7,
   "id": "be2cb0a0-fb4b-4fbe-b3c3-bf492253f82d",
   "metadata": {},
   "outputs": [
    {
     "name": "stdout",
     "output_type": "stream",
     "text": [
      "List after removing all duplicates: [2, 4, 7, 3, 1, 5]\n"
     ]
    }
   ],
   "source": [
    "lst=[2,4,7,3,7,3,1,5]\n",
    "\n",
    "lst1=[]\n",
    "for i in lst:\n",
    "    if i not in lst1:\n",
    "        lst1.append(i)\n",
    "    \n",
    "print(\"List after removing all duplicates:\",lst1)"
   ]
  },
  {
   "cell_type": "markdown",
   "id": "730f75e6-7730-4c2b-b5f7-b4ffe1990aac",
   "metadata": {},
   "source": [
    "### 19. Create a Python Program that counts the number of words in the sentence using a for loop."
   ]
  },
  {
   "cell_type": "code",
   "execution_count": 15,
   "id": "d2a0ccb4-a290-4351-9829-d3e62b0d5dd2",
   "metadata": {},
   "outputs": [
    {
     "name": "stdin",
     "output_type": "stream",
     "text": [
      "Enter a sentence Hello, World!\n"
     ]
    },
    {
     "name": "stdout",
     "output_type": "stream",
     "text": [
      "The number of words in the sentence: 2\n"
     ]
    }
   ],
   "source": [
    "s=str(input(\"Enter a sentence\"))\n",
    "S=s.split(\" \")\n",
    "\n",
    "count=0\n",
    "for i in S:\n",
    "    count+=1\n",
    "    \n",
    "print(\"The number of words in the sentence:\",count)"
   ]
  },
  {
   "cell_type": "markdown",
   "id": "9cc0ee70-7d7f-4311-b866-7963556b5352",
   "metadata": {},
   "source": [
    "### 20. Write a Python program to find the sum of all odd numbers from 1 to 50 using a for loop."
   ]
  },
  {
   "cell_type": "code",
   "execution_count": 16,
   "id": "70c1c03a-6104-45cf-860d-ae0917e32e29",
   "metadata": {},
   "outputs": [
    {
     "name": "stdout",
     "output_type": "stream",
     "text": [
      "Sum of all odd numbers from 1 to 50: 625\n"
     ]
    }
   ],
   "source": [
    "count=0\n",
    "for i in range(1,51,2):\n",
    "    count+=i\n",
    "    \n",
    "print(\"Sum of all odd numbers from 1 to 50:\",count)"
   ]
  },
  {
   "cell_type": "markdown",
   "id": "bcaf1301-c0e2-47df-984a-b1de37997db7",
   "metadata": {},
   "source": [
    "### 21.Write a Python program that checks if a given year is a leap year using a for loop."
   ]
  },
  {
   "cell_type": "code",
   "execution_count": 15,
   "id": "bddafc39-cb4f-4830-94db-74a93c165b17",
   "metadata": {},
   "outputs": [
    {
     "name": "stdin",
     "output_type": "stream",
     "text": [
      "Enter a year 2013\n"
     ]
    },
    {
     "name": "stdout",
     "output_type": "stream",
     "text": [
      "2013 is not leap year\n"
     ]
    }
   ],
   "source": [
    "year=int(input(\"Enter a year\"))\n",
    "\n",
    "t=0\n",
    "for i in range(1,year):\n",
    "    if (i==4 and year%i==0):\n",
    "        t+=1\n",
    "\n",
    "if (t!=0):\n",
    "    print(f\"{year} is leap year\")\n",
    "else:\n",
    "    print(f\"{year} is not leap year\")"
   ]
  },
  {
   "cell_type": "markdown",
   "id": "284fc51e-2234-4d55-8aa7-97667df47e02",
   "metadata": {},
   "source": [
    "### 22. Create a Python program that calculates the square root of a number using a for loop."
   ]
  },
  {
   "cell_type": "code",
   "execution_count": 16,
   "id": "72d53fdb-247b-4772-bdc8-8b42afb70f91",
   "metadata": {},
   "outputs": [
    {
     "name": "stdin",
     "output_type": "stream",
     "text": [
      "Enter a number 25\n"
     ]
    },
    {
     "name": "stdout",
     "output_type": "stream",
     "text": [
      "5 is a square root of 25\n"
     ]
    }
   ],
   "source": [
    "num=int(input(\"Enter a number\"))\n",
    "\n",
    "for i in range(num+1):\n",
    "    if num==i**2:\n",
    "        print(f\"{i} is a square root of {num}\")"
   ]
  },
  {
   "cell_type": "markdown",
   "id": "15309012-1259-4865-b2d5-0293362029a9",
   "metadata": {},
   "source": [
    "### 23. Write a Python program to find the LCM of two numbers using a for loop."
   ]
  },
  {
   "cell_type": "code",
   "execution_count": 18,
   "id": "e38e8f1e-ed34-4348-837e-ff13e2db524b",
   "metadata": {},
   "outputs": [
    {
     "name": "stdin",
     "output_type": "stream",
     "text": [
      "Enter a number 5\n",
      "Enter a second number 10\n"
     ]
    },
    {
     "name": "stdout",
     "output_type": "stream",
     "text": [
      "LCM of given two numbers: 5\n"
     ]
    }
   ],
   "source": [
    "x=int(input(\"Enter a number\"))\n",
    "y=int(input(\"Enter a second number\"))\n",
    "\n",
    "n = max(x,y)\n",
    "lst=[]\n",
    "for i in range(1,n+1):\n",
    "    if x%i==0 and y%i==0:\n",
    "        lst.append(i)\n",
    "\n",
    "print(\"LCM of given two numbers:\",max(lst))"
   ]
  },
  {
   "cell_type": "markdown",
   "id": "a8fbe029-dd84-4684-8ea7-bfa04ee002f1",
   "metadata": {},
   "source": [
    "### if_else\n",
    "---"
   ]
  },
  {
   "cell_type": "markdown",
   "id": "c6d7efdd-8dd7-4bdc-8277-470298c4f39b",
   "metadata": {},
   "source": [
    "### 1. Write a Python program to check if a number is positive, negative or zero using an if-else statement."
   ]
  },
  {
   "cell_type": "code",
   "execution_count": 1,
   "id": "735b9d0f-7393-4de3-a4a3-4573c4221cf3",
   "metadata": {},
   "outputs": [
    {
     "name": "stdin",
     "output_type": "stream",
     "text": [
      "Enter a number 24\n"
     ]
    },
    {
     "name": "stdout",
     "output_type": "stream",
     "text": [
      "24.0 is positive.\n"
     ]
    }
   ],
   "source": [
    "a=float(input(\"Enter a number\"))\n",
    "\n",
    "if (a==0):\n",
    "    print(f\"{a} is zero.\")\n",
    "if (a<0):\n",
    "    print(f\"{a} is negative.\")\n",
    "else:\n",
    "    print(f\"{a} is positive.\")  "
   ]
  },
  {
   "cell_type": "markdown",
   "id": "9c50243b-afa8-4b1b-8b03-02cd84c67b38",
   "metadata": {},
   "source": [
    "### 2. Create a Python program that checks if a given number is even or odd using an if-else statement."
   ]
  },
  {
   "cell_type": "code",
   "execution_count": 2,
   "id": "2e67d909-ee06-4fb1-b4f9-b98af8133cbc",
   "metadata": {},
   "outputs": [
    {
     "name": "stdin",
     "output_type": "stream",
     "text": [
      "Enter a number 34\n"
     ]
    },
    {
     "name": "stdout",
     "output_type": "stream",
     "text": [
      "34.0 is an even number.\n"
     ]
    }
   ],
   "source": [
    "a=float(input(\"Enter a number\"))\n",
    "\n",
    "if (a%2==0):\n",
    "    print(f\"{a} is an even number.\")\n",
    "else:\n",
    "    print(f\"{a} is an odd number.\")"
   ]
  },
  {
   "cell_type": "markdown",
   "id": "5e264d9f-9313-4138-94df-568953390ad9",
   "metadata": {},
   "source": [
    "### 3. How can you see nested if-else statements in Python and provide an example."
   ]
  },
  {
   "cell_type": "markdown",
   "id": "478be085-56c8-40c3-9f29-5264cefdf40b",
   "metadata": {},
   "source": [
    "find largest of three numbers using nested if-else"
   ]
  },
  {
   "cell_type": "code",
   "execution_count": 3,
   "id": "2982d819-18d3-4dc6-a625-19477ba56654",
   "metadata": {},
   "outputs": [
    {
     "name": "stdin",
     "output_type": "stream",
     "text": [
      "Enter three numbers 3 6 8\n"
     ]
    },
    {
     "name": "stdout",
     "output_type": "stream",
     "text": [
      "8 is largest number\n"
     ]
    }
   ],
   "source": [
    "a,b,c=[int(x) for x in input(\"Enter three numbers\").split(\" \")]\n",
    "\n",
    "if (a>b):\n",
    "    if (a>c):\n",
    "        print(f\"{a} is largest number\")\n",
    "    else:\n",
    "        print(f\"{c} is largest number\")\n",
    "else:\n",
    "    if (b<c):\n",
    "        print(f\"{c} is largest number\")\n",
    "    else:\n",
    "        print(f\"{b} is largest number\")"
   ]
  },
  {
   "cell_type": "markdown",
   "id": "fcb29455-7b7b-455d-be39-34844b4d9bec",
   "metadata": {},
   "source": [
    "### 4. Write a Python program to determine the largest of three numbers using if-else."
   ]
  },
  {
   "cell_type": "code",
   "execution_count": 5,
   "id": "28528b73-57eb-4541-a4ef-c7e8c2c5f9ae",
   "metadata": {},
   "outputs": [
    {
     "name": "stdin",
     "output_type": "stream",
     "text": [
      "Enter three numbers 7 3 6\n"
     ]
    },
    {
     "name": "stdout",
     "output_type": "stream",
     "text": [
      "7 is largest number\n"
     ]
    }
   ],
   "source": [
    "a,b,c=[int(x) for x in input(\"Enter three numbers\").split(\" \")]\n",
    "\n",
    "if (a>b):\n",
    "    if (a>c):\n",
    "        print(f\"{a} is largest number\")\n",
    "    else:\n",
    "        print(f\"{c} is largest number\")\n",
    "else:\n",
    "    if (b<c):\n",
    "        print(f\"{c} is largest number\")\n",
    "    else:\n",
    "        print(f\"{b} is largest number\")"
   ]
  },
  {
   "cell_type": "markdown",
   "id": "7bf0e78b-cf28-4b58-a9f1-3d3e3e482c0d",
   "metadata": {},
   "source": [
    "### 5. Write a Python program that calculates the absolute value of a number using if-else."
   ]
  },
  {
   "cell_type": "code",
   "execution_count": 6,
   "id": "17dd11b1-00cc-4aa5-a2ad-8b21845fea4b",
   "metadata": {},
   "outputs": [
    {
     "name": "stdin",
     "output_type": "stream",
     "text": [
      "Enter a number -3\n"
     ]
    },
    {
     "name": "stdout",
     "output_type": "stream",
     "text": [
      "Absolute value of -3.0 is 3.0.\n"
     ]
    }
   ],
   "source": [
    "a=float(input(\"Enter a number\"))\n",
    "\n",
    "if (a==0):\n",
    "    print(f\"Absolute value of {a} is {a}.\")\n",
    "if (a<0):\n",
    "    print(f\"Absolute value of {a} is {-a}.\")\n",
    "else:\n",
    "    print(f\"Absolute value of {a} is {a}.\")"
   ]
  },
  {
   "cell_type": "markdown",
   "id": "a847c0b1-dc28-4960-916d-03e35ee4d262",
   "metadata": {},
   "source": [
    "### 6.Create a Python program that checks if a given charater is a vowel or consonant using if-else."
   ]
  },
  {
   "cell_type": "code",
   "execution_count": 7,
   "id": "be6c3f59-1c5c-4d96-beb6-2c6b9a9fdf27",
   "metadata": {},
   "outputs": [
    {
     "name": "stdin",
     "output_type": "stream",
     "text": [
      "Enter a character c\n"
     ]
    },
    {
     "name": "stdout",
     "output_type": "stream",
     "text": [
      "c is consonant\n"
     ]
    }
   ],
   "source": [
    "s=str(input(\"Enter a character\"))\n",
    "vowel=\"aeiouAEIOU\"\n",
    "\n",
    "if (s in vowel):\n",
    "    print(f\"{s} is vowel\")\n",
    "else:\n",
    "    print(f\"{s} is consonant\")"
   ]
  },
  {
   "cell_type": "markdown",
   "id": "4f5aa207-351f-4d04-99ba-25cab2254523",
   "metadata": {},
   "source": [
    "### 7. Write a Python program to determine if a use is eligible to vote based on their age using if-else."
   ]
  },
  {
   "cell_type": "code",
   "execution_count": 8,
   "id": "28362a2f-8d80-4af3-be6c-b62904a3fbf7",
   "metadata": {},
   "outputs": [
    {
     "name": "stdin",
     "output_type": "stream",
     "text": [
      "Enter an age 30\n"
     ]
    },
    {
     "name": "stdout",
     "output_type": "stream",
     "text": [
      "Person is eligible for vote.\n"
     ]
    }
   ],
   "source": [
    "age=int(input(\"Enter an age\"))\n",
    "\n",
    "if (age<18):\n",
    "    print(\"Person is not eligible for vote.\")\n",
    "else:\n",
    "    print(\"Person is eligible for vote.\")"
   ]
  },
  {
   "cell_type": "markdown",
   "id": "b311f163-1a25-4e0e-9233-4defa8ce69b1",
   "metadata": {},
   "source": [
    "### 8. Create a Python program that calculates the discount amount based on the purchase amount using if-else."
   ]
  },
  {
   "cell_type": "code",
   "execution_count": 10,
   "id": "271cdfcb-36d4-4d0a-a948-689d97bc4011",
   "metadata": {},
   "outputs": [
    {
     "name": "stdin",
     "output_type": "stream",
     "text": [
      "Enter purchase amount  7474000\n"
     ]
    },
    {
     "name": "stdout",
     "output_type": "stream",
     "text": [
      "Discount Amount = 2977600.00\n",
      "Net Bill Amount = 4496400.00\n"
     ]
    }
   ],
   "source": [
    "p=int(input('Enter purchase amount '))\n",
    "\n",
    "if p<=5000:\n",
    "    dis=0\n",
    "elif p>5000 and p<=10000:\n",
    "    dis=(p-5000)*(10/100)\n",
    "elif p>10000 and p<=20000:\n",
    "    dis=(p-10000)*(20/100)\n",
    "elif p>20000 and p<=30000:\n",
    "    dis=(p-20000)*(30/100)\n",
    "else:\n",
    "    dis=(p-30000)*(40/100)\n",
    "\n",
    "print('Discount Amount = {:.2f}'.format(dis))\n",
    "print('Net Bill Amount = {:.2f}'.format(p-dis))"
   ]
  },
  {
   "cell_type": "markdown",
   "id": "dc169538-3731-497a-b36a-28837c91e14d",
   "metadata": {},
   "source": [
    "### 9. Write a Python program to check if a number is within a specified range using if-else."
   ]
  },
  {
   "cell_type": "code",
   "execution_count": 11,
   "id": "a9063439-894a-4eeb-85a3-ea07253c5b8f",
   "metadata": {},
   "outputs": [
    {
     "name": "stdin",
     "output_type": "stream",
     "text": [
      "Enter a lower limit 3\n",
      "Enter a upper limit 10\n",
      "Enter a number 9\n"
     ]
    },
    {
     "name": "stdout",
     "output_type": "stream",
     "text": [
      "9 is between 3 and 10\n"
     ]
    }
   ],
   "source": [
    "ll=int(input(\"Enter a lower limit\"))\n",
    "up=int(input(\"Enter a upper limit\"))\n",
    "\n",
    "a=int(input(\"Enter a number\"))\n",
    "\n",
    "if (ll<=a<=up):\n",
    "    print(f\"{a} is between {ll} and {up}\")\n",
    "else:\n",
    "    print(f\"{a} is not within range.\")"
   ]
  },
  {
   "cell_type": "markdown",
   "id": "886b8dd3-baf8-47ab-a861-9f37389a75b9",
   "metadata": {},
   "source": [
    "### 10. Create a Python program that determines the grade of a student based on their score using if-else."
   ]
  },
  {
   "cell_type": "code",
   "execution_count": 12,
   "id": "7e0fb8d8-77b3-4e64-ba19-d31f84496fb4",
   "metadata": {},
   "outputs": [
    {
     "name": "stdin",
     "output_type": "stream",
     "text": [
      "Enter student's score 46\n"
     ]
    },
    {
     "name": "stdout",
     "output_type": "stream",
     "text": [
      "D Grade\n"
     ]
    }
   ],
   "source": [
    "score=int(input(\"Enter student's score\"))\n",
    "\n",
    "if (score>=90):\n",
    "    print(\"A Grade\")\n",
    "if (70<=score<90):\n",
    "    print(\"B Grade\")\n",
    "if (50<=score<70):\n",
    "    print(\"C Grade\")\n",
    "if (30<=score<50):\n",
    "    print(\"D Grade\")\n",
    "if (score<30):\n",
    "    print(\"Fail\")"
   ]
  },
  {
   "cell_type": "markdown",
   "id": "15e91fde-3cba-4a7a-99fb-54a29203bd45",
   "metadata": {},
   "source": [
    "### 11. Write a Python program to check if a string is empty or not using if-else."
   ]
  },
  {
   "cell_type": "code",
   "execution_count": 16,
   "id": "f7dd411d-c94e-4525-be40-b206cadd2089",
   "metadata": {},
   "outputs": [
    {
     "name": "stdin",
     "output_type": "stream",
     "text": [
      "Enter any string \n"
     ]
    },
    {
     "name": "stdout",
     "output_type": "stream",
     "text": [
      "Given string is empty\n"
     ]
    }
   ],
   "source": [
    "s=str(input(\"Enter any string\"))\n",
    "\n",
    "if (s==\"\" or s==\" \"):\n",
    "    print(\"Given string is empty\")\n",
    "else:\n",
    "    print(\"Given string is not empty\")"
   ]
  },
  {
   "cell_type": "markdown",
   "id": "68b1ab04-53c3-4264-8717-45ee125ef943",
   "metadata": {},
   "source": [
    "### 12. Create a Python program that identifies the type of a triangle based on input values using if-else."
   ]
  },
  {
   "cell_type": "code",
   "execution_count": 17,
   "id": "f64e1949-436e-49fb-af3f-7dfd88439123",
   "metadata": {},
   "outputs": [
    {
     "name": "stdin",
     "output_type": "stream",
     "text": [
      "Enter a side of triangle 6\n",
      "Enter a side of triangle 6\n",
      "Enter a side of triangle 4\n"
     ]
    },
    {
     "name": "stdout",
     "output_type": "stream",
     "text": [
      "Isosceles triangle\n"
     ]
    }
   ],
   "source": [
    "a=int(input(\"Enter a side of triangle\"))\n",
    "b=int(input(\"Enter a side of triangle\"))\n",
    "c=int(input(\"Enter a side of triangle\"))\n",
    "\n",
    "if (a==b and a==c and b==c):\n",
    "    print(\"Equilateral triangle\")\n",
    "else:\n",
    "    if (a==b or b==c or a==c):\n",
    "        print(\"Isosceles triangle\")\n",
    "    else:\n",
    "        print(\"Scalene triangle\")"
   ]
  },
  {
   "cell_type": "markdown",
   "id": "63a42541-1748-44d5-8911-ad52c638d24c",
   "metadata": {},
   "source": [
    "### 13. Write a Python program to determine the day of the week based on a user-provided number using if-else."
   ]
  },
  {
   "cell_type": "code",
   "execution_count": 18,
   "id": "47f903eb-3f1b-483f-bd87-f84aa8371fc0",
   "metadata": {},
   "outputs": [
    {
     "name": "stdin",
     "output_type": "stream",
     "text": [
      "Enter a number 4\n"
     ]
    },
    {
     "name": "stdout",
     "output_type": "stream",
     "text": [
      "Thusday\n"
     ]
    }
   ],
   "source": [
    "a=int(input(\"Enter a number\"))\n",
    "\n",
    "if (0<a<=7):\n",
    "    if (a==1):\n",
    "        print(\"Monday\")\n",
    "    if (a==2):\n",
    "        print(\"Tuesday\")\n",
    "    if (a==3):\n",
    "        print(\"Wednesday\")\n",
    "    if (a==4):\n",
    "        print(\"Thusday\")\n",
    "    if (a==5):\n",
    "        print(\"Friday\")\n",
    "    if (a==6):\n",
    "        print(\"Saturday\")\n",
    "    if (a==7):\n",
    "        print(\"Sunday\")\n",
    "else:\n",
    "    print(\"Invalid number\")"
   ]
  },
  {
   "cell_type": "markdown",
   "id": "c242226d-5fbe-458d-8f0b-7bf1e02e3a2f",
   "metadata": {},
   "source": [
    "### 14. Create a Python program that checks if a year is a leap year using both if-else and a function."
   ]
  },
  {
   "cell_type": "code",
   "execution_count": 19,
   "id": "9ccf20b8-8d05-46ca-bd3c-689b224704ea",
   "metadata": {},
   "outputs": [
    {
     "name": "stdin",
     "output_type": "stream",
     "text": [
      "Enter a year 2013\n"
     ]
    },
    {
     "name": "stdout",
     "output_type": "stream",
     "text": [
      "2013 is not leap year.\n"
     ]
    }
   ],
   "source": [
    "year=int(input(\"Enter a year\"))\n",
    "\n",
    "def leap_year(year):\n",
    "    if (year%4==0):\n",
    "        print(f\"{year} is leap year.\")\n",
    "    else:\n",
    "        print(f\"{year} is not leap year.\")\n",
    "        \n",
    "leap_year(year)"
   ]
  },
  {
   "cell_type": "markdown",
   "id": "32b02822-e691-42a3-807a-917167b678f0",
   "metadata": {},
   "source": [
    "### 15. How do you use the \"assert\" statement in Python to add debugging checks within if-else blocks?"
   ]
  },
  {
   "cell_type": "code",
   "execution_count": 3,
   "id": "1f2ec1a1-8a89-4fd7-943c-084b67285df1",
   "metadata": {},
   "outputs": [
    {
     "name": "stdout",
     "output_type": "stream",
     "text": [
      "5.0\n"
     ]
    },
    {
     "ename": "AssertionError",
     "evalue": "y cannot be zero",
     "output_type": "error",
     "traceback": [
      "\u001b[0;31m---------------------------------------------------------------------------\u001b[0m",
      "\u001b[0;31mAssertionError\u001b[0m                            Traceback (most recent call last)",
      "Cell \u001b[0;32mIn[3], line 8\u001b[0m\n\u001b[1;32m      5\u001b[0m         \u001b[38;5;28mprint\u001b[39m(x\u001b[38;5;241m/\u001b[39my)\n\u001b[1;32m      7\u001b[0m division(\u001b[38;5;241m10\u001b[39m,\u001b[38;5;241m2\u001b[39m) \u001b[38;5;66;03m#5\u001b[39;00m\n\u001b[0;32m----> 8\u001b[0m \u001b[43mdivision\u001b[49m\u001b[43m(\u001b[49m\u001b[38;5;241;43m10\u001b[39;49m\u001b[43m,\u001b[49m\u001b[38;5;241;43m0\u001b[39;49m\u001b[43m)\u001b[49m \n",
      "Cell \u001b[0;32mIn[3], line 3\u001b[0m, in \u001b[0;36mdivision\u001b[0;34m(x, y)\u001b[0m\n\u001b[1;32m      1\u001b[0m \u001b[38;5;28;01mdef\u001b[39;00m \u001b[38;5;21mdivision\u001b[39m(x,y):\n\u001b[1;32m      2\u001b[0m     \u001b[38;5;28;01mif\u001b[39;00m y\u001b[38;5;241m==\u001b[39m\u001b[38;5;241m0\u001b[39m:\n\u001b[0;32m----> 3\u001b[0m         \u001b[38;5;28;01massert\u001b[39;00m y\u001b[38;5;241m!=\u001b[39m\u001b[38;5;241m0\u001b[39m, \u001b[38;5;124m\"\u001b[39m\u001b[38;5;124my cannot be zero\u001b[39m\u001b[38;5;124m\"\u001b[39m  \n\u001b[1;32m      4\u001b[0m     \u001b[38;5;28;01melse\u001b[39;00m:\n\u001b[1;32m      5\u001b[0m         \u001b[38;5;28mprint\u001b[39m(x\u001b[38;5;241m/\u001b[39my)\n",
      "\u001b[0;31mAssertionError\u001b[0m: y cannot be zero"
     ]
    }
   ],
   "source": [
    "def division(x,y):\n",
    "    if y==0:\n",
    "        assert y!=0, \"y cannot be zero\"  \n",
    "    else:\n",
    "        print(x/y)\n",
    "  \n",
    "division(10,2) #5\n",
    "division(10,0) "
   ]
  },
  {
   "cell_type": "markdown",
   "id": "27b25f91-5a52-4188-83e6-9fbd4974d0b7",
   "metadata": {},
   "source": [
    "### 16. Create a Python program that determines the eligibility of a person for a senior citizen discount based on age using if-else."
   ]
  },
  {
   "cell_type": "code",
   "execution_count": 2,
   "id": "c1a428a5-6ae8-4b36-82d4-1eb605085b64",
   "metadata": {},
   "outputs": [
    {
     "name": "stdin",
     "output_type": "stream",
     "text": [
      "Enter the age 67\n",
      "Enter the amount of purchase 5000\n"
     ]
    },
    {
     "name": "stdout",
     "output_type": "stream",
     "text": [
      "Purchase amount after discount: 4500.0\n"
     ]
    }
   ],
   "source": [
    "age=int(input(\"Enter the age\"))\n",
    "amount=int(input(\"Enter the amount of purchase\"))\n",
    "\n",
    "if (age>=60):\n",
    "    print(\"Purchase amount after discount:\",amount-amount*10/100)\n",
    "else:\n",
    "    print(\"Discount only for senior citizen\")"
   ]
  },
  {
   "cell_type": "markdown",
   "id": "65a6c194-4ebd-4606-af35-261ba4f5bb1e",
   "metadata": {},
   "source": [
    "### 17. Write a Python program to categorize a given character as uppercase, lowercase or neither using if-else."
   ]
  },
  {
   "cell_type": "code",
   "execution_count": 3,
   "id": "c8e98ad6-b52f-447b-b187-63e7594575bc",
   "metadata": {},
   "outputs": [
    {
     "name": "stdin",
     "output_type": "stream",
     "text": [
      "Enter any character A\n"
     ]
    },
    {
     "name": "stdout",
     "output_type": "stream",
     "text": [
      "A is uppercase\n"
     ]
    }
   ],
   "source": [
    "s=str(input(\"Enter any character\"))\n",
    "\n",
    "if (s.isupper()):\n",
    "    print(f\"{s} is uppercase\")\n",
    "elif (s.islower()):\n",
    "    print(f\"{s} is lowercase\")\n",
    "else:\n",
    "    print(f\"{s} is neither uppercase nor lowercase\")"
   ]
  },
  {
   "cell_type": "markdown",
   "id": "2c020a3c-95ed-4a4d-aca3-6bf9777e0502",
   "metadata": {},
   "source": [
    "### 18. Write a program to determine the roots of a quadratic equation using if-else."
   ]
  },
  {
   "cell_type": "code",
   "execution_count": 4,
   "id": "65a1443e-3182-49cd-b4f2-d4dcd9edc312",
   "metadata": {},
   "outputs": [
    {
     "name": "stdin",
     "output_type": "stream",
     "text": [
      "Enter the coefficients of quadratic equation 1 2 4\n"
     ]
    },
    {
     "name": "stdout",
     "output_type": "stream",
     "text": [
      "Imaginary roots\n",
      "Roots: (-0.9999999999999999+1.7320508075688772j) and (-1-1.7320508075688772j)\n"
     ]
    }
   ],
   "source": [
    "a,b,c=[int(x) for x in input(\"Enter the coefficients of quadratic equation\").split()]\n",
    "\n",
    "if (pow(b,2)-4*a*c==0):\n",
    "    print(\"Real and equal roots\")\n",
    "else:\n",
    "    if (pow(b,2)-4*a*c<0):\n",
    "        print(\"Imaginary roots\")\n",
    "    else:\n",
    "        print(\"Real and distinct roots\")\n",
    "D=pow(b,2)-4*a*c\n",
    "print(\"Roots:\",(-b+pow(D,0.5))/(2*a),\"and\",(-b-pow(D,0.5))/(2*a))"
   ]
  },
  {
   "cell_type": "markdown",
   "id": "1858e19c-0b69-41c3-ae02-addcee3e7c79",
   "metadata": {},
   "source": [
    "### 19. Create a program that checks if a given year is a century year or not using if-else"
   ]
  },
  {
   "cell_type": "code",
   "execution_count": 5,
   "id": "793bc92f-099f-4d4b-b1d2-f21098a98c41",
   "metadata": {},
   "outputs": [
    {
     "name": "stdin",
     "output_type": "stream",
     "text": [
      "Enter a year 2000\n"
     ]
    },
    {
     "name": "stdout",
     "output_type": "stream",
     "text": [
      "2000 is century year.\n"
     ]
    }
   ],
   "source": [
    "year=int(input(\"Enter a year\"))\n",
    "\n",
    "def century_year(year):\n",
    "    if (year%100==0):\n",
    "        print(f\"{year} is century year.\")\n",
    "    else:\n",
    "        print(f\"{year} is not century year.\")\n",
    "        \n",
    "century_year(year)"
   ]
  },
  {
   "cell_type": "markdown",
   "id": "018dea49-7edf-4e96-bca4-8d2b20de2bb7",
   "metadata": {},
   "source": [
    "### 20. Write a program to determine if a given number is a perfect square using if-else."
   ]
  },
  {
   "cell_type": "code",
   "execution_count": 7,
   "id": "6d9567e7-8d4f-4538-925b-17641f8a24b4",
   "metadata": {},
   "outputs": [
    {
     "name": "stdin",
     "output_type": "stream",
     "text": [
      "Enter a number 13\n"
     ]
    },
    {
     "name": "stdout",
     "output_type": "stream",
     "text": [
      "13 is not perfect square.\n"
     ]
    }
   ],
   "source": [
    "num=int(input(\"Enter a number\"))\n",
    "\n",
    "def perfect_square(num):\n",
    "    for i in range(num+1):\n",
    "        if num==i**2:\n",
    "            return True\n",
    "    return False\n",
    "\n",
    "if (perfect_square(num)):\n",
    "    print(f\"{num} is perfect square.\")\n",
    "else:\n",
    "    print(f\"{num} is not perfect square.\")          "
   ]
  },
  {
   "cell_type": "markdown",
   "id": "94aad8a2-f7d9-4256-8aff-d83adcc06192",
   "metadata": {},
   "source": [
    "### 21. Explain the purpose of the \"continue\" and \"break\" statements within if-else loops."
   ]
  },
  {
   "cell_type": "markdown",
   "id": "17145a95-6e86-454d-88b2-15cff0b6d485",
   "metadata": {},
   "source": [
    "--The break statement can be used if you need to break out of a for or while loop and move onto the next section of code.\n",
    "\n",
    "--The continue statement can be used if you need to skip the current iteration of a for or while loop and move onto the next iteration."
   ]
  },
  {
   "cell_type": "code",
   "execution_count": 16,
   "id": "687496b6-becf-467d-bced-2b8eea6361cb",
   "metadata": {},
   "outputs": [
    {
     "name": "stdout",
     "output_type": "stream",
     "text": [
      "Current number : 1\n",
      "Current number : 2\n",
      "Current number : 3\n"
     ]
    }
   ],
   "source": [
    "num = 1\n",
    "while num < 5:\n",
    "    print('Current number :', num)\n",
    "    num = num + 1\n",
    "    if num == 4:\n",
    "        break"
   ]
  },
  {
   "cell_type": "code",
   "execution_count": 15,
   "id": "22a538b6-c30c-47bf-a622-869b6d18389d",
   "metadata": {},
   "outputs": [
    {
     "name": "stdout",
     "output_type": "stream",
     "text": [
      "Current number : 1\n",
      "Current number : 2\n",
      "Current number : 3\n",
      "Current number : 4\n"
     ]
    }
   ],
   "source": [
    "num=1\n",
    "while num < 5:\n",
    "    print('Current number :', num)\n",
    "    num = num + 1\n",
    "    if num == 4:\n",
    "        continue"
   ]
  },
  {
   "cell_type": "markdown",
   "id": "53f0dccd-a189-4598-9499-4b047ac9dbce",
   "metadata": {},
   "source": [
    "### 22. Create a program that calculates the BMI of a person based on their weight and height using if-else."
   ]
  },
  {
   "cell_type": "code",
   "execution_count": 18,
   "id": "9f8258ff-2e79-45bb-93f0-0fc5d2842dfc",
   "metadata": {},
   "outputs": [
    {
     "name": "stdin",
     "output_type": "stream",
     "text": [
      "Enter the height in meters: 1.63\n",
      "Enter the weight in kg: 53\n"
     ]
    },
    {
     "name": "stdout",
     "output_type": "stream",
     "text": [
      "Your BMI is: 19.95\n",
      "Your weight is normal.\n"
     ]
    }
   ],
   "source": [
    "h=float(input(\"Enter the height in meters:\"))\n",
    "w=float(input(\"Enter the weight in kg:\"))\n",
    "\n",
    "bmi=round((w / h**2),2)\n",
    "print(\"Your BMI is:\",bmi)\n",
    "\n",
    "if bmi <= 18.5: \n",
    "    print(\"You are underweight.\") \n",
    "elif 18.5 < bmi <= 24.9: \n",
    "    print(\"Your weight is normal.\") \n",
    "elif 25 < bmi <= 29.29: \n",
    "    print(\"You are overweight.\") \n",
    "else: \n",
    "    print(\"You are obese.\")"
   ]
  },
  {
   "cell_type": "markdown",
   "id": "b6a75fdc-5f96-48c0-95b5-75937d170d67",
   "metadata": {},
   "source": [
    "### 23. How can you see the filter() function with if-else statements to filter elements from a list?"
   ]
  },
  {
   "cell_type": "code",
   "execution_count": 20,
   "id": "e1f94a16-698a-4f2a-984a-a96d9ddf3bdc",
   "metadata": {},
   "outputs": [
    {
     "name": "stdout",
     "output_type": "stream",
     "text": [
      "Even numbers from the list: [2, 4, 6, 8]\n"
     ]
    }
   ],
   "source": [
    "lst=[1,2,3,4,5,6,7,8]\n",
    "\n",
    "a=list(filter(lambda i:i%2==0,lst))\n",
    "\n",
    "print(\"Even numbers from the list:\",a)"
   ]
  },
  {
   "cell_type": "markdown",
   "id": "fb18a2e5-787f-4faa-a981-9381ad4af468",
   "metadata": {},
   "source": [
    "### 24. Write a program to determine if a given number is prime or not using if-else."
   ]
  },
  {
   "cell_type": "code",
   "execution_count": 22,
   "id": "e01814c7-3653-4117-80ae-dbe189f66434",
   "metadata": {},
   "outputs": [
    {
     "name": "stdin",
     "output_type": "stream",
     "text": [
      "Enter a number 8\n"
     ]
    },
    {
     "name": "stdout",
     "output_type": "stream",
     "text": [
      "Not Prime\n"
     ]
    }
   ],
   "source": [
    "a=int(input(\"Enter a number\"))\n",
    "\n",
    "if (a==2):\n",
    "    print(\"Prime\")\n",
    "t=0\n",
    "for i in range(2,a):\n",
    "    if (a%i==0):\n",
    "        t=0\n",
    "        break\n",
    "    else:\n",
    "        t+=1\n",
    "if (t!=0):\n",
    "    print(\"Prime\")\n",
    "else:\n",
    "    print(\"Not Prime\")"
   ]
  },
  {
   "cell_type": "markdown",
   "id": "088d80d1-991d-4148-ab69-63554321f388",
   "metadata": {},
   "source": [
    "### Map function\n",
    "---"
   ]
  },
  {
   "cell_type": "markdown",
   "id": "fad8d77b-b133-4dfc-be4e-cb58a848e015",
   "metadata": {},
   "source": [
    "### 1. Explain the purpose of the `map()` function in python and provide an example of how it can be used to apply a function to each element of an iterable."
   ]
  },
  {
   "cell_type": "markdown",
   "id": "4a40f0d3-dc1c-486b-b759-78a0a8892e7b",
   "metadata": {},
   "source": [
    "Map in Python is a function that works as an iterator to return a result after applying a function to every item of an iterable (tuple, lists, etc.). It is used when you want to apply a single transformation function to all the iterable elements. The iterable and function are passed as arguments to the map in Python."
   ]
  },
  {
   "cell_type": "code",
   "execution_count": 1,
   "id": "b52d1fbe-877e-4cff-a22e-58f0814d4889",
   "metadata": {},
   "outputs": [
    {
     "name": "stdout",
     "output_type": "stream",
     "text": [
      "Length of a words in given list: [6, 3, 4, 5, 5]\n"
     ]
    }
   ],
   "source": [
    "lst=[\"yellow\",\"red\",\"blue\",\"black\",\"white\"]\n",
    "\n",
    "length=list(map(len,lst))\n",
    "\n",
    "print(\"Length of a words in given list:\",length)"
   ]
  },
  {
   "cell_type": "markdown",
   "id": "8a0155ae-c452-4303-b318-9524480bb7c1",
   "metadata": {},
   "source": [
    "### 2. Write a python program that uses the `map()` function to square each element of a list of numbers."
   ]
  },
  {
   "cell_type": "code",
   "execution_count": 6,
   "id": "f9a021e7-0c4d-410c-ab43-590d4a43a99d",
   "metadata": {},
   "outputs": [
    {
     "name": "stdout",
     "output_type": "stream",
     "text": [
      "Square of each element of a given list: [1, 4, 9, 16, 25]\n"
     ]
    }
   ],
   "source": [
    "lst=[1,2,3,4,5]\n",
    "\n",
    "square=list(map(lambda x:x**2,lst))\n",
    "\n",
    "print(\"Square of each element of a given list:\",square)"
   ]
  },
  {
   "cell_type": "markdown",
   "id": "e1b21bb4-ffcb-4b00-ad3d-2526e160dae7",
   "metadata": {},
   "source": [
    "### 3. How does the `map()` function differ from a list comprehension in python and when would you choose one over the other."
   ]
  },
  {
   "cell_type": "markdown",
   "id": "c8bcc3ec-2280-43ca-a65b-edaea79a06f7",
   "metadata": {},
   "source": [
    "List comprehension returns a list, whereas the map function returns an object of Iterable."
   ]
  },
  {
   "cell_type": "code",
   "execution_count": 9,
   "id": "bc5755d3-74a7-408c-b031-e526a40ce80b",
   "metadata": {},
   "outputs": [
    {
     "name": "stdout",
     "output_type": "stream",
     "text": [
      "tuple of square of each element using map function: (1, 4, 9, 16, 25)\n",
      "list of square of each element using list comprehension: [1, 4, 9, 16, 25]\n"
     ]
    }
   ],
   "source": [
    "lst=[1,2,3,4,5]\n",
    "\n",
    "square_tuple=tuple(map(lambda x:x**2,lst))\n",
    "print(\"tuple of square of each element using map function:\",square_tuple)\n",
    "square_list=[x**2 for x in lst]\n",
    "print(\"list of square of each element using list comprehension:\",square_list)"
   ]
  },
  {
   "cell_type": "markdown",
   "id": "4e7ffc3d-5e04-4207-a436-defb07dfd715",
   "metadata": {},
   "source": [
    "### 4. Create a python program that uses the `map()` function to convert a list of names to uppercase."
   ]
  },
  {
   "cell_type": "code",
   "execution_count": 17,
   "id": "e4fd61b6-0daa-419f-8ce4-db36a1cdbfb7",
   "metadata": {},
   "outputs": [
    {
     "name": "stdout",
     "output_type": "stream",
     "text": [
      "list of names in uppercase latter: ['YESHA', 'MEGHA', 'JAY', 'MAHESH', 'NIMA']\n"
     ]
    }
   ],
   "source": [
    "lst_name=['yesha','megha','jay','mahesh','nima']\n",
    "\n",
    "lst_uppercase=list(map(str.upper,lst_name))\n",
    "\n",
    "print(\"list of names in uppercase latter:\",lst_uppercase)"
   ]
  },
  {
   "cell_type": "markdown",
   "id": "8e2e081c-9170-4448-b9e8-85ea9ab45093",
   "metadata": {},
   "source": [
    "### 5. Write a python program that uses the `map()` function to calculate the length of each word in a list of strings."
   ]
  },
  {
   "cell_type": "code",
   "execution_count": 18,
   "id": "434828e4-ea91-4cc2-80a3-2a7b90a96062",
   "metadata": {},
   "outputs": [
    {
     "name": "stdout",
     "output_type": "stream",
     "text": [
      "Length of a words in given list: [6, 3, 4, 5, 5]\n"
     ]
    }
   ],
   "source": [
    "lst=[\"yellow\",\"red\",\"blue\",\"black\",\"white\"]\n",
    "\n",
    "length=list(map(len,lst))\n",
    "\n",
    "print(\"Length of a words in given list:\",length)"
   ]
  },
  {
   "cell_type": "markdown",
   "id": "869fd478-ec50-4cbb-8ead-b107d4a118f6",
   "metadata": {},
   "source": [
    "### 6. How can you use the `map()` function to apply a custom function to elements of multiple lists simultaneously in python."
   ]
  },
  {
   "cell_type": "code",
   "execution_count": 22,
   "id": "775d1c32-7615-407f-b34a-b56cfeb1a53b",
   "metadata": {},
   "outputs": [
    {
     "name": "stdout",
     "output_type": "stream",
     "text": [
      "[1, 16, 729, 65536, 9765625]\n"
     ]
    }
   ],
   "source": [
    "lst=[1,2,3,4,5]\n",
    "\n",
    "def square(lst):\n",
    "    lst1=[]\n",
    "    for i in lst:\n",
    "        lst1.append(i**2)\n",
    "    return lst1\n",
    "\n",
    "lst2=list(map(pow,square(lst),lst))\n",
    "print(lst2)"
   ]
  },
  {
   "cell_type": "markdown",
   "id": "edf7649e-0278-4001-a8b5-ff2d4b81feb9",
   "metadata": {},
   "source": [
    "### 7. Create a python program that uses `map()` to convert a list of temperatures from Celsius to Fahrenheit."
   ]
  },
  {
   "cell_type": "code",
   "execution_count": 28,
   "id": "46ff9eec-15b7-41eb-9b2e-eb97e8f25921",
   "metadata": {},
   "outputs": [
    {
     "name": "stdout",
     "output_type": "stream",
     "text": [
      "List of temperatures in Fahrenheit: [-6.111, 5.556, 13.333, 23.889, 0.0, -11.111]\n"
     ]
    }
   ],
   "source": [
    "Celsius_temp=[21,42,56,75,32,12]\n",
    "Fahrenheit_temp=list(map(lambda F:round((F-32) * 5/9,3),Celsius_temp))\n",
    "print(\"List of temperatures in Fahrenheit:\",Fahrenheit_temp)"
   ]
  },
  {
   "cell_type": "markdown",
   "id": "6a7a01ef-4898-4656-929c-c777a9753c0c",
   "metadata": {},
   "source": [
    "### 8. Write a program that uses the `map()` function to round each element of a list of floating point numbers to the nearest integer."
   ]
  },
  {
   "cell_type": "code",
   "execution_count": 6,
   "id": "9f0145b1-8013-48de-b53c-c9db353f7b2b",
   "metadata": {},
   "outputs": [
    {
     "name": "stdout",
     "output_type": "stream",
     "text": [
      "[33, 34, 44, 42]\n"
     ]
    }
   ],
   "source": [
    "lst_float=[33.2424,34.3131,44.133331,42.2311]\n",
    "\n",
    "lst=list(map(lambda x:int(round(x,0)),lst_float))\n",
    "print(lst)"
   ]
  },
  {
   "cell_type": "markdown",
   "id": "fbc63e59-b358-4134-aabb-e0ae46c5437e",
   "metadata": {},
   "source": [
    "### Reduce\n",
    "---"
   ]
  },
  {
   "cell_type": "markdown",
   "id": "4408a9c4-a4d1-4e17-8118-06ed71f841bb",
   "metadata": {},
   "source": [
    "### 1. What is the `reduce()` function in python and what module should you import to use it? provide an example of its basic usage."
   ]
  },
  {
   "cell_type": "markdown",
   "id": "245c1d8e-de66-49ab-88bc-8a77abb4ed4e",
   "metadata": {},
   "source": [
    "The reduce(fun,seq) function is used to apply a particular function passed in its argument to all of the list elements mentioned in the sequence passed along."
   ]
  },
  {
   "cell_type": "code",
   "execution_count": 21,
   "id": "158a9390-3a5f-4695-b626-8eac889e34a9",
   "metadata": {},
   "outputs": [
    {
     "name": "stdout",
     "output_type": "stream",
     "text": [
      "Multiplication of all elements in list: 120\n"
     ]
    }
   ],
   "source": [
    "lst=[1,2,3,4,5]\n",
    "\n",
    "from functools import reduce\n",
    "lst1=reduce(lambda x,y:x*y,lst)\n",
    "\n",
    "print(\"Multiplication of all elements in list:\",lst1)"
   ]
  },
  {
   "cell_type": "markdown",
   "id": "7b7e34f8-f06b-4967-a066-9031609b912a",
   "metadata": {},
   "source": [
    "### 2. Write a python program that uses the `reduce()` function to find the product of all elements in a list."
   ]
  },
  {
   "cell_type": "code",
   "execution_count": 22,
   "id": "297b00fd-9529-45d7-9eaf-fcdd8b8aea89",
   "metadata": {},
   "outputs": [
    {
     "name": "stdout",
     "output_type": "stream",
     "text": [
      "Multiplication of all elements in list: 120\n"
     ]
    }
   ],
   "source": [
    "lst=[1,2,3,4,5]\n",
    "\n",
    "from functools import reduce\n",
    "lst1=reduce(lambda x,y:x*y,lst)\n",
    "\n",
    "print(\"Multiplication of all elements in list:\",lst1)"
   ]
  },
  {
   "cell_type": "markdown",
   "id": "8b6925e9-41dc-49f9-b83c-b743c6d5bf4c",
   "metadata": {},
   "source": [
    "### 3. Create a program that uses `reduce()` to find the maximum element in a list of numbers."
   ]
  },
  {
   "cell_type": "code",
   "execution_count": 24,
   "id": "1465305d-a896-40c6-9fb0-699403ea515f",
   "metadata": {},
   "outputs": [
    {
     "name": "stdout",
     "output_type": "stream",
     "text": [
      "Maximum element in a given list: 70\n"
     ]
    }
   ],
   "source": [
    "lst=[43,45,28,39,70,2]\n",
    "\n",
    "from functools import reduce\n",
    "max_number=reduce(max,lst)\n",
    "\n",
    "print(\"Maximum element in a given list:\",max_number)"
   ]
  },
  {
   "cell_type": "markdown",
   "id": "06774b58-f177-4c76-b64a-17ea833fac21",
   "metadata": {},
   "source": [
    "### 4. How can you use the `reduce()` function to concatenate a list of strings into a single string?"
   ]
  },
  {
   "cell_type": "code",
   "execution_count": 32,
   "id": "52e971da-d53f-41f3-8fbd-d4a52840ec16",
   "metadata": {},
   "outputs": [
    {
     "name": "stdout",
     "output_type": "stream",
     "text": [
      "String from the list: Hello! to the world\n"
     ]
    }
   ],
   "source": [
    "lst=['Hello!','to','the','world']\n",
    "\n",
    "from functools import reduce\n",
    "string=reduce(lambda x,y:x+\" \"+y,lst)\n",
    "\n",
    "print(\"String from the list:\",string)"
   ]
  },
  {
   "cell_type": "markdown",
   "id": "6fdc2a11-abff-4250-8ba1-0c2a83348e27",
   "metadata": {},
   "source": [
    "### 5. Write a program that calculates the factorial of a number using the `reduce()` function."
   ]
  },
  {
   "cell_type": "code",
   "execution_count": 35,
   "id": "0e0e427b-a011-409d-984d-4220d4cc3140",
   "metadata": {},
   "outputs": [
    {
     "name": "stdin",
     "output_type": "stream",
     "text": [
      "Enter a number: 5\n"
     ]
    },
    {
     "name": "stdout",
     "output_type": "stream",
     "text": [
      "Factorial of 5: 120\n"
     ]
    }
   ],
   "source": [
    "n=int(input(\"Enter a number:\"))\n",
    "lst=list(range(1,n+1))\n",
    "factorial=reduce(lambda x,y: x*y,lst)\n",
    "print(f\"Factorial of {n}:\",factorial)"
   ]
  },
  {
   "cell_type": "markdown",
   "id": "d910518f-c20c-4286-9a8b-e5f322b3dcb9",
   "metadata": {},
   "source": [
    "### 6. Create a program that uses `reduce()` to find GCD of a list of numbers."
   ]
  },
  {
   "cell_type": "code",
   "execution_count": 53,
   "id": "5d31e3b3-d96c-442f-9864-d029fc87d772",
   "metadata": {},
   "outputs": [
    {
     "name": "stdout",
     "output_type": "stream",
     "text": [
      "GCD of given list: 3\n"
     ]
    }
   ],
   "source": [
    "from functools import reduce\n",
    "def fun_gcd(a,b):\n",
    "    n=min(a,b)\n",
    "    gcd=1\n",
    "    for i in range(2,n+1):\n",
    "        if a%i==0 and b%i==0:\n",
    "            gcd=i\n",
    "    return gcd\n",
    "\n",
    "lst=[12, 24, 27, 30, 36]\n",
    "gcd_list=reduce(fun_gcd,lst)\n",
    "\n",
    "print(\"GCD of given list:\",gcd_list)"
   ]
  },
  {
   "cell_type": "markdown",
   "id": "7b02a674-41d7-4a53-958f-785583ad59a9",
   "metadata": {},
   "source": [
    "### 7. Write a program that uses the `reduce()` function to find the sum of the digits of a given number."
   ]
  },
  {
   "cell_type": "code",
   "execution_count": 12,
   "id": "276fec7c-9ded-4ccf-89a3-0e22c19dfdae",
   "metadata": {},
   "outputs": [
    {
     "name": "stdin",
     "output_type": "stream",
     "text": [
      "Enter the number: 123\n"
     ]
    },
    {
     "name": "stdout",
     "output_type": "stream",
     "text": [
      "Sum of digits of given number: 6\n"
     ]
    }
   ],
   "source": [
    "num=int(input(\"Enter the number:\"))\n",
    "num=str(num)\n",
    "num_list=[int(x) for x in num]\n",
    "\n",
    "from functools import reduce\n",
    "r=reduce(lambda x,y:x+y,num_list)\n",
    "print(\"Sum of digits of given number:\",r)"
   ]
  },
  {
   "cell_type": "markdown",
   "id": "b0595a6d-f710-4eb2-914d-34d40dccecf2",
   "metadata": {},
   "source": [
    "### Filter\n",
    "---"
   ]
  },
  {
   "cell_type": "markdown",
   "id": "026390e1-6746-4f85-97a5-0842d429e02f",
   "metadata": {},
   "source": [
    "### 1. Explain the purpose of the `filter()` function in python provide an example of how it can be used to filter elements from an iterable."
   ]
  },
  {
   "cell_type": "markdown",
   "id": "a7b8f0fb-c2e1-4ae3-858b-92ae941f554a",
   "metadata": {},
   "source": [
    "Filter() is a built-in function in Python. The filter function can be applied to an iterable such as a list or a dictionary and create a new iterator. This new iterator can filter out certain specific elements based on the condition that you provide very efficiently."
   ]
  },
  {
   "cell_type": "code",
   "execution_count": 16,
   "id": "5acd84d2-7fbe-4fd1-b26a-5d630ef24b3f",
   "metadata": {},
   "outputs": [
    {
     "name": "stdout",
     "output_type": "stream",
     "text": [
      "Even numbers from the given list: [1, 3, 5, 7]\n"
     ]
    }
   ],
   "source": [
    "lst=[1,2,3,4,5,6,7,8]\n",
    "\n",
    "lst1=filter(lambda x:x%2!=0,lst)\n",
    "\n",
    "print(\"Even numbers from the given list:\",list(lst1))"
   ]
  },
  {
   "cell_type": "markdown",
   "id": "1ab035a4-3e7c-48ee-add6-f2269ea96f8d",
   "metadata": {},
   "source": [
    "### 2. Write a program that uses the `filter()` function to select even numbers from a list of integers."
   ]
  },
  {
   "cell_type": "code",
   "execution_count": 15,
   "id": "d608a32f-2f99-44a8-9672-fde81cd6fff2",
   "metadata": {},
   "outputs": [
    {
     "name": "stdout",
     "output_type": "stream",
     "text": [
      "Even numbers from the given list: [2, 4, 6, 8]\n"
     ]
    }
   ],
   "source": [
    "lst=[1,2,3,4,5,6,7,8]\n",
    "\n",
    "lst1=filter(lambda x:x%2==0,lst)\n",
    "\n",
    "print(\"Even numbers from the given list:\",list(lst1))"
   ]
  },
  {
   "cell_type": "markdown",
   "id": "67d08ce8-ca37-44cd-9eb9-78e96c9aab4a",
   "metadata": {},
   "source": [
    "### 3. Create a program that uses the `filter()` function to select names that start with a specific letter from a list of strings."
   ]
  },
  {
   "cell_type": "code",
   "execution_count": 17,
   "id": "968b3385-9ea1-4177-9fbd-4c1971c3850e",
   "metadata": {},
   "outputs": [
    {
     "name": "stdout",
     "output_type": "stream",
     "text": [
      "Worlds start with 'b': ['black', 'blue', 'brown']\n"
     ]
    }
   ],
   "source": [
    "lst=[\"black\",\"orange\",\"red\",\"yellow\",\"blue\",\"brown\"]\n",
    "\n",
    "s=list(filter(lambda x:x[0]==\"b\",lst))\n",
    "\n",
    "print(\"Worlds start with 'b':\",s)"
   ]
  },
  {
   "cell_type": "markdown",
   "id": "7869c5be-b24d-46b9-b7ae-9d0a6518cf9a",
   "metadata": {},
   "source": [
    "### 4. Write a program that uses the `filter()` function to select prime numbers from a list of integers."
   ]
  },
  {
   "cell_type": "code",
   "execution_count": 18,
   "id": "ce2ded93-5cc2-41b5-8ff7-537db7e87ff6",
   "metadata": {},
   "outputs": [
    {
     "name": "stdout",
     "output_type": "stream",
     "text": [
      "Prime numbers from the given list: [2, 3, 5, 7]\n"
     ]
    }
   ],
   "source": [
    "lst=[1,2,3,4,5,6,7]\n",
    "\n",
    "def prime(n):\n",
    "    t=0\n",
    "    if (n==2):\n",
    "        return True\n",
    "    for i in range(2,n):\n",
    "        if (n%i==0):\n",
    "            t=0\n",
    "            break \n",
    "        else:\n",
    "            t+=1\n",
    "    if (t!=0):\n",
    "        return True\n",
    "    return False\n",
    "\n",
    "prime_list=list(filter(prime,lst))\n",
    "\n",
    "print(\"Prime numbers from the given list:\",prime_list)"
   ]
  },
  {
   "cell_type": "markdown",
   "id": "77c0f694-9d26-470a-88d1-4659c5b3217e",
   "metadata": {},
   "source": [
    "### 5. How can you use the `filter()` function to remove None values from a list in python?"
   ]
  },
  {
   "cell_type": "code",
   "execution_count": 2,
   "id": "28242a16-d3b6-4362-b90b-2106cc77a114",
   "metadata": {},
   "outputs": [
    {
     "name": "stdout",
     "output_type": "stream",
     "text": [
      "After removing non values from a list: [1, 4, 2, 2, 3]\n"
     ]
    }
   ],
   "source": [
    "lst=[1, None, 4 , None, 2, None, 2, 3]\n",
    "\n",
    "remove=list(filter(lambda x: x is not None,lst))\n",
    "\n",
    "print(\"After removing non values from a list:\",remove)"
   ]
  },
  {
   "cell_type": "markdown",
   "id": "1f905e47-9466-4b33-962b-b19b632c85a7",
   "metadata": {},
   "source": [
    "### 6. Create a program that uses `filter()` function to select words longer than a certain length from a list of strings."
   ]
  },
  {
   "cell_type": "code",
   "execution_count": 4,
   "id": "606d035d-803e-419c-b716-b12819feee2f",
   "metadata": {},
   "outputs": [
    {
     "name": "stdout",
     "output_type": "stream",
     "text": [
      "List of words with length more than 4: ['yellow', 'black', 'green']\n"
     ]
    }
   ],
   "source": [
    "lst=['red','yellow','black','blue','green']\n",
    "\n",
    "a=list(filter(lambda x: len(x)>4,lst))\n",
    "\n",
    "print(\"List of words with length more than 4:\",a)"
   ]
  },
  {
   "cell_type": "markdown",
   "id": "d9116611-fe61-427d-bd52-bfb573d3501f",
   "metadata": {},
   "source": [
    "### 7. Write a Python program that uses the `filter()` function to select elements greater than a specified threhold from a list of values."
   ]
  },
  {
   "cell_type": "code",
   "execution_count": 5,
   "id": "8ec4e81c-03a4-44b2-bedf-d10454bb10eb",
   "metadata": {},
   "outputs": [
    {
     "name": "stdout",
     "output_type": "stream",
     "text": [
      "List of words with length more than 4: ['Rajat', 'Shreya', 'Soham']\n"
     ]
    }
   ],
   "source": [
    "lst=['Riya','Rajat','Shreya','Nima','Soham']\n",
    "\n",
    "a=list(filter(lambda x: len(x)>4,lst))\n",
    "\n",
    "print(\"List of words with length more than 4:\",a)"
   ]
  },
  {
   "cell_type": "markdown",
   "id": "b5d2cb96-bd44-4473-b476-70641bd38199",
   "metadata": {},
   "source": [
    "### Recursion :\n",
    "---"
   ]
  },
  {
   "cell_type": "markdown",
   "id": "451bf003-72b2-4596-98a9-926804411624",
   "metadata": {},
   "source": [
    "### 1. Explain the concept of recursion in Python. How does it differ from iteration?"
   ]
  },
  {
   "cell_type": "markdown",
   "id": "9613c708-206b-4d9b-b555-1cd601f6b179",
   "metadata": {},
   "source": [
    "--Recursion is when a function calls itself within its code, thus repeatedly executing the instructions present inside it. Iteration is when a loop repeatedly executes the set of instructions like \"for\" loops and \"while\" loops."
   ]
  },
  {
   "cell_type": "markdown",
   "id": "ee05bb81-5e6d-4244-b3b1-eb113c9c4a66",
   "metadata": {},
   "source": [
    "### 2. Write a python program to calculate the factorial of a number using recursion."
   ]
  },
  {
   "cell_type": "code",
   "execution_count": 3,
   "id": "af47d9ae-4a85-4158-b1ec-6915a15178b7",
   "metadata": {},
   "outputs": [
    {
     "name": "stdin",
     "output_type": "stream",
     "text": [
      "Enter a number which you want to find factorial: 5\n"
     ]
    },
    {
     "name": "stdout",
     "output_type": "stream",
     "text": [
      "Factorial of 5 is: 120\n"
     ]
    }
   ],
   "source": [
    "def fact(n):\n",
    "    if (n==0):\n",
    "        return 1\n",
    "    else:\n",
    "        return n*fact(n-1)\n",
    "    \n",
    "n=int(input(\"Enter a number which you want to find factorial:\"))\n",
    "\n",
    "print(f\"Factorial of {n} is:\",fact(n))"
   ]
  },
  {
   "cell_type": "markdown",
   "id": "6e669bbd-ac8d-4ccd-86aa-e7321184d37e",
   "metadata": {},
   "source": [
    "### 3. Create a recursive Python function to find the nth Fibonacci number."
   ]
  },
  {
   "cell_type": "code",
   "execution_count": 7,
   "id": "8279feaf-3dd8-4549-ad4d-84a3637d8bfa",
   "metadata": {},
   "outputs": [
    {
     "name": "stdin",
     "output_type": "stream",
     "text": [
      "Enter a number: 5\n"
     ]
    },
    {
     "name": "stdout",
     "output_type": "stream",
     "text": [
      "5th Fibonacci number is: 3\n"
     ]
    }
   ],
   "source": [
    "def fibonacci(n):\n",
    "    if (n==1):\n",
    "        return 0\n",
    "    elif (n==2):\n",
    "        return 1\n",
    "    else:\n",
    "        return fibonacci(n-2)+fibonacci(n-1)\n",
    "    \n",
    "n=int(input(\"Enter a number:\"))\n",
    "\n",
    "print(f\"{n}th Fibonacci number is:\",fibonacci(n))"
   ]
  },
  {
   "cell_type": "markdown",
   "id": "e4474620-d4f4-4102-a9c3-b70f3c8fa20b",
   "metadata": {},
   "source": [
    "### 4. Write a recursive Python function to calculate the sum of all elements in a list."
   ]
  },
  {
   "cell_type": "code",
   "execution_count": 12,
   "id": "3147dde8-3c48-4f69-bacf-8312fc2a790d",
   "metadata": {},
   "outputs": [
    {
     "name": "stdout",
     "output_type": "stream",
     "text": [
      "Sum of elements in the given list: 116\n"
     ]
    }
   ],
   "source": [
    "lst=[11,12,13,14,15,16,17,18]\n",
    "\n",
    "def sum_recursive(lst,num):\n",
    "    if len(lst):\n",
    "        return sum_recursive(lst[1:],num+lst[0])\n",
    "    else:\n",
    "        return num\n",
    "    \n",
    "print(\"Sum of elements in the given list:\",sum_recursive(lst,0))"
   ]
  },
  {
   "cell_type": "markdown",
   "id": "d038f638-c86f-48cd-98d5-53097ed1dce5",
   "metadata": {},
   "source": [
    "### 5. How can you prevent a recursive function from running identifinitely, causing a stack overflow error?"
   ]
  },
  {
   "cell_type": "markdown",
   "id": "96a150bb-ee62-4f2d-8751-fb2222f96ee4",
   "metadata": {},
   "source": [
    "--If the recursive function is made tail-recursive then it is more efficient than a non-tail-recursive function because every function call does not need to go on stack and pop when the call is done. And it prevents the ugly stack overflow."
   ]
  },
  {
   "cell_type": "markdown",
   "id": "52cb6012-6294-4d4d-9dea-aad1a0799f6f",
   "metadata": {},
   "source": [
    "### 6. Create a recursive Python function to find the GCD of two numbers using the Euclidean algorithm."
   ]
  },
  {
   "cell_type": "code",
   "execution_count": 11,
   "id": "27ae3af4-6639-42f2-bbcd-400dce8876a5",
   "metadata": {},
   "outputs": [
    {
     "name": "stdin",
     "output_type": "stream",
     "text": [
      "Enter a two numbers 2 5\n"
     ]
    },
    {
     "name": "stdout",
     "output_type": "stream",
     "text": [
      "GCD of two numbers: 1\n"
     ]
    }
   ],
   "source": [
    "def GCD(a,b):\n",
    "    if (a<b):\n",
    "        a,b=b,a\n",
    "    a,b=b,a%b\n",
    "    if (b!=0):\n",
    "        return GCD(a,b)\n",
    "    else:\n",
    "        return a\n",
    "    \n",
    "a,b=[int(x) for x in input(\"Enter a two numbers\").split()]\n",
    "print(\"GCD of two numbers:\",GCD(a,b))"
   ]
  },
  {
   "cell_type": "markdown",
   "id": "066c885a-a8fc-43d1-bb44-04b345d7e250",
   "metadata": {},
   "source": [
    "### 7. Write recursive Python function to reverse a string."
   ]
  },
  {
   "cell_type": "code",
   "execution_count": 3,
   "id": "87779cb3-f69b-4afa-b482-c76909c3b572",
   "metadata": {},
   "outputs": [
    {
     "name": "stdin",
     "output_type": "stream",
     "text": [
      "Enter a string: hello\n"
     ]
    },
    {
     "name": "stdout",
     "output_type": "stream",
     "text": [
      "Reverse of the given string: olleh\n"
     ]
    }
   ],
   "source": [
    "s=str(input(\"Enter a string:\"))\n",
    "\n",
    "def reversestring(s):\n",
    "    if (s==\"\"):\n",
    "        return s\n",
    "    else:\n",
    "        return reversestring(s[1:])+s[0]\n",
    "\n",
    "print(\"Reverse of the given string:\",reversestring(s))"
   ]
  },
  {
   "cell_type": "markdown",
   "id": "c6bb7783-5be2-4c23-b4d1-86bf6c0bf75e",
   "metadata": {},
   "source": [
    "### 8. Create a recursive Python function to calculate the power of a number x^n."
   ]
  },
  {
   "cell_type": "code",
   "execution_count": 10,
   "id": "43af098c-0188-44a1-8812-219df32ff529",
   "metadata": {},
   "outputs": [
    {
     "name": "stdin",
     "output_type": "stream",
     "text": [
      "Enter the value of x: 2\n",
      "Enter the value of n: 5\n"
     ]
    },
    {
     "name": "stdout",
     "output_type": "stream",
     "text": [
      "2^5 : 32\n"
     ]
    }
   ],
   "source": [
    "x=int(input(\"Enter the value of x:\"))\n",
    "n=int(input(\"Enter the value of n:\"))\n",
    "\n",
    "def power(x,n):\n",
    "    if n==0:\n",
    "        return 1\n",
    "    else:\n",
    "        return x*power(x,n-1)\n",
    "    \n",
    "print(f\"{x}^{n} :\",power(x,n))"
   ]
  },
  {
   "cell_type": "markdown",
   "id": "a43a309d-cfac-4f9f-b7f6-8dcae26ec4e0",
   "metadata": {},
   "source": [
    "### 9. Write a recursive Python function to find all permutations of a given string."
   ]
  },
  {
   "cell_type": "code",
   "execution_count": 46,
   "id": "64a087fd-f7b1-4929-a916-8e5534d3ab8d",
   "metadata": {},
   "outputs": [
    {
     "name": "stdout",
     "output_type": "stream",
     "text": [
      "ABC\n",
      "ACB\n",
      "BAC\n",
      "BCA\n",
      "CBA\n",
      "CAB\n"
     ]
    }
   ],
   "source": [
    "def swap(ch, i, j):\n",
    "    temp = ch[i]\n",
    "    ch[i] = ch[j]\n",
    "    ch[j] = temp\n",
    "\n",
    "def permutations(ch, curr_index=0):\n",
    " \n",
    "    if curr_index == len(ch) - 1:\n",
    "        print(''.join(ch))\n",
    " \n",
    "    for i in range(curr_index, len(ch)):\n",
    "        swap(ch, curr_index, i)\n",
    "        permutations(ch, curr_index + 1)\n",
    "        swap(ch, curr_index, i)\n",
    "\n",
    "permutations(list(\"ABC\"))"
   ]
  },
  {
   "cell_type": "markdown",
   "id": "ba7f3cf9-58bf-4eac-afb7-1572da96b96e",
   "metadata": {},
   "source": [
    "### 10. Write a recursive Python function to check if a string is a palindrome."
   ]
  },
  {
   "cell_type": "code",
   "execution_count": 42,
   "id": "a348db59-ca4f-489b-8824-21e2bfacbe43",
   "metadata": {},
   "outputs": [
    {
     "name": "stdin",
     "output_type": "stream",
     "text": [
      "Enter a string: refer\n"
     ]
    },
    {
     "name": "stdout",
     "output_type": "stream",
     "text": [
      "Given string is palindrome\n"
     ]
    }
   ],
   "source": [
    "s=str(input(\"Enter a string:\"))\n",
    "a=0\n",
    "b=len(s)-1\n",
    "\n",
    "def palindrome(s,a,b):\n",
    "    if (a>=b):\n",
    "        return True\n",
    "    if (s[a]!=s[b]):\n",
    "        return False\n",
    "    return palindrome(s,a+1,b-1)\n",
    "\n",
    "if palindrome(s,a,b):\n",
    "    print(\"Given string is palindrome\")\n",
    "else:\n",
    "    print(\"Given string is not palindrome\")"
   ]
  },
  {
   "cell_type": "markdown",
   "id": "b1968d76-dccd-428f-bb8a-1fd588071c9e",
   "metadata": {},
   "source": [
    "### 11. Create a recursive Python function to generate all possible combinations of a list of elements."
   ]
  },
  {
   "cell_type": "code",
   "execution_count": 48,
   "id": "ec351ce0-d3ed-4dfc-834d-e3844a974cb2",
   "metadata": {},
   "outputs": [
    {
     "name": "stdout",
     "output_type": "stream",
     "text": [
      "[1, 2, 3]\n",
      "[1, 3, 2]\n",
      "[2, 1, 3]\n",
      "[2, 3, 1]\n",
      "[3, 2, 1]\n",
      "[3, 1, 2]\n"
     ]
    }
   ],
   "source": [
    "def swap(ch, i, j):\n",
    "    temp = ch[i]\n",
    "    ch[i] = ch[j]\n",
    "    ch[j] = temp\n",
    "\n",
    "def permutations(ch, curr_index=0):\n",
    " \n",
    "    if curr_index == len(ch) - 1:\n",
    "        print(list(ch))\n",
    " \n",
    "    for i in range(curr_index, len(ch)):\n",
    "        swap(ch, curr_index, i)\n",
    "        permutations(ch, curr_index + 1)\n",
    "        swap(ch, curr_index, i)\n",
    "\n",
    "permutations(list([1,2,3]))"
   ]
  },
  {
   "cell_type": "markdown",
   "id": "74ae053e-f02a-4cd0-b7d7-41b4533d5eac",
   "metadata": {},
   "source": [
    "### Basics of Functions:\n",
    "---"
   ]
  },
  {
   "cell_type": "markdown",
   "id": "6302ceab-faa7-402a-9a21-c7b914c191a9",
   "metadata": {},
   "source": [
    "### 1. What is function in Python, and why is it used?"
   ]
  },
  {
   "cell_type": "markdown",
   "id": "0fd18cdf-484b-4b06-b06b-bcd34eae2c94",
   "metadata": {},
   "source": [
    "--Functions in Python. You use functions in programming to bundle a set of instructions that you want to use repeatedly or that, because of their complexity, are better self-contained in a sub-program and called when needed."
   ]
  },
  {
   "cell_type": "markdown",
   "id": "5ef4750c-efd3-4915-aae1-003da5eac052",
   "metadata": {},
   "source": [
    "### 2. How do you define a function in Python? Provide an example."
   ]
  },
  {
   "cell_type": "markdown",
   "id": "9f6b2f02-c8f0-4e9e-b4a7-fa74ac5de927",
   "metadata": {},
   "source": [
    "--Python provides the `def` keyword"
   ]
  },
  {
   "cell_type": "code",
   "execution_count": 7,
   "id": "59ac960d-0e7f-4846-b82c-355618952fd1",
   "metadata": {},
   "outputs": [
    {
     "name": "stdout",
     "output_type": "stream",
     "text": [
      "[1, 8, 27, 64, 125]\n"
     ]
    }
   ],
   "source": [
    "lst=[1,2,3,4,5]\n",
    "\n",
    "def power_3(a):\n",
    "    lst1=[]\n",
    "    for i in a:\n",
    "        lst1.append(i**3)\n",
    "    return lst1\n",
    "\n",
    "print(power_3(lst))"
   ]
  },
  {
   "cell_type": "markdown",
   "id": "3f8a8f23-388a-44eb-95fd-e8dd8ec73214",
   "metadata": {},
   "source": [
    "### 3. Explain the difference between a function definition and a function call."
   ]
  },
  {
   "cell_type": "markdown",
   "id": "7f16ecfb-ebb9-453f-9b6e-6b978890ca36",
   "metadata": {},
   "source": [
    "--a function definition is a block of code that performs a specific task, while a function call is an expression that invokes a function and executes the code in the function."
   ]
  },
  {
   "cell_type": "markdown",
   "id": "80a71c15-7c6b-4fa5-a480-0cf5eb0224ea",
   "metadata": {},
   "source": [
    "### 4. Write a Python program that defines a function to calculate the sum of two numbers and then call the function."
   ]
  },
  {
   "cell_type": "code",
   "execution_count": 10,
   "id": "ed830480-f3b5-4573-a8b4-0fbd07876b56",
   "metadata": {},
   "outputs": [],
   "source": [
    "def sum_fun(a,b):\n",
    "    print(\"Sum:\",a+b)"
   ]
  },
  {
   "cell_type": "code",
   "execution_count": 11,
   "id": "81dd4a57-7708-4219-831a-c77ca5fffecb",
   "metadata": {},
   "outputs": [
    {
     "name": "stdout",
     "output_type": "stream",
     "text": [
      "Sum: 5\n"
     ]
    }
   ],
   "source": [
    "sum_fun(2,3)"
   ]
  },
  {
   "cell_type": "markdown",
   "id": "6ec45f1a-22e2-4f80-ba93-17b909ce6ead",
   "metadata": {},
   "source": [
    "### 5. What is a function signature and what information does it typically include?"
   ]
  },
  {
   "cell_type": "markdown",
   "id": "976fb089-b188-4ae4-864a-39f356e613ae",
   "metadata": {},
   "source": [
    "--A function signature defines input and output of functions or methods.\n",
    "\n",
    "--A signature can include:\n",
    "1) parameters and their types\n",
    "2) a return value and type"
   ]
  },
  {
   "cell_type": "markdown",
   "id": "44cc8661-b45c-4ed7-89ab-95746fa90733",
   "metadata": {},
   "source": [
    "### 6. Create a Python function that takes two arguments and returns their product."
   ]
  },
  {
   "cell_type": "code",
   "execution_count": 12,
   "id": "b3b1d271-e36e-4e20-af10-c37aefd460a4",
   "metadata": {},
   "outputs": [],
   "source": [
    "def prod_fun(a,b):\n",
    "    return a*b"
   ]
  },
  {
   "cell_type": "code",
   "execution_count": 13,
   "id": "ee0bbd16-ea9e-49ef-9232-0fae923cc580",
   "metadata": {},
   "outputs": [
    {
     "data": {
      "text/plain": [
       "6"
      ]
     },
     "execution_count": 13,
     "metadata": {},
     "output_type": "execute_result"
    }
   ],
   "source": [
    "prod_fun(2,3)"
   ]
  },
  {
   "cell_type": "markdown",
   "id": "c12ba3cd-f6a0-4162-926c-5265e149303f",
   "metadata": {},
   "source": [
    "### Function Parameters and Arguments :\n",
    "---"
   ]
  },
  {
   "cell_type": "markdown",
   "id": "c315ad79-9615-485f-8ca2-0167e807cecf",
   "metadata": {},
   "source": [
    "### 1. Explain the concepts of formal parameters and actual arguments in Python functions."
   ]
  },
  {
   "cell_type": "markdown",
   "id": "fbe83f0a-f195-43e4-ae9e-597c08f828f6",
   "metadata": {},
   "source": [
    "--formal parameters are declared on calling the function and the actual parameter is declared on invoking."
   ]
  },
  {
   "cell_type": "markdown",
   "id": "46706986-b826-472f-ab4f-b51a727b8f03",
   "metadata": {},
   "source": [
    "### 2. Write a Python program that defines a function with default argument values."
   ]
  },
  {
   "cell_type": "code",
   "execution_count": 16,
   "id": "b9fed556-50cc-420f-bd97-cc2e428ce0af",
   "metadata": {},
   "outputs": [
    {
     "data": {
      "text/plain": [
       "14"
      ]
     },
     "execution_count": 16,
     "metadata": {},
     "output_type": "execute_result"
    }
   ],
   "source": [
    "def sum1(a=5,b=9):\n",
    "    return a+b\n",
    "\n",
    "sum1()"
   ]
  },
  {
   "cell_type": "markdown",
   "id": "019e8994-e90e-43ec-b12f-f2de0b651645",
   "metadata": {},
   "source": [
    "### 3. How do you use keyword arguments in Python function calls? provide an example."
   ]
  },
  {
   "cell_type": "markdown",
   "id": "f967b847-fcbb-4895-9d53-37eaa2e73262",
   "metadata": {},
   "source": [
    "--In keyword arguments, arguments are assigned based on the name of arguments."
   ]
  },
  {
   "cell_type": "code",
   "execution_count": 23,
   "id": "710f205e-e1fd-494c-a55b-fab861a3e503",
   "metadata": {},
   "outputs": [
    {
     "name": "stdout",
     "output_type": "stream",
     "text": [
      "Sum: 15\n"
     ]
    }
   ],
   "source": [
    "def arguments(*numbers):\n",
    "    result=0\n",
    "    for i in numbers:\n",
    "        result+=i\n",
    "    return result\n",
    "\n",
    "print(\"Sum:\",arguments(1,2,3,4,5))"
   ]
  },
  {
   "cell_type": "markdown",
   "id": "ee690232-2f68-4e23-9c07-234a84d5944c",
   "metadata": {},
   "source": [
    "### 4. Create a Python function that accepts a variable number of arguments and calculates their sum."
   ]
  },
  {
   "cell_type": "code",
   "execution_count": 24,
   "id": "195060ee-f965-4fc1-bb96-3185c9bd2495",
   "metadata": {},
   "outputs": [
    {
     "name": "stdout",
     "output_type": "stream",
     "text": [
      "Sum: 15\n"
     ]
    }
   ],
   "source": [
    "def arguments(*numbers):\n",
    "    result=0\n",
    "    for i in numbers:\n",
    "        result+=i\n",
    "    return result\n",
    "\n",
    "print(\"Sum:\",arguments(1,2,3,4,5))"
   ]
  },
  {
   "cell_type": "markdown",
   "id": "ac101d9e-2649-4f23-ac80-889c6441a136",
   "metadata": {},
   "source": [
    "### 5. What is the purpose of the `*args` and `**kwargs` syntax in function parameter lists?"
   ]
  },
  {
   "cell_type": "markdown",
   "id": "31ad6202-bb58-42a5-96b9-0e5476090a8b",
   "metadata": {},
   "source": [
    "-- *args passes variable number of non-keyworded arguments and on which operation of the tuple can be performed. **kwargs passes variable number of keyword arguments dictionary to function on which operation of a dictionary can be performed."
   ]
  },
  {
   "cell_type": "markdown",
   "id": "cc287909-7932-4a17-aaba-d717f324dcdc",
   "metadata": {},
   "source": [
    "### Return Values and Scoping :\n",
    "---"
   ]
  },
  {
   "cell_type": "markdown",
   "id": "f2881fbc-f780-4fc2-94e1-5df982ee5436",
   "metadata": {},
   "source": [
    "### 1. Describe the role of the `return` statement in Python functions and provide examples."
   ]
  },
  {
   "cell_type": "markdown",
   "id": "0e370374-5230-439c-91d3-0e1fff682175",
   "metadata": {},
   "source": [
    "-- A return statement is used to end the execution of the function call and “returns” the result (value of the expression following the return keyword) to the caller."
   ]
  },
  {
   "cell_type": "code",
   "execution_count": 25,
   "id": "c5985c38-f2a6-457b-a6b8-d3f15fcde689",
   "metadata": {},
   "outputs": [
    {
     "data": {
      "text/plain": [
       "14"
      ]
     },
     "execution_count": 25,
     "metadata": {},
     "output_type": "execute_result"
    }
   ],
   "source": [
    "def sum1(a=5,b=9):\n",
    "    return a+b\n",
    "\n",
    "sum1()"
   ]
  },
  {
   "cell_type": "markdown",
   "id": "05c83d35-8a8d-440c-ac76-8f517947eeec",
   "metadata": {},
   "source": [
    "### 2. Explain the concept of variable scope in Python, including local and global variables."
   ]
  },
  {
   "cell_type": "markdown",
   "id": "645542bc-e24b-4701-8e70-c66f3f74fc80",
   "metadata": {},
   "source": [
    "-- Python Global variables are those which are not defined inside any function and have a global scope whereas Python local variables are those which are defined inside a function and their scope is limited to that function only. "
   ]
  },
  {
   "cell_type": "markdown",
   "id": "a7a59a78-dfdc-4125-9b57-2b9d1f3a277a",
   "metadata": {},
   "source": [
    "### 3. Write a program that demonstrates the use of global variables within functions."
   ]
  },
  {
   "cell_type": "code",
   "execution_count": 29,
   "id": "f768e830-03bd-4bab-a2cd-cb5fa6c9e5ef",
   "metadata": {},
   "outputs": [
    {
     "name": "stdout",
     "output_type": "stream",
     "text": [
      "30\n",
      "x= 10\n"
     ]
    }
   ],
   "source": [
    "def fun(a):\n",
    "    global x\n",
    "    x=10\n",
    "    return a+x\n",
    "\n",
    "print(fun(20))\n",
    "print(\"x=\",x)"
   ]
  },
  {
   "cell_type": "markdown",
   "id": "bea9f659-a73e-4da5-bf87-f6756ef82569",
   "metadata": {},
   "source": [
    "### 4. Create a Python function that calculates the factorial of a number and returns it."
   ]
  },
  {
   "cell_type": "code",
   "execution_count": 1,
   "id": "e0969ec0-40ac-4ee0-827e-4634b09377c6",
   "metadata": {},
   "outputs": [
    {
     "name": "stdin",
     "output_type": "stream",
     "text": [
      "Enter a number: 5\n"
     ]
    },
    {
     "name": "stdout",
     "output_type": "stream",
     "text": [
      "Factorial of 5 is 120\n"
     ]
    }
   ],
   "source": [
    "def fact(n):\n",
    "    prod=1\n",
    "    for i in range(1,n+1):\n",
    "        prod*=i\n",
    "    return prod\n",
    "\n",
    "n=int(input(\"Enter a number:\"))\n",
    "print(f\"Factorial of {n} is {fact(n)}\")\n",
    "    "
   ]
  },
  {
   "cell_type": "markdown",
   "id": "f8d84e97-9755-4ac4-953f-18bad7dbadfb",
   "metadata": {},
   "source": [
    "### 5. How can you access variables defined outside a function from within the function?"
   ]
  },
  {
   "cell_type": "markdown",
   "id": "2b7fad4e-5769-453f-a6ad-a591ebc3dc3f",
   "metadata": {},
   "source": [
    "-- Use the object attribute syntax to access a variable outside of a function. In a function named func , use the syntax func. variable = value to store value in variable as an attribute of func . \n"
   ]
  },
  {
   "cell_type": "code",
   "execution_count": 2,
   "id": "bcbece23-b51e-4c54-9388-cc9aaab5769c",
   "metadata": {},
   "outputs": [
    {
     "name": "stdout",
     "output_type": "stream",
     "text": [
      "John\n"
     ]
    }
   ],
   "source": [
    "def func():\n",
    "      func.variable = \"John\"\n",
    "\n",
    "func()\n",
    "\n",
    "print(func.variable)"
   ]
  },
  {
   "cell_type": "markdown",
   "id": "d8c49c8f-1d7e-4046-88a5-2c079eeeb252",
   "metadata": {},
   "source": [
    "### Lambda Functions and Higher-Order Functions :\n",
    "---"
   ]
  },
  {
   "cell_type": "markdown",
   "id": "a2d530c4-d6da-49c9-8634-bda954b45a32",
   "metadata": {},
   "source": [
    "### 1. What are lambda functions in Python, and when are they typically used?"
   ]
  },
  {
   "cell_type": "markdown",
   "id": "38003b8d-9ca2-4a52-9559-2fb4c8c4377a",
   "metadata": {},
   "source": [
    "-- Python Lambda Functions are anonymous function means that the function is without a name."
   ]
  },
  {
   "cell_type": "markdown",
   "id": "94b4d65c-9536-4a11-a6c1-7a463f81054c",
   "metadata": {},
   "source": [
    "### 2. Write a Python program that uses lambda functions to sort a list of tuples based on the second element."
   ]
  },
  {
   "cell_type": "code",
   "execution_count": 4,
   "id": "20a16031-1385-40de-8131-9f8a847a6b9f",
   "metadata": {},
   "outputs": [
    {
     "name": "stdout",
     "output_type": "stream",
     "text": [
      "Original list of tuple: [('English', 88), ('Science', 90), ('Maths', 97), ('Social sciences', 82)]\n",
      "Sorted list of tuple: [('Social sciences', 82), ('English', 88), ('Science', 90), ('Maths', 97)]\n"
     ]
    }
   ],
   "source": [
    "tup_list=[('English', 88), ('Science', 90), ('Maths', 97), ('Social sciences', 82)]\n",
    "print(\"Original list of tuple:\",tup_list)\n",
    "\n",
    "tup_list.sort(key= lambda x : x[1])\n",
    "\n",
    "print(\"Sorted list of tuple:\",tup_list)"
   ]
  },
  {
   "cell_type": "markdown",
   "id": "f21188b2-5390-47cc-9109-bb7e513c5b5e",
   "metadata": {},
   "source": [
    "### 3. Explain the concept of higher-order functions in python, and provide an example."
   ]
  },
  {
   "cell_type": "markdown",
   "id": "2c849073-fc5b-40fa-b933-bd348b06b38f",
   "metadata": {},
   "source": [
    "-- Higher-order functions are functions that take a function as a parameter and/or return a function as an output."
   ]
  },
  {
   "cell_type": "markdown",
   "id": "61172c85-2fc2-4853-b5ef-4f8e6da99d5f",
   "metadata": {},
   "source": [
    "-- A few useful higher-order functions are map() , filter() , and reduce() . map() and filter() are built-in functions, whereas reduce() is contained in functools() module."
   ]
  },
  {
   "cell_type": "code",
   "execution_count": 6,
   "id": "d0a60399-cc86-45bc-b34b-656d31c88b5f",
   "metadata": {},
   "outputs": [
    {
     "name": "stdout",
     "output_type": "stream",
     "text": [
      "[1, 4, 9, 16, 25]\n"
     ]
    }
   ],
   "source": [
    "num=[1,2,3,4,5]\n",
    "square=map(lambda x: x**2 , num)\n",
    "print (list(square))"
   ]
  },
  {
   "cell_type": "markdown",
   "id": "513fceb5-7c08-416f-a7e4-ae4b252df92c",
   "metadata": {},
   "source": [
    "### 4. Create a Python function that takes a list of numbers and a function as arguments, applying the function to each element in the list."
   ]
  },
  {
   "cell_type": "code",
   "execution_count": 1,
   "id": "2e88f4a3-ea24-4591-bac9-eaa50cbcb1d6",
   "metadata": {},
   "outputs": [
    {
     "name": "stdout",
     "output_type": "stream",
     "text": [
      "Square of each element in the list: [1, 4, 9, 16, 25]\n"
     ]
    }
   ],
   "source": [
    "lst=[1,2,3,4,5]\n",
    "\n",
    "lst_power=list(map(lambda x : x**2,lst))\n",
    "\n",
    "print(\"Square of each element in the list:\",lst_power)"
   ]
  },
  {
   "cell_type": "markdown",
   "id": "f8a88816-cb07-46c2-a36f-013aff00622b",
   "metadata": {},
   "source": [
    "### Built-in Functions :\n",
    "---"
   ]
  },
  {
   "cell_type": "markdown",
   "id": "cb64a552-1e75-4f0a-9f55-d6d7d0f1086f",
   "metadata": {},
   "source": [
    "### 1. Describe the role of built-in functions like `len()`, `max()` and `min()` in Python."
   ]
  },
  {
   "cell_type": "markdown",
   "id": "20a68b94-3e15-4698-9f1e-9acead5ac86a",
   "metadata": {},
   "source": [
    "-- len() returns the number of characters in string or number of elements in tuples and lists."
   ]
  },
  {
   "cell_type": "markdown",
   "id": "2ad23703-130d-4b3c-84be-c4671ff241c7",
   "metadata": {},
   "source": [
    "-- max() and min() function returns maximum or minimum elements in given list or tuple"
   ]
  },
  {
   "cell_type": "markdown",
   "id": "48b992d3-da94-4f28-a3bb-5d2375f8a193",
   "metadata": {},
   "source": [
    "### 2. Write a Python program that uses the `map()` function to apply a function to each element of a list."
   ]
  },
  {
   "cell_type": "code",
   "execution_count": 49,
   "id": "b9561bbd-e38f-4213-a81d-ba74237f0946",
   "metadata": {},
   "outputs": [
    {
     "name": "stdout",
     "output_type": "stream",
     "text": [
      "[1, 4, 9, 16, 25]\n"
     ]
    }
   ],
   "source": [
    "lst=[1,2,3,4,5]\n",
    "\n",
    "lst_map=list(map(lambda x: x**2,lst))\n",
    "\n",
    "print(lst_map)"
   ]
  },
  {
   "cell_type": "markdown",
   "id": "ac92dbc2-828a-4965-b897-900c00a6e91c",
   "metadata": {},
   "source": [
    "### 3. How does the `filter()` function work in Python and when would you use it?"
   ]
  },
  {
   "cell_type": "markdown",
   "id": "726ae944-90d0-4751-a075-94c2b50d66fb",
   "metadata": {},
   "source": [
    "-- It works on each element of the iterable and tests whether the returned value is true or false. The output sequence will contain all those elements of the iterable for which the function has returned True. It can also be mentioned as None."
   ]
  },
  {
   "cell_type": "markdown",
   "id": "fb6cec61-c396-41fe-ac2c-743d850d0300",
   "metadata": {},
   "source": [
    "### 4. Create a Python program that uses the `reduce()` function to find the product of all elements in a list."
   ]
  },
  {
   "cell_type": "code",
   "execution_count": 51,
   "id": "eb70d401-fe1c-45a0-81ca-98c8235cddf1",
   "metadata": {},
   "outputs": [
    {
     "name": "stdout",
     "output_type": "stream",
     "text": [
      "Product of all elements in the list: 720\n"
     ]
    }
   ],
   "source": [
    "from functools import reduce\n",
    "lst=[1,2,3,4,5,6]\n",
    "\n",
    "prod=reduce(lambda x,y : x*y,lst)\n",
    "\n",
    "print(\"Product of all elements in the list:\",prod)"
   ]
  },
  {
   "cell_type": "markdown",
   "id": "e2a5fb8a-8b08-4ddc-a996-1b6eb55f5441",
   "metadata": {},
   "source": [
    "### Function Documentation and Best Practices :\n",
    "---"
   ]
  },
  {
   "cell_type": "markdown",
   "id": "19d694ed-9044-4a73-8e42-6e0d223f87f9",
   "metadata": {},
   "source": [
    "### 1. Explain the purpose of docstrings in Python functions and how to write them."
   ]
  },
  {
   "cell_type": "markdown",
   "id": "9699d859-3806-45b9-aa48-cc25fb9c35bf",
   "metadata": {},
   "source": [
    "-- Python documentation strings (or docstrings) provide a convenient way of associating documentation with Python modules, functions, classes, and methods. "
   ]
  },
  {
   "cell_type": "code",
   "execution_count": 52,
   "id": "50d6f558-ad62-42ac-877b-de391b013822",
   "metadata": {},
   "outputs": [
    {
     "name": "stdout",
     "output_type": "stream",
     "text": [
      "Using __doc__:\n",
      " Demonstrates triple double quotes docstrings and does nothing really \n"
     ]
    }
   ],
   "source": [
    "def my_function():\n",
    "    ' ' 'Demonstrates triple double quotes docstrings and does nothing really' ' '\n",
    "  \n",
    "    return None\n",
    " \n",
    "print(\"Using __doc__:\")\n",
    "print(my_function.__doc__)"
   ]
  },
  {
   "cell_type": "markdown",
   "id": "1748e87e-be78-4596-9b44-6c34aa61c4d6",
   "metadata": {},
   "source": [
    "### 2. Describe some best practices for naming functions and variables in Python, including naming conventions and guidelines. "
   ]
  },
  {
   "cell_type": "markdown",
   "id": "070da1d6-8b03-4fd3-8e1f-11368cace6b5",
   "metadata": {},
   "source": [
    "-- Naming functions and variables in Python is crucial for writing clean, readable, and maintainable code."
   ]
  },
  {
   "cell_type": "markdown",
   "id": "1c72e2bb-4905-4fcf-b34b-29dc32576126",
   "metadata": {},
   "source": [
    "1. Use Descriptive Names:\n",
    "2. Use Verbs for Function Names:\n",
    "3. Use Nouns for Variable Names:\n",
    "4. Be Consistent:\n",
    "5. Avoid Reserved Words:\n",
    "6. Use Meaningful Prefixes/Suffixes:\n",
    "7. Use Clear and Specific Names:\n",
    "8. Use Comments When Necessary:\n",
    "9. Keep Names Short but Not Too Short:\n",
    "10. Avoid Acronyms and Single-Letter Names:"
   ]
  }
 ],
 "metadata": {
  "kernelspec": {
   "display_name": "Python 3 (ipykernel)",
   "language": "python",
   "name": "python3"
  },
  "language_info": {
   "codemirror_mode": {
    "name": "ipython",
    "version": 3
   },
   "file_extension": ".py",
   "mimetype": "text/x-python",
   "name": "python",
   "nbconvert_exporter": "python",
   "pygments_lexer": "ipython3",
   "version": "3.10.8"
  }
 },
 "nbformat": 4,
 "nbformat_minor": 5
}
