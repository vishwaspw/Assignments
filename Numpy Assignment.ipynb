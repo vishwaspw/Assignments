{
 "cells": [
  {
   "cell_type": "markdown",
   "id": "9a4607e7-fc06-455c-bf18-36f2d65fb2e9",
   "metadata": {},
   "source": [
    "### 1. What is a Python library? Why do we use Python libraries?"
   ]
  },
  {
   "cell_type": "markdown",
   "id": "426ed528-2242-4e17-9019-6a60910771f2",
   "metadata": {},
   "source": [
    "A Python library is a collection of pre-written code that provides functionality to perform certain tasks or solve specific problems. These libraries contain modules, functions, and classes that can be imported and used in your Python programs to save time and effort. \n",
    "\n",
    "Python libraries enhance the efficiency and productivity of developers by offering pre-built solutions to common problems, promoting code reuse, and fostering a collaborative and extensible programming environment."
   ]
  },
  {
   "cell_type": "markdown",
   "id": "aa999eea-1980-4e00-a2e3-94af2f62c5e6",
   "metadata": {},
   "source": [
    "### 2. What is the difference between Numpy array and List?"
   ]
  },
  {
   "cell_type": "markdown",
   "id": "91946397-71b5-4467-961d-f249c164f779",
   "metadata": {},
   "source": [
    "•\tArrays in python can only contain elements of same data types i.e., data type of array should be homogeneous. consumes far less memory than lists. \n",
    "\n",
    "•\tLists in python can contain elements of different data types i.e., data type of lists can be heterogeneous. It has the disadvantage of consuming large memory.\n"
   ]
  },
  {
   "cell_type": "code",
   "execution_count": 3,
   "id": "ab18f4e1-88c6-4906-b33d-4da605ab1170",
   "metadata": {},
   "outputs": [],
   "source": [
    "import numpy as np"
   ]
  },
  {
   "cell_type": "markdown",
   "id": "32c911d9-cea6-447f-8c6a-379ae8f86c08",
   "metadata": {},
   "source": [
    "### 3. Find the shape, size and dimension of the following array?"
   ]
  },
  {
   "cell_type": "code",
   "execution_count": 5,
   "id": "276fc0e9-c23c-4ded-ae63-1867e3634603",
   "metadata": {},
   "outputs": [
    {
     "name": "stdout",
     "output_type": "stream",
     "text": [
      "Shape: (3, 4)\n",
      "Size: 12\n",
      "Dimension: 2\n"
     ]
    }
   ],
   "source": [
    "arr = np.array([[1, 2, 3, 4],[5, 6, 7, 8],[9, 10, 11, 12]])\n",
    "print(\"Shape:\", arr.shape)\n",
    "print(\"Size:\", arr.size)\n",
    "print(\"Dimension:\", arr.ndim)"
   ]
  },
  {
   "cell_type": "markdown",
   "id": "0a8a85b4-8a00-4319-8dc2-e2867dfc1876",
   "metadata": {},
   "source": [
    "### 4. Write python code to access the first row of the following array?"
   ]
  },
  {
   "cell_type": "code",
   "execution_count": 6,
   "id": "8027171e-3cc2-419f-9aef-a5e4fc2165aa",
   "metadata": {},
   "outputs": [
    {
     "name": "stdout",
     "output_type": "stream",
     "text": [
      "First row of the array: [1 2 3 4]\n"
     ]
    }
   ],
   "source": [
    "arr = np.array([[1, 2, 3, 4],[5, 6, 7, 8],[9, 10, 11, 12]])\n",
    "print(\"First row of the array:\",arr[0])"
   ]
  },
  {
   "cell_type": "markdown",
   "id": "c09af29e-a96c-4200-89a0-e76ed2763221",
   "metadata": {},
   "source": [
    "### 5. How do you access the element at the third row and fourth column from the given numpy array?"
   ]
  },
  {
   "cell_type": "code",
   "execution_count": 7,
   "id": "f00bc325-e957-486a-8c50-f528bca34187",
   "metadata": {},
   "outputs": [
    {
     "name": "stdout",
     "output_type": "stream",
     "text": [
      "The element at the third row and forth column of the given array: 12\n"
     ]
    }
   ],
   "source": [
    "arr = np.array([[1, 2, 3, 4],[5, 6, 7, 8],[9, 10, 11, 12]])\n",
    "print(\"The element at the third row and forth column of the given array:\",arr[2][3])"
   ]
  },
  {
   "cell_type": "markdown",
   "id": "ed0044a0-8afe-46c2-8f0d-7684aab3b2a3",
   "metadata": {},
   "source": [
    "### 6. Write code to extract all odd-indexed elements from the given numpy array?"
   ]
  },
  {
   "cell_type": "code",
   "execution_count": 9,
   "id": "5bddc4eb-8575-4084-80d6-c46667b44304",
   "metadata": {},
   "outputs": [
    {
     "name": "stdout",
     "output_type": "stream",
     "text": [
      "All odd-indexed elements from the given array [[ 2  4]\n",
      " [ 6  8]\n",
      " [10 12]]\n"
     ]
    }
   ],
   "source": [
    "arr = np.array([[1, 2, 3, 4],[5, 6, 7, 8],[9, 10, 11, 12]])\n",
    "print(\"All odd-indexed elements from the given array\", arr[:, 1::2])"
   ]
  },
  {
   "cell_type": "markdown",
   "id": "60a46e04-0725-43b2-8f32-ca846e48629f",
   "metadata": {},
   "source": [
    "### 7. How can you generate a random 3x3 matrix with values between 0 and 1?"
   ]
  },
  {
   "cell_type": "code",
   "execution_count": 12,
   "id": "cad66029-81c6-4df9-ae0b-975f3ab6f082",
   "metadata": {},
   "outputs": [
    {
     "data": {
      "text/plain": [
       "array([[0.41889802, 0.41234356, 0.51364169],\n",
       "       [0.28038166, 0.49201037, 0.43984622],\n",
       "       [0.62243995, 0.27942829, 0.69932741]])"
      ]
     },
     "execution_count": 12,
     "metadata": {},
     "output_type": "execute_result"
    }
   ],
   "source": [
    "import random\n",
    "np.random.rand(3,3)"
   ]
  },
  {
   "cell_type": "markdown",
   "id": "75f51035-f391-454a-a5ed-b4db885f9e80",
   "metadata": {},
   "source": [
    "### 8. Describe the difference between np.random.rand and np.random.randn?"
   ]
  },
  {
   "cell_type": "markdown",
   "id": "12cf94b4-5cd4-4a22-bf60-7e1d101b47e2",
   "metadata": {},
   "source": [
    "np.random.rand generates random values from a uniform distribution between 0 and 1.\n",
    "np.random.randn generates random values from a standard normal distribution (mean=0, standard deviation=1)."
   ]
  },
  {
   "cell_type": "markdown",
   "id": "728a2015-1e37-4667-b42d-d466c4685277",
   "metadata": {},
   "source": [
    "### 9. Write code to increase the dimension of the following array?"
   ]
  },
  {
   "cell_type": "code",
   "execution_count": 20,
   "id": "fee11e13-b06a-444b-86cf-5b4d4a71faca",
   "metadata": {},
   "outputs": [
    {
     "name": "stdout",
     "output_type": "stream",
     "text": [
      "Dimension of original array: 2\n",
      "After expanding the dimension of the original array: 3\n",
      "[[[ 1  2  3  4]]\n",
      "\n",
      " [[ 5  6  7  8]]\n",
      "\n",
      " [[ 9 10 11 12]]]\n"
     ]
    }
   ],
   "source": [
    "arr = np.array([[1, 2, 3, 4],[5, 6, 7, 8],[9, 10, 11, 12]])\n",
    "arr1 = np.expand_dims(arr, axis = 1)\n",
    "print(\"Dimension of original array:\",arr.ndim)\n",
    "print(\"After expanding the dimension of the original array:\",arr1.ndim)\n",
    "print(arr1)"
   ]
  },
  {
   "cell_type": "markdown",
   "id": "d178bc57-135a-4934-88da-4f2ca1366f1c",
   "metadata": {},
   "source": [
    "### 10. How to transpose the following array in NumPy?"
   ]
  },
  {
   "cell_type": "code",
   "execution_count": 22,
   "id": "23e02e1b-cd98-4a58-9d6a-693b3cd3eb43",
   "metadata": {},
   "outputs": [
    {
     "name": "stdout",
     "output_type": "stream",
     "text": [
      "Original array:\n",
      " [[ 1  2  3  4]\n",
      " [ 5  6  7  8]\n",
      " [ 9 10 11 12]]\n",
      "Transpose of the given array:\n",
      " [[ 1  5  9]\n",
      " [ 2  6 10]\n",
      " [ 3  7 11]\n",
      " [ 4  8 12]]\n"
     ]
    }
   ],
   "source": [
    "arr = np.array([[1, 2, 3, 4],[5, 6, 7, 8],[9, 10, 11, 12]])\n",
    "print(\"Original array:\\n\",arr)\n",
    "print(\"Transpose of the given array:\\n\",arr.T)"
   ]
  },
  {
   "cell_type": "markdown",
   "id": "ab19bd08-ed5c-470c-8f1f-21a5aa052bbc",
   "metadata": {},
   "source": [
    "### 11. Perform the following operation using Python:\n",
    "1) Index wise multiplication\n",
    "2) Matrix multiplication\n",
    "3) Add both the matrices\n",
    "4) Subtract matrix B from A\n",
    "5) Divide matrix B by A"
   ]
  },
  {
   "cell_type": "code",
   "execution_count": 26,
   "id": "020b7ad4-95aa-4deb-bcd7-ded6f511408f",
   "metadata": {},
   "outputs": [
    {
     "name": "stdout",
     "output_type": "stream",
     "text": [
      "\n",
      "Matrix A\n",
      " [[ 1  2  3  4]\n",
      " [ 5  6  7  8]\n",
      " [ 9 10 11 12]]\n",
      "\n",
      "Matrix B\n",
      " [[ 1  2  3  4]\n",
      " [ 5  6  7  8]\n",
      " [ 9 10 11 12]]\n",
      "\n",
      "Index-wise matrix multiplication\n",
      " [[  1   4   9  16]\n",
      " [ 25  36  49  64]\n",
      " [ 81 100 121 144]]\n",
      "\n",
      "Addition of both matrices\n",
      " [[ 2  4  6  8]\n",
      " [10 12 14 16]\n",
      " [18 20 22 24]]\n",
      "\n",
      "Subtract matrix B from A\n",
      " [[0 0 0 0]\n",
      " [0 0 0 0]\n",
      " [0 0 0 0]]\n",
      "\n",
      "Divide matrix B by A\n",
      " [[1. 1. 1. 1.]\n",
      " [1. 1. 1. 1.]\n",
      " [1. 1. 1. 1.]]\n"
     ]
    }
   ],
   "source": [
    "matrixA = np.array([[1, 2, 3, 4],[5, 6, 7, 8],[9, 10, 11, 12]])\n",
    "matrixB = np.array([[1, 2, 3, 4],[5, 6, 7, 8],[9, 10, 11, 12]])\n",
    "print(\"\\nMatrix A\\n\",matrixA)\n",
    "print(\"\\nMatrix B\\n\",matrixB)\n",
    "print(\"\\nIndex-wise matrix multiplication\\n\",matrixA*matrixB)\n",
    "print(\"\\nAddition of both matrices\\n\",matrixA+matrixB)\n",
    "print(\"\\nSubtract matrix B from A\\n\",matrixA-matrixB)\n",
    "print(\"\\nDivide matrix B by A\\n\",matrixB/matrixA)"
   ]
  },
  {
   "cell_type": "code",
   "execution_count": 27,
   "id": "b0f68853-d3ce-41b8-aaa6-80b59a2cae90",
   "metadata": {},
   "outputs": [
    {
     "name": "stdout",
     "output_type": "stream",
     "text": [
      "\n",
      "Matrix A\n",
      " [[ 1  2  3  4]\n",
      " [ 5  6  7  8]\n",
      " [ 9 10 11 12]]\n",
      "\n",
      "Matrix B\n",
      " [[ 1  2  3]\n",
      " [ 4  5  6]\n",
      " [ 7  8  9]\n",
      " [10 11 12]]\n",
      "\n",
      "Matrix multiplication\n",
      " [[ 70  80  90]\n",
      " [158 184 210]\n",
      " [246 288 330]]\n"
     ]
    }
   ],
   "source": [
    "matrixA = np.array([[1, 2, 3, 4],[5, 6, 7, 8],[9, 10, 11, 12]])\n",
    "matrixB = np.array([[1, 2, 3],[4, 5, 6],[7, 8, 9],[10, 11, 12]])\n",
    "print(\"\\nMatrix A\\n\",matrixA)\n",
    "print(\"\\nMatrix B\\n\",matrixB)\n",
    "print(\"\\nMatrix multiplication\\n\",matrixA@matrixB)"
   ]
  },
  {
   "cell_type": "markdown",
   "id": "17140c9f-a1c4-4739-bae9-9988666bdf6a",
   "metadata": {},
   "source": [
    "### 12.  Which function in Numpy can be used to swap the byte order of an array?\n",
    "\n",
    "In NumPy, you can use the byteswap function to swap the byte order of an array. The byteswap function creates a new array with the byte order swapped."
   ]
  },
  {
   "cell_type": "code",
   "execution_count": 30,
   "id": "80c2ac6f-bdd4-41ff-923d-98c3bb25ab44",
   "metadata": {},
   "outputs": [
    {
     "name": "stdout",
     "output_type": "stream",
     "text": [
      "Original Array:\n",
      "[  1 256]\n",
      "\n",
      "Swapped Array:\n",
      "[256   1]\n"
     ]
    }
   ],
   "source": [
    "original_array = np.array([1, 256], dtype=np.int16)\n",
    "\n",
    "print(\"Original Array:\")\n",
    "print(original_array)\n",
    "\n",
    "# Swap the byte order\n",
    "swapped_array = original_array.byteswap()\n",
    "\n",
    "print(\"\\nSwapped Array:\")\n",
    "print(swapped_array)"
   ]
  },
  {
   "cell_type": "markdown",
   "id": "dda42abe-8e36-4fc4-bf94-ecf063a90616",
   "metadata": {},
   "source": [
    "### 13.  What is the significance of the np.linalg.inv function?\n",
    "The np.linalg.inv function in NumPy is used to compute the multiplicative inverse of a matrix. In other words, it calculates the inverse of a square matrix, if it exists."
   ]
  },
  {
   "cell_type": "code",
   "execution_count": 31,
   "id": "fae38369-758b-4cbb-9fd3-7d79c0ef90ff",
   "metadata": {},
   "outputs": [
    {
     "name": "stdout",
     "output_type": "stream",
     "text": [
      "Original Matrix:\n",
      "[[4 7]\n",
      " [2 6]]\n",
      "\n",
      "Inverse Matrix:\n",
      "[[ 0.6 -0.7]\n",
      " [-0.2  0.4]]\n"
     ]
    }
   ],
   "source": [
    "matrix = np.array([[4, 7],\n",
    "                   [2, 6]])\n",
    "\n",
    "inverse_matrix = np.linalg.inv(matrix)\n",
    "\n",
    "print(\"Original Matrix:\")\n",
    "print(matrix)\n",
    "\n",
    "print(\"\\nInverse Matrix:\")\n",
    "print(inverse_matrix)"
   ]
  },
  {
   "cell_type": "markdown",
   "id": "d96362da-0500-4226-a941-2b130c4b3b7b",
   "metadata": {},
   "source": [
    "### 14. What does the np.reshape function do, and how is it used?\n",
    "The np.reshape function in NumPy is used to change the shape of an array without changing its data. It returns a new array with the same data but a different shape."
   ]
  },
  {
   "cell_type": "code",
   "execution_count": 35,
   "id": "96f58749-0855-4500-b2d8-331fb9a54581",
   "metadata": {},
   "outputs": [
    {
     "name": "stdout",
     "output_type": "stream",
     "text": [
      "Original array: [1 2 3 4 5 6]\n",
      "Dimension of original array: 1\n",
      "Reshapped array:\n",
      " [[[[1 2 3]\n",
      "   [4 5 6]]]]\n",
      "Dimension of reshapped array: 4\n"
     ]
    }
   ],
   "source": [
    "original_array = np.array([1, 2, 3, 4, 5, 6])\n",
    "print(\"Original array:\",original_array)\n",
    "print(\"Dimension of original array:\",original_array.ndim)\n",
    "reshapped_array = original_array.reshape(1, 1, 2, 3)\n",
    "print(\"Reshapped array:\\n\",reshapped_array)\n",
    "print(\"Dimension of reshapped array:\",reshapped_array.ndim)"
   ]
  },
  {
   "cell_type": "markdown",
   "id": "77423ae3-db51-4843-84f5-292013026dc3",
   "metadata": {},
   "source": [
    "### 15. What is broadcasting in Numpy?"
   ]
  },
  {
   "cell_type": "markdown",
   "id": "004dbd52-42d1-4c2d-aa3d-bbcf3645b9bb",
   "metadata": {},
   "source": [
    "Broadcasting is a powerful feature in NumPy that allows arrays of different shapes to be combined or operated upon without the need for explicit conversion or duplication of data. Broadcasting automatically adjusts the shape of smaller arrays to match the shape of larger arrays, enabling element-wise operations.\n",
    "\n",
    "In order for two arrays to be broadcast-compatible, the size of their dimensions must either be the same or one of them must be 1. NumPy performs the broadcasting according to the following rules:\n",
    "\n",
    "1) If the arrays have a different number of dimensions:\n",
    "\n",
    "Pad the smaller-dimensional array's shape with ones on its left side until the dimensions match.\n",
    "\n",
    "2) If the sizes along a particular dimension are different:\n",
    "\n",
    "If one of them is 1, then it is stretched to match the size of the other.\n",
    "If neither is 1 and the sizes are different, broadcasting is not possible, and NumPy will raise a ValueError."
   ]
  },
  {
   "cell_type": "code",
   "execution_count": 38,
   "id": "9ebd9cc6-cf9e-457c-bd05-b941e3c6d670",
   "metadata": {},
   "outputs": [
    {
     "name": "stdout",
     "output_type": "stream",
     "text": [
      "Array A:\n",
      "[[1]\n",
      " [2]\n",
      " [3]]\n",
      "\n",
      "Array B:\n",
      "[[4 5 6 7]]\n",
      "\n",
      "Result of A + B (Broadcasting):\n",
      "[[ 5  6  7  8]\n",
      " [ 6  7  8  9]\n",
      " [ 7  8  9 10]]\n"
     ]
    }
   ],
   "source": [
    "# Array A with shape (3, 1)\n",
    "A = np.array([[1], [2], [3]])\n",
    "\n",
    "# Array B with shape (1, 4)\n",
    "B = np.array([[4, 5, 6, 7]])\n",
    "\n",
    "# Broadcasting: A + B\n",
    "result = A + B\n",
    "\n",
    "print(\"Array A:\")\n",
    "print(A)\n",
    "\n",
    "print(\"\\nArray B:\")\n",
    "import numpy as np\n",
    "\n",
    "# Array A with shape (3, 1)\n",
    "A = np.array([[1], [2], [3]])\n",
    "\n",
    "# Array B with shape (1, 4)\n",
    "B = np.array([[4, 5, 6, 7]])\n",
    "\n",
    "# Broadcasting: A + B\n",
    "result = A + B\n",
    "\n",
    "print(\"Array A:\")\n",
    "print(A)\n",
    "\n",
    "print(\"\\nArray B:\")\n",
    "print(B)\n",
    "\n",
    "print(\"\\nResult of A + B (Broadcasting):\")\n",
    "print(result)\n",
    "\n",
    "print(B)\n",
    "\n",
    "print(\"\\nResult of A + B (Broadcasting):\")\n",
    "print(result)"
   ]
  },
  {
   "cell_type": "code",
   "execution_count": null,
   "id": "f9b18616-89c1-492c-a788-e47ce6424ea5",
   "metadata": {},
   "outputs": [],
   "source": []
  }
 ],
 "metadata": {
  "kernelspec": {
   "display_name": "Python 3 (ipykernel)",
   "language": "python",
   "name": "python3"
  },
  "language_info": {
   "codemirror_mode": {
    "name": "ipython",
    "version": 3
   },
   "file_extension": ".py",
   "mimetype": "text/x-python",
   "name": "python",
   "nbconvert_exporter": "python",
   "pygments_lexer": "ipython3",
   "version": "3.10.8"
  }
 },
 "nbformat": 4,
 "nbformat_minor": 5
}
