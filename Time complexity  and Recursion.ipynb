{
 "cells": [
  {
   "cell_type": "markdown",
   "id": "fa372d0c-e50c-42fc-8201-e1e1fec068d4",
   "metadata": {},
   "source": [
    "### Problem 1:"
   ]
  },
  {
   "cell_type": "code",
   "execution_count": 4,
   "id": "3ab7f516-ea3e-4cf9-b6dd-48553016b81c",
   "metadata": {},
   "outputs": [
    {
     "data": {
      "text/plain": [
       "[1, 2, 3, 4, 6, 7, 8, 9]"
      ]
     },
     "execution_count": 4,
     "metadata": {},
     "output_type": "execute_result"
    }
   ],
   "source": [
    "# Time complexity: O(n logn) \n",
    "\n",
    "def quicksort(arr):\n",
    "\n",
    "    if len(arr) <= 1:\n",
    "\n",
    "        return arr\n",
    "\n",
    "    pivot = arr[len(arr) // 2]\n",
    "\n",
    "    left = [x for x in arr if x < pivot]\n",
    "\n",
    "    middle = [x for x in arr if x == pivot]\n",
    "\n",
    "    right = [x for x in arr if x > pivot]\n",
    "\n",
    "    return quicksort(left) + middle + quicksort(right)\n",
    "\n",
    "# Drive code\n",
    "arr = [3,4,6,1,7,2,8,9]\n",
    "quicksort(arr)"
   ]
  },
  {
   "cell_type": "markdown",
   "id": "3086fa3f-cfb9-4458-8197-55c093d088c3",
   "metadata": {},
   "source": [
    "### Problem 2:"
   ]
  },
  {
   "cell_type": "code",
   "execution_count": 7,
   "id": "eb55d9a1-354d-456c-9eea-d57fbb98588a",
   "metadata": {},
   "outputs": [
    {
     "data": {
      "text/plain": [
       "21"
      ]
     },
     "execution_count": 7,
     "metadata": {},
     "output_type": "execute_result"
    }
   ],
   "source": [
    "# Time complexity: O(m*n)\n",
    "\n",
    "def nested_loop_example(matrix):\n",
    "\n",
    "    rows, cols = len(matrix), len(matrix[0])\n",
    "\n",
    "    total = 0\n",
    "\n",
    "    for i in range(rows):\n",
    "\n",
    "        for j in range(cols):\n",
    "\n",
    "            total += matrix[i][j]\n",
    "\n",
    "    return total\n",
    "\n",
    "# Drive code\n",
    "matrix = [[1,2,3],\n",
    "          [4,5,6]]\n",
    "nested_loop_example(matrix)"
   ]
  },
  {
   "cell_type": "markdown",
   "id": "4124ece6-432b-46fb-9357-d6377151c613",
   "metadata": {},
   "source": [
    "### Problem 3:"
   ]
  },
  {
   "cell_type": "code",
   "execution_count": 8,
   "id": "0f9d8e87-47cc-4648-b851-edb41ea6c230",
   "metadata": {},
   "outputs": [
    {
     "data": {
      "text/plain": [
       "15"
      ]
     },
     "execution_count": 8,
     "metadata": {},
     "output_type": "execute_result"
    }
   ],
   "source": [
    "# Time complexity: O(n)\n",
    "\n",
    "def example_function(arr):\n",
    "\n",
    "    result = 0\n",
    "\n",
    "    for element in arr:\n",
    "\n",
    "        result += element\n",
    "\n",
    "    return result\n",
    "\n",
    "# Drive code\n",
    "arr = [1,2,3,4,5]\n",
    "example_function(arr)"
   ]
  },
  {
   "cell_type": "markdown",
   "id": "472f195f-e616-419e-a91e-2208213f4ae3",
   "metadata": {},
   "source": [
    "### Problem 4:"
   ]
  },
  {
   "cell_type": "code",
   "execution_count": 12,
   "id": "4b440a9c-ea70-4953-9482-a67d74186c2e",
   "metadata": {},
   "outputs": [
    {
     "data": {
      "text/plain": [
       "4"
      ]
     },
     "execution_count": 12,
     "metadata": {},
     "output_type": "execute_result"
    }
   ],
   "source": [
    "# Time complexity : O(n^2)\n",
    "\n",
    "def longest_increasing_subsequence(nums):\n",
    "\n",
    "    n = len(nums)\n",
    "\n",
    "    lis = [1] * n\n",
    "\n",
    "    for i in range(1, n):\n",
    "\n",
    "        for j in range(0, i):\n",
    "\n",
    "            if nums[i] > nums[j] and lis[i] < lis[j] + 1:\n",
    "\n",
    "                lis[i] = lis[j] + 1\n",
    "\n",
    "    return max(lis)\n",
    "\n",
    "# Drive code\n",
    "nums = [1,2,3,4,3,2]\n",
    "longest_increasing_subsequence(nums)"
   ]
  },
  {
   "cell_type": "markdown",
   "id": "a9bfaf9d-b4f5-4505-a8a5-8021bc832b23",
   "metadata": {},
   "source": [
    "### Problem 5:"
   ]
  },
  {
   "cell_type": "code",
   "execution_count": 1,
   "id": "ccc594ef-f845-4d88-864b-8c612c5bf4c8",
   "metadata": {},
   "outputs": [
    {
     "data": {
      "text/plain": [
       "140"
      ]
     },
     "execution_count": 1,
     "metadata": {},
     "output_type": "execute_result"
    }
   ],
   "source": [
    "# Time complexity: O(n^2)\n",
    "\n",
    "def mysterious_function(arr):\n",
    "\n",
    "    n = len(arr)\n",
    "\n",
    "    result = 0\n",
    "\n",
    "    for i in range(n):\n",
    "\n",
    "        for j in range(i, n):\n",
    "\n",
    "            result += arr[i] * arr[j]\n",
    "\n",
    "    return result\n",
    "\n",
    "# Drive code\n",
    "arr = [1,2,3,4,5]\n",
    "mysterious_function(arr)"
   ]
  },
  {
   "cell_type": "markdown",
   "id": "a03aa84d-39e9-47ed-ba5f-037732ab4171",
   "metadata": {},
   "source": [
    "### Recursion\n",
    "---"
   ]
  },
  {
   "cell_type": "markdown",
   "id": "66219a4c-ee2c-4a3e-960c-22f409bed25d",
   "metadata": {},
   "source": [
    "### Problem 6 : Sum of Digits"
   ]
  },
  {
   "cell_type": "code",
   "execution_count": 3,
   "id": "642ecffc-68c8-49dd-9e44-d8ba4bcbd8a6",
   "metadata": {},
   "outputs": [
    {
     "data": {
      "text/plain": [
       "6"
      ]
     },
     "execution_count": 3,
     "metadata": {},
     "output_type": "execute_result"
    }
   ],
   "source": [
    "def sumOfDigits(n):\n",
    "    total = 0\n",
    "    if n<10:\n",
    "        return n\n",
    "    return n%10 + sumOfDigits(n//10)\n",
    "\n",
    "# Drive code\n",
    "sumOfDigits(123)"
   ]
  },
  {
   "cell_type": "markdown",
   "id": "05fbdeff-0ce0-4f03-863f-8ca6ea36103d",
   "metadata": {},
   "source": [
    "### Problem 7: Fibonacci Series"
   ]
  },
  {
   "cell_type": "code",
   "execution_count": 11,
   "id": "0a328ee4-98b0-4a3b-96a0-7ee4c6ecd376",
   "metadata": {},
   "outputs": [
    {
     "name": "stdout",
     "output_type": "stream",
     "text": [
      "[0, 1, 1, 2, 3, 5]\n"
     ]
    }
   ],
   "source": [
    "def fibo(n):\n",
    "    result = []\n",
    "    if n == 1:\n",
    "        return [0]\n",
    "    elif n == 2:\n",
    "        return [0,1]\n",
    "    else:\n",
    "        ans = fibo(n-1)\n",
    "        ans.append(ans[-1] + ans[-2])\n",
    "        return ans\n",
    "\n",
    "# Drive code\n",
    "n = 6\n",
    "print(fibo(n))"
   ]
  },
  {
   "cell_type": "markdown",
   "id": "51be2fe2-1a02-4532-9e57-2871cdb3f64b",
   "metadata": {},
   "source": [
    "### Problem 8 : Subset Sum"
   ]
  },
  {
   "cell_type": "code",
   "execution_count": 3,
   "id": "01379145-3dcd-4360-9e6b-6ca0911320ab",
   "metadata": {},
   "outputs": [
    {
     "data": {
      "text/plain": [
       "True"
      ]
     },
     "execution_count": 3,
     "metadata": {},
     "output_type": "execute_result"
    }
   ],
   "source": [
    "# Given a set of positive integers and a target sum, write a recursive function to determine if there exists a subset of the integers that adds up to the target sum.\n",
    "\n",
    "def subsetSum(arr, key, n):\n",
    "    if key == 0:\n",
    "        return True\n",
    "    if n == 0 and key != 0:\n",
    "        return False\n",
    "    if arr[n-1] > key:\n",
    "        return subsetSum(arr, key, n-1)\n",
    "    return subsetSum(arr, key - arr[n-1], n-1) or subsetSum(arr, key, n-1)\n",
    "\n",
    "# Drive code\n",
    "arr = [3,34,4,12,5,2]\n",
    "key = 9\n",
    "n = len(arr)\n",
    "subsetSum(arr, key, n)"
   ]
  },
  {
   "cell_type": "markdown",
   "id": "b5e50156-debd-4257-829a-10f8ae157803",
   "metadata": {},
   "source": [
    "### Problem 9: Word Break"
   ]
  },
  {
   "cell_type": "code",
   "execution_count": 6,
   "id": "497b63a9-2f3a-4719-9231-409b274650b4",
   "metadata": {},
   "outputs": [
    {
     "data": {
      "text/plain": [
       "True"
      ]
     },
     "execution_count": 6,
     "metadata": {},
     "output_type": "execute_result"
    }
   ],
   "source": [
    "# Given a non-empty string and a dictionary of words, write a recursive function to determine if the string can be segmented into a space-separated sequence of dictionary words.\n",
    "\n",
    "def word_break(s, word):\n",
    "    n = len(s)\n",
    "    if n == 0:\n",
    "        return True\n",
    "    for i in range(1,n+1):\n",
    "        prefix = s[:i]\n",
    "        if prefix in word and word_break(s[i:], word):\n",
    "            return True\n",
    "    return False\n",
    "    \n",
    "# Drive code\n",
    "s =  \"leetcode\" \n",
    "word = { \"leet\" , \"code\" }\n",
    "word_break(s, word)"
   ]
  },
  {
   "cell_type": "markdown",
   "id": "f264b063-ce8c-4435-9320-90a19c9c91cb",
   "metadata": {},
   "source": [
    "### Problem 10 : N-Queens"
   ]
  },
  {
   "cell_type": "code",
   "execution_count": 4,
   "id": "9bb6a939-32ee-45c7-a8fe-a27da593b975",
   "metadata": {},
   "outputs": [
    {
     "name": "stdout",
     "output_type": "stream",
     "text": [
      ". . Q . \n",
      "Q . . . \n",
      ". . . Q \n",
      ". Q . . \n"
     ]
    }
   ],
   "source": [
    "# Implement a recursive function to solve the N Queens problem, where you have to place N queens on an N×N chessboard in such a way that no two queens threaten each other.\n",
    "\n",
    "# Return True if it's safe to place queen on the board\n",
    "def isSafeToPlaceQueen(board, row, col, n):\n",
    "    \n",
    "    # Check in the left side\n",
    "    for i in range(col):\n",
    "        if board[row][i] == 1:\n",
    "            return False\n",
    "        \n",
    "    # Check in the upper left diagonal\n",
    "    for i, j in zip(range(row, -1, -1),range(col, -1, -1)):\n",
    "        if board[i][j] == 1:\n",
    "            return False\n",
    "        \n",
    "    # Check in the lower left diagonal\n",
    "    for i, j in zip(range(row, n, 1), range(col, -1, -1)):\n",
    "        if board[i][j] == 1:\n",
    "            return False\n",
    "    return True\n",
    "\n",
    "def solveNQ(board, n):\n",
    "    if not solveNQUtil(board, 0, n):\n",
    "        print(\"Solution doesn't exist\")\n",
    "        return \n",
    "    printBoard(board, n)\n",
    "\n",
    "# Should return True if we are able to place all the queens\n",
    "def solveNQUtil(board, col, n):\n",
    "    if (col >= n):\n",
    "        return True\n",
    "    \n",
    "    # Check for all the rows\n",
    "    for row in range(n):\n",
    "        if isSafeToPlaceQueen(board, row, col, n):\n",
    "            board[row][col] = 1 #Set the queen\n",
    "            \n",
    "            # Recursively try for the next columns\n",
    "            if solveNQUtil(board, col+1, n):\n",
    "                return True\n",
    "            # Back Tracking\n",
    "            board[row][col] = 0\n",
    "            \n",
    "    return False # Won't be able to place the queen\n",
    "            \n",
    "def printBoard(board, n):\n",
    "    for i in range(n):\n",
    "        for j in range(n):\n",
    "            if board[i][j] == 1:\n",
    "                print(\"Q\", end = \" \")\n",
    "            else:\n",
    "                print(\".\", end = \" \")\n",
    "        print()\n",
    "            \n",
    "# Drive code\n",
    "board = [[0, 0, 0, 0],\n",
    "         [0, 0, 0, 0],\n",
    "         [0, 0, 0, 0],\n",
    "         [0, 0, 0, 0]]\n",
    "solveNQ(board, 4)"
   ]
  },
  {
   "cell_type": "code",
   "execution_count": null,
   "id": "cba279c0-cea7-4a0e-9691-87d135067344",
   "metadata": {},
   "outputs": [],
   "source": []
  }
 ],
 "metadata": {
  "kernelspec": {
   "display_name": "Python 3 (ipykernel)",
   "language": "python",
   "name": "python3"
  },
  "language_info": {
   "codemirror_mode": {
    "name": "ipython",
    "version": 3
   },
   "file_extension": ".py",
   "mimetype": "text/x-python",
   "name": "python",
   "nbconvert_exporter": "python",
   "pygments_lexer": "ipython3",
   "version": "3.10.8"
  }
 },
 "nbformat": 4,
 "nbformat_minor": 5
}
