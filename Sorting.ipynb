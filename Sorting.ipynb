{
 "cells": [
  {
   "cell_type": "markdown",
   "id": "e1d185fa-5874-4389-986b-66d802fe7704",
   "metadata": {},
   "source": [
    "### Problem 1.Given an array of n numbers, give an algorithm which gives the element appearing maximum number of times."
   ]
  },
  {
   "cell_type": "code",
   "execution_count": 1,
   "id": "ac10cd19-4327-4187-b941-927cda7c4b6e",
   "metadata": {},
   "outputs": [
    {
     "name": "stdout",
     "output_type": "stream",
     "text": [
      "Maximum element of the given array: 30\n"
     ]
    }
   ],
   "source": [
    "# Take an array\n",
    "arr = [20, 20, 30, 30, 30, 40]\n",
    "\n",
    "freq = 1\n",
    "max_freq = 1\n",
    "i = 1\n",
    "max_element = arr[0]\n",
    "while (i < len(arr)):\n",
    "    if arr[i] == arr[i-1]:\n",
    "        freq += 1\n",
    "    else:\n",
    "        freq = 1\n",
    "    if max_freq < freq:\n",
    "        max_freq = freq\n",
    "        max_element = arr[i]\n",
    "    i += 1\n",
    "        \n",
    "print(\"Maximum element of the given array:\",max_element)"
   ]
  },
  {
   "cell_type": "markdown",
   "id": "47b1b810-96eb-4f5d-9f16-a9f8b588e906",
   "metadata": {},
   "source": [
    "### Problem 2 : We are given a list of n-1 integers and these integers are in the range of 1 to n . There are no duplicates in the list. One of the integers is missing in the list. Give an algorithm to find that element"
   ]
  },
  {
   "cell_type": "code",
   "execution_count": 2,
   "id": "7a91aae1-13ea-4735-872c-92a4fa991469",
   "metadata": {},
   "outputs": [
    {
     "name": "stdout",
     "output_type": "stream",
     "text": [
      "Missing element: 5\n"
     ]
    }
   ],
   "source": [
    "# Take an array\n",
    "a = [1,2,4,6,3,7,8] \n",
    "\n",
    "def find_missing_element(a):\n",
    "    n = len(a) + 1\n",
    "    expected_sum = n*(n+1)/2\n",
    "    actual_sum = sum(a)\n",
    "    return int(expected_sum - actual_sum) \n",
    "\n",
    "print(\"Missing element:\", find_missing_element(a))"
   ]
  },
  {
   "cell_type": "markdown",
   "id": "04916d80-7394-4047-9818-3cbc76cb1bb9",
   "metadata": {},
   "source": [
    "### Problem 3 : Given an array of n positive numbers. All numbers occurs even number of times except 1 which occurs odd number of times. Find that number in O(n) time and O(1) space. "
   ]
  },
  {
   "cell_type": "code",
   "execution_count": 3,
   "id": "facbbd99-08a0-4593-b112-a2ef7f3d1db0",
   "metadata": {},
   "outputs": [
    {
     "name": "stdout",
     "output_type": "stream",
     "text": [
      "The number with odd occurrence is: 3\n"
     ]
    }
   ],
   "source": [
    "def find_odd_occurrence(arr):\n",
    "    result = 0\n",
    "\n",
    "    for num in arr:\n",
    "        result ^= num\n",
    "\n",
    "    return result\n",
    "\n",
    "# Example usage:\n",
    "arr = [1,2,3,2,3,1,3]\n",
    "result = find_odd_occurrence(arr)\n",
    "print(\"The number with odd occurrence is:\", result)"
   ]
  },
  {
   "cell_type": "markdown",
   "id": "b43b6405-2f11-4134-bd93-9f6676880442",
   "metadata": {},
   "source": [
    "### Problem 4 : Given an array of n elements. Find two elements in the array such that their sum is equal to given element K."
   ]
  },
  {
   "cell_type": "code",
   "execution_count": 4,
   "id": "3e8ea199-e082-4dc1-88c5-5accb4ee9498",
   "metadata": {},
   "outputs": [
    {
     "name": "stdout",
     "output_type": "stream",
     "text": [
      "Pair with sum 14: [[4, 10], [6, 8]]\n"
     ]
    }
   ],
   "source": [
    "# Take an array\n",
    "arr = [1, 3, 4, 6, 8, 10]\n",
    "\n",
    "# Take a value of k\n",
    "k = 14\n",
    "\n",
    "def sumK(a, k):\n",
    "    l = 0\n",
    "    h = len(a)-1\n",
    "    result = []\n",
    "    while (l < h):\n",
    "        current_sum = a[l] + a[h]\n",
    "        if current_sum == k:\n",
    "            result.append( [a[l], a[h]])\n",
    "            l += 1\n",
    "            h -= 1\n",
    "        elif current_sum < k:\n",
    "            l += 1\n",
    "        else:\n",
    "            h -= 1\n",
    "    return result\n",
    "            \n",
    "# Drive code\n",
    "if sumK(arr, k):\n",
    "    print(f\"Pair with sum {k}:\",sumK(arr, k) )\n",
    "else:\n",
    "    print(\"No pair found.\")"
   ]
  },
  {
   "cell_type": "markdown",
   "id": "ca4b880f-3559-4940-bbd5-e0321638f84c",
   "metadata": {},
   "source": [
    "### Problem 5 : Given an array of both positive and negative numbers, find two numbers such that their sum is closest to 0"
   ]
  },
  {
   "cell_type": "code",
   "execution_count": 5,
   "id": "e7fe01e4-a158-470b-a07e-15b8d0a576f7",
   "metadata": {},
   "outputs": [
    {
     "data": {
      "text/plain": [
       "[-80, 85]"
      ]
     },
     "execution_count": 5,
     "metadata": {},
     "output_type": "execute_result"
    }
   ],
   "source": [
    "# Take an array\n",
    "a =  [1 ,60 ,-10, 70, -80, 85]\n",
    "\n",
    "# Sort the given array\n",
    "a.sort()\n",
    "\n",
    "def closestDiff(a):\n",
    "    l = 0\n",
    "    h = len(a) - 1\n",
    "    curr_sum = float('inf')\n",
    "    while (l < h):\n",
    "        closest_sum = curr_sum - 0\n",
    "        curr_sum = a[l] + a[h]\n",
    "        if abs(closest_sum) > abs(curr_sum):\n",
    "            curr_sum = closest_sum\n",
    "            return [a[l], a[h]]\n",
    "        elif curr_sum < 0:\n",
    "            l += 1\n",
    "        else:\n",
    "            h -= 1\n",
    "            \n",
    "# Drive code\n",
    "closestDiff(a)"
   ]
  },
  {
   "cell_type": "markdown",
   "id": "5bd5c6af-c0cb-4108-9b20-57109c8419e0",
   "metadata": {},
   "source": [
    "### Problem 6 : Given an array of n elements . Find three elements such that their sum is equal to the given number."
   ]
  },
  {
   "cell_type": "code",
   "execution_count": 6,
   "id": "0fc7e35e-84bf-4eee-b66b-0fec9c280225",
   "metadata": {},
   "outputs": [
    {
     "data": {
      "text/plain": [
       "[[4, 6, 8]]"
      ]
     },
     "execution_count": 6,
     "metadata": {},
     "output_type": "execute_result"
    }
   ],
   "source": [
    "# Take an array\n",
    "arr = [1, 4, 6, 8, 3, 10]\n",
    "\n",
    "# sort the given array\n",
    "arr.sort()\n",
    "\n",
    "# Take the value of k\n",
    "K = 18\n",
    "\n",
    "def sumOfThreeElements(arr, k):\n",
    "    result = []\n",
    "    n = len(arr)\n",
    "    for i in range(n-2):\n",
    "        l, h = i+1, n-1 \n",
    "        while ( l < h):\n",
    "            total = arr[i] + arr[l] + arr[h]\n",
    "            if total == k:\n",
    "                result.append([arr[i], arr[l], arr[h]])\n",
    "                break\n",
    "            elif total < k:\n",
    "                l += 1\n",
    "            else:\n",
    "                h -= 1\n",
    "    return result\n",
    "        \n",
    "# Drive code\n",
    "sumOfThreeElements(arr, K)"
   ]
  },
  {
   "cell_type": "markdown",
   "id": "7b4079e9-8f38-493f-8f99-75053220b55c",
   "metadata": {},
   "source": [
    "### Problem 7 : Given an array of n elements . Find three elements i, j, k in the array such thati * i + j * j = k*k."
   ]
  },
  {
   "cell_type": "code",
   "execution_count": 7,
   "id": "014e6598-8ce0-4572-89df-16d88579d60b",
   "metadata": {},
   "outputs": [
    {
     "data": {
      "text/plain": [
       "[[6, 8, 10]]"
      ]
     },
     "execution_count": 7,
     "metadata": {},
     "output_type": "execute_result"
    }
   ],
   "source": [
    "# Take an array\n",
    "arr = [1, 4, 6, 8, 3, 10]\n",
    "\n",
    "# sort the given array\n",
    "arr.sort()\n",
    "\n",
    "def sumOfThreeElements(arr):\n",
    "    result = []\n",
    "    n = len(arr)\n",
    "    for i in range(n-2):\n",
    "        j, k = i+1, n-1 \n",
    "        while ( j < k):\n",
    "            total = arr[i]**2 + arr[j]**2 - arr[k]**2\n",
    "            if total == 0:\n",
    "                result.append([arr[i], arr[j], arr[k]])\n",
    "                break\n",
    "            elif total < 0:\n",
    "                j += 1\n",
    "            else:\n",
    "                k -= 1\n",
    "    return result\n",
    "        \n",
    "# Drive code\n",
    "sumOfThreeElements(arr)"
   ]
  },
  {
   "cell_type": "markdown",
   "id": "aaccc643-6381-474f-ad03-2bdf0b16fc93",
   "metadata": {},
   "source": [
    "### Problem 8 : An element is a majority if it appears more than n/2 times. Give an algorithm takes an array of n element as argument and identifies a majority (if it exists)."
   ]
  },
  {
   "cell_type": "code",
   "execution_count": 8,
   "id": "5543f1dd-dbf9-4e39-be02-e022d41be9fc",
   "metadata": {},
   "outputs": [
    {
     "name": "stdout",
     "output_type": "stream",
     "text": [
      "Elements which appears more than n/2 times\n"
     ]
    },
    {
     "data": {
      "text/plain": [
       "[30]"
      ]
     },
     "execution_count": 8,
     "metadata": {},
     "output_type": "execute_result"
    }
   ],
   "source": [
    "# Take an array\n",
    "arr = [20, 20, 30, 30, 30, 40, 30, 20]\n",
    "\n",
    "def freq(arr):\n",
    "    n = len(arr)\n",
    "    freq  = 1\n",
    "    major = arr[0]\n",
    "    result = []\n",
    "    for i in range(1, n):\n",
    "        if arr[i] == major:\n",
    "            freq += 1\n",
    "        else:\n",
    "            freq -= 1\n",
    "            \n",
    "        if freq == 0:\n",
    "            major = arr[i]\n",
    "            freq = 1\n",
    "            \n",
    "    count_major = arr.count(major)\n",
    "    \n",
    "    if count_major >= n//2:\n",
    "        result.append(major)\n",
    "    return result\n",
    "\n",
    "# Drive code\n",
    "print(\"Elements which appears more than n/2 times\")\n",
    "freq(arr)"
   ]
  },
  {
   "cell_type": "markdown",
   "id": "af36be53-75b3-4cae-97cc-12b90ad4b789",
   "metadata": {},
   "source": [
    "### Problem 9 : Given n × n matrix, and in each row all 1’s are followed by 0’s. Find the row with the maximum number of 0’s."
   ]
  },
  {
   "cell_type": "code",
   "execution_count": 20,
   "id": "75783a4a-0e5b-44a0-9c54-0ad0f460b0bb",
   "metadata": {},
   "outputs": [
    {
     "data": {
      "text/plain": [
       "2"
      ]
     },
     "execution_count": 20,
     "metadata": {},
     "output_type": "execute_result"
    }
   ],
   "source": [
    "# take a matrix\n",
    "matrix = [[ 0, 0, 0, 1, 1],\n",
    "          [ 0, 0, 1, 1, 1],\n",
    "          [ 0, 1, 1, 1, 1],\n",
    "          [ 0, 1, 1, 1, 1]]\n",
    "\n",
    "def maxZeros(mat):\n",
    "    row = len(mat)\n",
    "    col = len(mat[0])\n",
    "    max_zero = 0\n",
    "    index = -1\n",
    "    for i in range(row):\n",
    "        l, h = 0, col-1\n",
    "        if mat[i][h] == 0:\n",
    "            index = i\n",
    "        while (l <= h):\n",
    "            mid = (l+h)//2\n",
    "            if mat[i][mid] == 1:\n",
    "                count_zero = col - mid\n",
    "                if max_zero < count_zero:\n",
    "                    max_zero = count_zero\n",
    "                    index = i\n",
    "                h = mid - 1\n",
    "            else:\n",
    "                l = mid + 1\n",
    "    return index\n",
    "    \n",
    "# Drive code\n",
    "maxZeros(matrix)"
   ]
  },
  {
   "cell_type": "markdown",
   "id": "83e78e69-c4eb-4b19-a599-6cc27f5529f1",
   "metadata": {},
   "source": [
    "### Problem 10 : Sort an array of 0’s, 1’s and 2’s [or R’s, G’s and B’s]: Given an array A[] consisting of 0’s, 1’s and 2’s, give an algorithm for sorting A[].The algorithm should put all 0’s first, then all 1’s and finally all 2’s at the end."
   ]
  },
  {
   "cell_type": "code",
   "execution_count": 10,
   "id": "605b882a-42a6-453d-9267-27e37eea3278",
   "metadata": {},
   "outputs": [
    {
     "data": {
      "text/plain": [
       "[0, 0, 0, 0, 0, 1, 1, 1, 1, 1, 2, 2]"
      ]
     },
     "execution_count": 10,
     "metadata": {},
     "output_type": "execute_result"
    }
   ],
   "source": [
    "# Take an array\n",
    "a = [0,1,1,0,1,2,1,2,0,0,0,1]\n",
    "\n",
    "def sortArray(a):\n",
    "    l = 0\n",
    "    h = len(a)-1\n",
    "    m = 0\n",
    "    while (m <= h):\n",
    "        if a[m] == 0:\n",
    "            a[l], a[m] = a[m], a[l]\n",
    "            l += 1\n",
    "            m += 1\n",
    "        elif a[m] == 2:\n",
    "            a[m], a[h] = a[h], a[m]\n",
    "            h -= 1\n",
    "        elif a[m] == 1:\n",
    "            m += 1\n",
    "    return a\n",
    "\n",
    "# Drive code\n",
    "sortArray(a)"
   ]
  },
  {
   "cell_type": "code",
   "execution_count": null,
   "id": "a523ae89-bfe6-4445-b131-336032f3b36b",
   "metadata": {},
   "outputs": [],
   "source": []
  }
 ],
 "metadata": {
  "kernelspec": {
   "display_name": "Python 3 (ipykernel)",
   "language": "python",
   "name": "python3"
  },
  "language_info": {
   "codemirror_mode": {
    "name": "ipython",
    "version": 3
   },
   "file_extension": ".py",
   "mimetype": "text/x-python",
   "name": "python",
   "nbconvert_exporter": "python",
   "pygments_lexer": "ipython3",
   "version": "3.10.8"
  }
 },
 "nbformat": 4,
 "nbformat_minor": 5
}
