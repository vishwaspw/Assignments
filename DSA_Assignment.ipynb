{
 "cells": [
  {
   "cell_type": "markdown",
   "id": "144cbbb8-6ba6-4019-a150-ab84de0d2010",
   "metadata": {},
   "source": [
    "### Create linked list"
   ]
  },
  {
   "cell_type": "code",
   "execution_count": 19,
   "id": "55cacfa4-6510-44b3-bd66-6ada84cf40c9",
   "metadata": {},
   "outputs": [],
   "source": [
    "class Node:\n",
    "    \n",
    "    def __init__(self, data=None, next = None):\n",
    "        self.data = data\n",
    "        self.next = next\n",
    "        \n",
    "    def set_data(self, data):\n",
    "        self.data = data\n",
    "    \n",
    "    def get_data(self):\n",
    "        return self.data\n",
    "    \n",
    "    def set_next(self, next):\n",
    "        self.next = next\n",
    "    \n",
    "    def get_next(self):\n",
    "        return self.next"
   ]
  },
  {
   "cell_type": "code",
   "execution_count": 20,
   "id": "9c070afb-cb14-44a0-8dac-579fa35e47e0",
   "metadata": {},
   "outputs": [
    {
     "name": "stdout",
     "output_type": "stream",
     "text": [
      "1 2 3 4 5 "
     ]
    }
   ],
   "source": [
    "# Create the data of linked list\n",
    "head = Node(1)\n",
    "node2 = Node(2)\n",
    "node3 = Node(3)\n",
    "node4 = Node(4)\n",
    "node5 = Node(5)\n",
    "\n",
    "# Creating the linkage\n",
    "head.set_next(node2)\n",
    "node2.set_next(node3)\n",
    "node3.set_next(node4)\n",
    "node4.set_next(node5)\n",
    "\n",
    "# Traverse linked list\n",
    "def traverse(head):\n",
    "    curr = head\n",
    "    while (curr != None):\n",
    "        print(curr.get_data(),end = \" \")\n",
    "        curr = curr.get_next()\n",
    "\n",
    "# Drive code\n",
    "traverse(head)"
   ]
  },
  {
   "cell_type": "markdown",
   "id": "2d28f71c-02dd-44ac-bd5f-df47701a07b9",
   "metadata": {},
   "source": [
    "### Problem 1: Reverse a singly linked list."
   ]
  },
  {
   "cell_type": "code",
   "execution_count": 3,
   "id": "5d7de336-3257-4aae-a317-8a0688f1de74",
   "metadata": {},
   "outputs": [
    {
     "name": "stdout",
     "output_type": "stream",
     "text": [
      "5 4 3 2 1 "
     ]
    }
   ],
   "source": [
    "def Reverse(head):\n",
    "    prev = None\n",
    "    curr = head\n",
    "    while (curr):\n",
    "        temp = curr.get_next()\n",
    "        curr.set_next(prev)\n",
    "        prev = curr\n",
    "        curr = temp\n",
    "    return prev\n",
    "        \n",
    "# Drive code\n",
    "head = Reverse(head)\n",
    "traverse(head)"
   ]
  },
  {
   "cell_type": "markdown",
   "id": "1b16f411-25ff-4aa6-983d-a24a2a1e3a38",
   "metadata": {},
   "source": [
    "### Problem 2: Merge two sorted linked lists into one sorted linked list."
   ]
  },
  {
   "cell_type": "code",
   "execution_count": 4,
   "id": "01535a89-8a43-421d-8f2d-7ac4f77b098a",
   "metadata": {},
   "outputs": [
    {
     "name": "stdout",
     "output_type": "stream",
     "text": [
      "List 1:\n",
      "1 3 5 \n",
      "List 2:\n",
      "2 4 6 \n",
      "After merging two linked lists:\n",
      "1 2 3 4 5 6 "
     ]
    }
   ],
   "source": [
    "# Time complexity : O(m+n)\n",
    "\n",
    "def merge(l1, l2):\n",
    "    if l1 == None:\n",
    "        return l2\n",
    "    if l2 == None:\n",
    "        return l1\n",
    "    if l1.get_data() < l2.get_data():\n",
    "        l1.set_next(merge(l1.get_next(), l2))\n",
    "        return l1\n",
    "    else:\n",
    "        l2.set_next(merge(l1, l2.get_next()))\n",
    "        return l2\n",
    "    \n",
    "# Create first linked list\n",
    "list1_head = Node(1)\n",
    "list1_node2 = Node(3)\n",
    "list1_node3 = Node(5)\n",
    "\n",
    "# Create second linked list\n",
    "list2_head = Node(2)\n",
    "list2_node2 = Node(4)\n",
    "list2_node3 = Node(6)\n",
    "\n",
    "# Linked list1\n",
    "list1_head.set_next(list1_node2)\n",
    "list1_node2.set_next(list1_node3)\n",
    "\n",
    "# Linked list2\n",
    "list2_head.set_next(list2_node2)\n",
    "list2_node2.set_next(list2_node3)\n",
    " \n",
    "print(\"List 1:\")\n",
    "traverse(list1_head)\n",
    "print(\"\\nList 2:\")\n",
    "traverse(list2_head)\n",
    "print(\"\\nAfter merging two linked lists:\")\n",
    "newhead = merge(list1_head, list2_head)\n",
    "traverse(newhead)"
   ]
  },
  {
   "cell_type": "code",
   "execution_count": 5,
   "id": "500e62cf-af9c-4c4a-becd-78a705531f71",
   "metadata": {},
   "outputs": [
    {
     "name": "stdout",
     "output_type": "stream",
     "text": [
      "\n",
      "List 1:\n",
      "1 3 5 \n",
      "List 2:\n",
      "2 4 6 \n",
      "After merging two linked lists:\n",
      "1 2 3 4 5 "
     ]
    }
   ],
   "source": [
    "def Merge(l1, l2):\n",
    "    ans = Node()\n",
    "    temp = ans\n",
    "    while (l1 and l2):\n",
    "        if (l1.get_data() < l2.get_data()):\n",
    "            temp.set_next(l1)\n",
    "            temp = l1\n",
    "            l1 = l1.get_next()\n",
    "        else:\n",
    "            temp.set_next(l2)\n",
    "            temp = l2\n",
    "            l2 = l2.get_next()\n",
    "    return ans.get_next()\n",
    "        \n",
    "# Create first linked list\n",
    "list1_head = Node(1)\n",
    "list1_node2 = Node(3)\n",
    "list1_node3 = Node(5)\n",
    "\n",
    "# Create second linked list\n",
    "list2_head = Node(2)\n",
    "list2_node2 = Node(4)\n",
    "list2_node3 = Node(6)\n",
    "\n",
    "# Linked list1\n",
    "list1_head.set_next(list1_node2)\n",
    "list1_node2.set_next(list1_node3)\n",
    "\n",
    "# Linked list2\n",
    "list2_head.set_next(list2_node2)\n",
    "list2_node2.set_next(list2_node3)\n",
    " \n",
    "print(\"\\nList 1:\")\n",
    "traverse(list1_head)\n",
    "print(\"\\nList 2:\")\n",
    "traverse(list2_head)\n",
    "print(\"\\nAfter merging two linked lists:\")\n",
    "newhead = Merge(list1_head, list2_head)\n",
    "traverse(newhead)"
   ]
  },
  {
   "cell_type": "markdown",
   "id": "c66303b3-3e45-44ca-92a1-787903f309bd",
   "metadata": {},
   "source": [
    "### Problem 3: Remove the nth node from the end of a linked list."
   ]
  },
  {
   "cell_type": "code",
   "execution_count": 6,
   "id": "cf036742-fe2a-47dc-9c69-da18dbe48807",
   "metadata": {},
   "outputs": [
    {
     "name": "stdout",
     "output_type": "stream",
     "text": [
      "1 2 3 5 "
     ]
    }
   ],
   "source": [
    "# Take a number\n",
    "n = 2\n",
    "\n",
    "# Create the data of linked list\n",
    "head = Node(1)\n",
    "node2 = Node(2)\n",
    "node3 = Node(3)\n",
    "node4 = Node(4)\n",
    "node5 = Node(5)\n",
    "\n",
    "# Creating the linkage\n",
    "head.set_next(node2)\n",
    "node2.set_next(node3)\n",
    "node3.set_next(node4)\n",
    "node4.set_next(node5)\n",
    "\n",
    "# function to remove element\n",
    "def remove(head, n):\n",
    "    k = 0\n",
    "    curr = head\n",
    "    while (k < n):\n",
    "        curr = curr.get_next()\n",
    "        k += 1\n",
    "    curr.set_next(curr.get_next().get_next())\n",
    "\n",
    "# Drive code\n",
    "remove(head, n)\n",
    "traverse(head)"
   ]
  },
  {
   "cell_type": "markdown",
   "id": "82c990bb-ce76-4e27-ac30-8f823f8e049b",
   "metadata": {},
   "source": [
    "### Problem 4: Find the intersection point of two linked lists."
   ]
  },
  {
   "cell_type": "code",
   "execution_count": 7,
   "id": "34114d56-b8b0-4de7-9979-1fd50b8a58bd",
   "metadata": {},
   "outputs": [
    {
     "name": "stdout",
     "output_type": "stream",
     "text": [
      "\n",
      "List 1:\n",
      "1 2 3 4 \n",
      "List 2:\n",
      "9 8 3 4 \n",
      "Intersecting point: 3\n"
     ]
    }
   ],
   "source": [
    "def intersection(l1, l2):\n",
    "    a,b = l1,l2\n",
    "    while (a != b):\n",
    "        if a is None:\n",
    "            a = l2\n",
    "        else:\n",
    "            a = a.get_next()\n",
    "        if b is None:\n",
    "            b = l1\n",
    "        else:\n",
    "            b = b.get_next()\n",
    "    return a\n",
    "\n",
    "# Create first linked list\n",
    "list1_head = Node(1)\n",
    "list1_node2 = Node(2)\n",
    "list1_node3 = Node(3)\n",
    "list1_node4 = Node(4)\n",
    "\n",
    "# Create second linked list\n",
    "list2_head = Node(9)\n",
    "list2_node2 = Node(8)\n",
    "\n",
    "# Linked list1\n",
    "list1_head.set_next(list1_node2)\n",
    "list1_node2.set_next(list1_node3)\n",
    "list1_node3.set_next(list1_node4)\n",
    "\n",
    "# Linked list2\n",
    "list2_head.set_next(list2_node2)\n",
    "list2_node2.set_next(list1_node3)\n",
    " \n",
    "print(\"\\nList 1:\")\n",
    "traverse(list1_head)\n",
    "print(\"\\nList 2:\")\n",
    "traverse(list2_head)\n",
    "ans = intersection(list1_head, list2_head)\n",
    "print(\"\\nIntersecting point:\", ans.get_data())"
   ]
  },
  {
   "cell_type": "markdown",
   "id": "ff206f50-a87c-46ef-8f26-f7c1b2870049",
   "metadata": {},
   "source": [
    "### Problem 5: Remove duplicates from a sorted linked list."
   ]
  },
  {
   "cell_type": "code",
   "execution_count": 8,
   "id": "b0c70021-4479-4f2d-85e4-6dcecb2fd0fd",
   "metadata": {},
   "outputs": [
    {
     "name": "stdout",
     "output_type": "stream",
     "text": [
      "1 2 3 "
     ]
    }
   ],
   "source": [
    "def removeDuplicates(head):\n",
    "    curr = head\n",
    "    while (curr and curr.get_next()):\n",
    "        if curr.get_data() == curr.get_next().get_data():\n",
    "            curr.set_next(curr.get_next().get_next())\n",
    "        else:\n",
    "            curr = curr.get_next()\n",
    "\n",
    "# Create the data of linked list\n",
    "head = Node(1)\n",
    "node2 = Node(1)\n",
    "node3 = Node(2)\n",
    "node4 = Node(3)\n",
    "node5 = Node(3)\n",
    "\n",
    "# Creating the linkage\n",
    "head.set_next(node2)\n",
    "node2.set_next(node3)\n",
    "node3.set_next(node4)\n",
    "node4.set_next(node5)\n",
    "\n",
    "# Drive code\n",
    "removeDuplicates(head)\n",
    "traverse(head)"
   ]
  },
  {
   "cell_type": "code",
   "execution_count": 9,
   "id": "d5d33e7c-7abc-41b5-b77a-fb4b18af0d6a",
   "metadata": {},
   "outputs": [
    {
     "name": "stdout",
     "output_type": "stream",
     "text": [
      "1 2 3 "
     ]
    }
   ],
   "source": [
    "def removeDuplicates(head):\n",
    "    if not head or not head.get_next():\n",
    "        return head\n",
    "    newHead = removeDuplicates(head.get_next())\n",
    "    if newHead.get_data() == head.get_data():\n",
    "        return newHead\n",
    "    else:\n",
    "        head.set_next(newHead)\n",
    "        return head\n",
    "    \n",
    "# Create the data of linked list\n",
    "head = Node(1)\n",
    "node2 = Node(1)\n",
    "node3 = Node(2)\n",
    "node4 = Node(3)\n",
    "node5 = Node(3)\n",
    "\n",
    "# Creating the linkage\n",
    "head.set_next(node2)\n",
    "node2.set_next(node3)\n",
    "node3.set_next(node4)\n",
    "node4.set_next(node5)\n",
    "\n",
    "# Drive code\n",
    "head = removeDuplicates(head)\n",
    "traverse(head)"
   ]
  },
  {
   "cell_type": "markdown",
   "id": "952ac61b-9add-4755-a4d9-0096369dc112",
   "metadata": {},
   "source": [
    "### Problem 6: Add two numbers represented by linked lists (where each node contains a single digit)"
   ]
  },
  {
   "cell_type": "code",
   "execution_count": 10,
   "id": "6a2b5203-0eb6-4dc3-b6fb-2e175205cca1",
   "metadata": {},
   "outputs": [
    {
     "name": "stdout",
     "output_type": "stream",
     "text": [
      "List 1:\n",
      "2 4 3 \n",
      "List 2:\n",
      "5 6 4 \n",
      "After adding nodes, the resulting linked list\n",
      "7 0 8 "
     ]
    }
   ],
   "source": [
    "def add(l1, l2):\n",
    "    ans = Node()\n",
    "    temp = ans\n",
    "    carry = 0\n",
    "    while(l1 or l2 or carry):\n",
    "        v1 = l1.get_data() if l1 else 0\n",
    "        v2 = l2.get_data() if l2 else 0\n",
    "        total = v1 + v2 + carry\n",
    "        carry = total//10\n",
    "        digit = total%10\n",
    "        temp.set_next(Node(digit))\n",
    "        temp = temp.get_next()\n",
    "        l1 = l1.get_next()\n",
    "        l2 = l2.get_next()\n",
    "    return ans.get_next()\n",
    "    \n",
    "# Create first linked list\n",
    "list1_head = Node(2)\n",
    "list1_node2 = Node(4)\n",
    "list1_node3 = Node(3)\n",
    "\n",
    "# Create second linked list\n",
    "list2_head = Node(5)\n",
    "list2_node2 = Node(6)\n",
    "list2_node3 = Node(4)\n",
    "\n",
    "# Linked list1\n",
    "list1_head.set_next(list1_node2)\n",
    "list1_node2.set_next(list1_node3)\n",
    "\n",
    "# Linked list2\n",
    "list2_head.set_next(list2_node2)\n",
    "list2_node2.set_next(list2_node3)\n",
    "\n",
    "print(\"List 1:\")\n",
    "traverse(list1_head)\n",
    "print(\"\\nList 2:\")\n",
    "traverse(list2_head)\n",
    "result = add(list1_head, list2_head)\n",
    "print(\"\\nAfter adding nodes, the resulting linked list\")\n",
    "traverse(result)"
   ]
  },
  {
   "cell_type": "markdown",
   "id": "cf33bbab-1227-427d-a27f-f7f173fa0e94",
   "metadata": {},
   "source": [
    "### Problem 7: Swap nodes in pairs in a linked list."
   ]
  },
  {
   "cell_type": "code",
   "execution_count": 11,
   "id": "c2d8cd79-dc73-4ce1-add9-6109008446d3",
   "metadata": {},
   "outputs": [
    {
     "name": "stdout",
     "output_type": "stream",
     "text": [
      "2 1 4 3 "
     ]
    }
   ],
   "source": [
    "def swap(head):\n",
    "    curr = head\n",
    "    while(curr and curr.get_next()):\n",
    "        temp = curr.data\n",
    "        curr.data = curr.next.data\n",
    "        curr.next.data = temp\n",
    "        curr = curr.next.next\n",
    "\n",
    "\n",
    "# Create the data of linked list\n",
    "head = Node(1)\n",
    "node2 = Node(2)\n",
    "node3 = Node(3)\n",
    "node4 = Node(4)\n",
    "\n",
    "# Creating the linkage\n",
    "head.set_next(node2)\n",
    "node2.set_next(node3)\n",
    "node3.set_next(node4)\n",
    "\n",
    "# Drive code\n",
    "swap(head)\n",
    "traverse(head)"
   ]
  },
  {
   "cell_type": "markdown",
   "id": "e9ffaa0d-2e26-4318-8a39-1aa6839d11da",
   "metadata": {},
   "source": [
    "### Problem 8: Reverse nodes in a linked list in groups of k."
   ]
  },
  {
   "cell_type": "code",
   "execution_count": 12,
   "id": "9f95ec61-b560-4ff7-b176-6fd9c00189fc",
   "metadata": {},
   "outputs": [
    {
     "name": "stdout",
     "output_type": "stream",
     "text": [
      "Original linked list:\n",
      "1 2 3 4 5 \n",
      "After reversing in group of 2\n",
      "2 1 4 3 5 "
     ]
    }
   ],
   "source": [
    "# Time complexity : O(n)\n",
    "# Space complexity : O(n/k)\n",
    "\n",
    "# Enter the value of k\n",
    "k = 2\n",
    "\n",
    "def reverse(start,end):\n",
    "    prev = None\n",
    "    curr = start\n",
    "    while (curr != end):\n",
    "        temp = curr.get_next()\n",
    "        curr.set_next(prev)\n",
    "        prev = curr\n",
    "        curr = temp\n",
    "    return prev\n",
    "\n",
    "def reverseGroup(head, k):\n",
    "    start = head\n",
    "    end = head\n",
    "    if start and start.get_next() and k == 1:\n",
    "        return head\n",
    "    for i in range(k):\n",
    "        end = end.get_next()\n",
    "        if end == None:\n",
    "            return head\n",
    "    newhead = reverse(start,end)\n",
    "    start.set_next(reverseGroup(end, k))\n",
    "    return newhead\n",
    "\n",
    "# Create the data of linked list\n",
    "head = Node(1)\n",
    "node2 = Node(2)\n",
    "node3 = Node(3)\n",
    "node4 = Node(4)\n",
    "node5 = Node(5)\n",
    "\n",
    "# Creating the linkage\n",
    "head.set_next(node2)\n",
    "node2.set_next(node3)\n",
    "node3.set_next(node4)\n",
    "node4.set_next(node5)\n",
    "\n",
    "print(\"Original linked list:\")\n",
    "traverse(head)\n",
    "head = reverseGroup(head, k)\n",
    "print(f\"\\nAfter reversing in group of {k}\")\n",
    "traverse(head)"
   ]
  },
  {
   "cell_type": "markdown",
   "id": "0c26706e-4df6-45b8-b324-002436b0e71e",
   "metadata": {},
   "source": [
    "### Problem 9: Determine if a linked list is a palindrome."
   ]
  },
  {
   "cell_type": "code",
   "execution_count": 13,
   "id": "129eb086-9300-4226-99d0-f206edb6e8c1",
   "metadata": {},
   "outputs": [
    {
     "name": "stdout",
     "output_type": "stream",
     "text": [
      "Given list\n",
      "1 2 2 1 \n",
      "Given list is palindrome\n"
     ]
    }
   ],
   "source": [
    "def Reverse(head):\n",
    "    prev = None\n",
    "    curr = head\n",
    "    while (curr):\n",
    "        temp = curr.get_next()\n",
    "        curr.set_next(prev)\n",
    "        prev = curr\n",
    "        curr = temp\n",
    "    return prev\n",
    "\n",
    "def findMid(head):\n",
    "    slow = head\n",
    "    fast = head\n",
    "    while(fast and fast.get_next()):\n",
    "        slow = slow.get_next()\n",
    "        fast = slow.get_next().get_next()\n",
    "    return slow\n",
    "\n",
    "def palindrome(head):\n",
    "    if head == None:\n",
    "        return head\n",
    "    mid = findMid(head)\n",
    "    last = Reverse(mid.get_next())\n",
    "    curr = head\n",
    "    while last:\n",
    "        if last.get_data() != curr.get_data():\n",
    "            return False\n",
    "        last = last.get_next()\n",
    "        curr = curr.get_next()\n",
    "    return True\n",
    "\n",
    "# Create the data of linked list\n",
    "head = Node(1)\n",
    "node2 = Node(2)\n",
    "node3 = Node(2)\n",
    "node4 = Node(1)\n",
    "\n",
    "# Creating the linkage\n",
    "head.set_next(node2)\n",
    "node2.set_next(node3)\n",
    "node3.set_next(node4)\n",
    "\n",
    "# Drive code\n",
    "print(\"Given list\")\n",
    "traverse(head)\n",
    "\n",
    "if palindrome(head):\n",
    "    print(\"\\nGiven list is palindrome\")\n",
    "else:\n",
    "    print(\"\\nGiven list is not palindrome\")"
   ]
  },
  {
   "cell_type": "markdown",
   "id": "07fcab37-b523-4811-b3c4-b5ea102b6a49",
   "metadata": {},
   "source": [
    "### Problem 10: Rotate a linked list to the right by k places."
   ]
  },
  {
   "cell_type": "code",
   "execution_count": 14,
   "id": "db489c60-7c4a-451f-b9c9-39e868cfb15e",
   "metadata": {},
   "outputs": [
    {
     "name": "stdout",
     "output_type": "stream",
     "text": [
      "Original linked list:\n",
      "1 2 3 4 5 \n",
      "After reversing in group of 2\n",
      "4 5 1 2 3 "
     ]
    }
   ],
   "source": [
    "# Define value of k\n",
    "k = 2\n",
    "\n",
    "def rotate(head, k):\n",
    "    if head and head.get_next() and k == 0:\n",
    "        return head\n",
    "    \n",
    "    curr = head\n",
    "    l = 1\n",
    "    while(curr.get_next()):\n",
    "        l += 1\n",
    "        curr = curr.get_next()\n",
    "        \n",
    "    curr.set_next(head)\n",
    "    k = k%l\n",
    "    k = l-k\n",
    "    while (k):\n",
    "        curr = curr.get_next()\n",
    "        k -= 1\n",
    "    head = curr.get_next()\n",
    "    curr.set_next(None)\n",
    "    return head\n",
    "\n",
    "# Create the data of linked list\n",
    "head = Node(1)\n",
    "node2 = Node(2)\n",
    "node3 = Node(3)\n",
    "node4 = Node(4)\n",
    "node5 = Node(5)\n",
    "\n",
    "# Creating the linkage\n",
    "head.set_next(node2)\n",
    "node2.set_next(node3)\n",
    "node3.set_next(node4)\n",
    "node4.set_next(node5)\n",
    "\n",
    "print(\"Original linked list:\")\n",
    "traverse(head)\n",
    "head = rotate(head, k)\n",
    "print(f\"\\nAfter reversing in group of {k}\")\n",
    "traverse(head)"
   ]
  },
  {
   "cell_type": "markdown",
   "id": "d8bd2f48-3bb8-4030-baf0-1078c036dee3",
   "metadata": {},
   "source": [
    "### Problem 11: Flatten a multilevel doubly linked list."
   ]
  },
  {
   "cell_type": "code",
   "execution_count": 46,
   "id": "56d0539f-722b-4971-a223-3dd3e1e79744",
   "metadata": {},
   "outputs": [],
   "source": [
    "class Node:\n",
    "    def __init__(self, val, prev=None, next=None, child=None):\n",
    "        self.val = val\n",
    "        self.prev = prev\n",
    "        self.next = next\n",
    "        self.child = child\n",
    "\n",
    "def flatten_list(head):\n",
    "    curr = head\n",
    "    prev = None\n",
    "    while curr:\n",
    "        if curr.child:\n",
    "            tail = flatten_list(curr.child)\n",
    "            tail.next = curr.next\n",
    "            if curr.next:\n",
    "                curr.next.prev = tail\n",
    "            curr.next = curr.child\n",
    "            curr.child.prev = curr\n",
    "            curr.child = None\n",
    "            curr = tail.next\n",
    "        else:\n",
    "            prev = curr\n",
    "            curr = curr.next\n",
    "\n",
    "    return prev\n",
    "\n",
    "def concatenate_and_sort(head):\n",
    "    # Flatten the linked list\n",
    "    flattened_head = flatten_list(head)\n",
    "\n",
    "    # Extract values from the linked list\n",
    "    values = []\n",
    "    curr = flattened_head\n",
    "    while curr:\n",
    "        values.append(curr.val)\n",
    "        curr = curr.next\n",
    "\n",
    "    # Sort the values\n",
    "    values.sort()\n",
    "\n",
    "    # Create a new linked list from the sorted values\n",
    "    sorted_head = Node(None)\n",
    "    curr = sorted_head\n",
    "    for val in values:\n",
    "        curr.next = Node(val, prev=curr)\n",
    "        curr = curr.next\n",
    "\n",
    "    return sorted_head.next  # Skip the dummy node\n",
    "\n",
    "# Create the nested linked list\n",
    "head1 = Node(1)\n",
    "head1.next = Node(2)\n",
    "head1.next.next = Node(3)\n",
    "head1.next.next.next = Node(7)\n",
    "head1.next.next.next.next = Node(8)\n",
    "head1.next.next.next.next.next = Node(11)\n",
    "head1.next.next.next.next.next.next = Node(12)\n",
    "\n",
    "head2 = Node(4)\n",
    "head2.next = Node(5)\n",
    "head2.next.next = Node(9)\n",
    "head2.next.next.next = Node(10)\n",
    "\n",
    "head3 = Node(6)\n",
    "head3.next = Node(13)\n",
    "\n",
    "head = Node(None)\n",
    "head.child = head1\n",
    "head.child.next.next.next.next.next.next = head2\n",
    "head.child.next.next.next.next.next.next.next = head3\n",
    "\n",
    "# Concatenate and sort the linked list\n",
    "sorted_head = concatenate_and_sort(head)\n",
    "\n",
    "# Print the sorted list\n",
    "curr = sorted_head\n",
    "while curr:\n",
    "    print(curr.val, end=\" <-> \")\n",
    "    curr = curr.next"
   ]
  },
  {
   "cell_type": "markdown",
   "id": "22a4ab6c-1e47-4eb8-b6b0-d0218910dc6f",
   "metadata": {},
   "source": [
    "### Problem 12: Rearrange a linked list such that all even positioned nodes are placed at the end."
   ]
  },
  {
   "cell_type": "code",
   "execution_count": 21,
   "id": "8bdc740f-8bfb-4d2d-9c2d-4f0fbe0f1782",
   "metadata": {},
   "outputs": [
    {
     "name": "stdout",
     "output_type": "stream",
     "text": [
      "List:\n",
      "1 2 3 4 5 \n",
      "After rearranging the list:\n",
      "1 3 5 2 4 "
     ]
    }
   ],
   "source": [
    "def position(head):\n",
    "    if not head or not head.get_next():\n",
    "        return head\n",
    "    \n",
    "    even = head.get_next()\n",
    "    odd = head\n",
    "    even_start = even\n",
    "    while (even and even.get_next() and odd and odd.get_next()):\n",
    "        odd.set_next(even.get_next())\n",
    "        odd = odd.get_next()\n",
    "        even.set_next(odd.get_next())\n",
    "        even = even.get_next()\n",
    "    odd.set_next(even_start)\n",
    "    if even:\n",
    "        even.set_next(None)\n",
    "    return head\n",
    "        \n",
    "# Create the data of linked list\n",
    "head = Node(1)\n",
    "node2 = Node(2)\n",
    "node3 = Node(3)\n",
    "node4 = Node(4)\n",
    "node5 = Node(5)\n",
    "\n",
    "# Creating the linkage\n",
    "head.set_next(node2)\n",
    "node2.set_next(node3)\n",
    "node3.set_next(node4)\n",
    "node4.set_next(node5)\n",
    "\n",
    "print(\"List:\")\n",
    "traverse(head)\n",
    "print(\"\\nAfter rearranging the list:\")\n",
    "head = position(head)\n",
    "traverse(head)"
   ]
  },
  {
   "cell_type": "markdown",
   "id": "911630d4-80a5-4246-918a-028a8a7eaa5e",
   "metadata": {},
   "source": [
    "### Problem 13: Given a non-negative number represented as a linked list, add one to it."
   ]
  },
  {
   "cell_type": "code",
   "execution_count": 22,
   "id": "6b61a909-f81d-4b00-9b80-2baeeaa387ba",
   "metadata": {},
   "outputs": [
    {
     "name": "stdout",
     "output_type": "stream",
     "text": [
      "List:\n",
      "9 9 9 \n",
      "After adding one:\n",
      "1 0 0 0 "
     ]
    }
   ],
   "source": [
    "def addOne(head):\n",
    "    head = Reverse(head)\n",
    "    carry = 1\n",
    "    curr = head\n",
    "    while(curr):\n",
    "        total = curr.get_data() + carry\n",
    "        digit = total%10\n",
    "        carry = total//10\n",
    "        \n",
    "        curr.set_data(digit)\n",
    "        \n",
    "        if not curr.get_next() and carry:\n",
    "            curr.set_next(Node(carry))\n",
    "            break\n",
    "        curr = curr.get_next()\n",
    "        \n",
    "    newHead = Reverse(head)\n",
    "    return newHead\n",
    "        \n",
    "\n",
    "# Create the data of linked list\n",
    "head = Node(9)\n",
    "node2 = Node(9)\n",
    "node3 = Node(9)\n",
    "\n",
    "# Creating the linkage\n",
    "head.set_next(node2)\n",
    "node2.set_next(node3)\n",
    "\n",
    "print(\"List:\")\n",
    "traverse(head)\n",
    "print(\"\\nAfter adding one:\")\n",
    "head = addOne(head)\n",
    "traverse(head)"
   ]
  },
  {
   "cell_type": "markdown",
   "id": "84f802bc-2ab6-47dd-817b-73eef6a97151",
   "metadata": {},
   "source": [
    "### Problem 14: Given a sorted array and a target value, return the index if the target is found. If not, return the index where it would be inserted."
   ]
  },
  {
   "cell_type": "code",
   "execution_count": 23,
   "id": "71e55de5-1da4-4fa0-8faa-f7806e9d65de",
   "metadata": {},
   "outputs": [
    {
     "data": {
      "text/plain": [
       "2"
      ]
     },
     "execution_count": 23,
     "metadata": {},
     "output_type": "execute_result"
    }
   ],
   "source": [
    "# Take array of numbers\n",
    "nums = [1, 3, 5, 6]\n",
    "\n",
    "# Take target\n",
    "target = 5\n",
    "\n",
    "# function to find index of target in sorted array\n",
    "def findTarget(a, key):\n",
    "    l = 0\n",
    "    h = len(nums)-1\n",
    "    mid = 0\n",
    "    while ( l <= h ):\n",
    "        mid = l + (h-l)//2\n",
    "        if a[mid] == key:\n",
    "            return mid\n",
    "        elif a[mid] < key:\n",
    "            l = mid+1\n",
    "        else:\n",
    "            h = mid-1\n",
    "    return -1\n",
    "\n",
    "# Drive code\n",
    "findTarget(nums, target)"
   ]
  },
  {
   "cell_type": "markdown",
   "id": "383ce760-30b0-45be-bb1f-64769ef2a600",
   "metadata": {},
   "source": [
    "### Problem 15: Find the minimum element in a rotated sorted array."
   ]
  },
  {
   "cell_type": "code",
   "execution_count": 24,
   "id": "46549f6f-ac63-4e98-8053-175cdb2ab609",
   "metadata": {},
   "outputs": [
    {
     "data": {
      "text/plain": [
       "0"
      ]
     },
     "execution_count": 24,
     "metadata": {},
     "output_type": "execute_result"
    }
   ],
   "source": [
    "# Take rotated array\n",
    "a = [4, 5, 6, 7, 0, 1, 2]\n",
    "\n",
    "# function to find minimum element\n",
    "def minimumElement(a):\n",
    "    l = 0\n",
    "    h = len(a)-1\n",
    "    mid = 0 \n",
    "    while (l < h):\n",
    "        mid = l+(h-l)//2\n",
    "        if a[mid] > a[h]:\n",
    "            l = mid+1\n",
    "        else:\n",
    "            h = mid\n",
    "    return a[l]\n",
    "\n",
    "# Drive code\n",
    "minimumElement(a)"
   ]
  },
  {
   "cell_type": "markdown",
   "id": "0a76bf55-f59a-4143-9966-be706e228ecd",
   "metadata": {},
   "source": [
    "### Problem 16: Search for a target value in a rotated sorted array."
   ]
  },
  {
   "cell_type": "code",
   "execution_count": 25,
   "id": "8299f7ed-f927-418e-8223-b0b36f44b4ad",
   "metadata": {},
   "outputs": [
    {
     "data": {
      "text/plain": [
       "4"
      ]
     },
     "execution_count": 25,
     "metadata": {},
     "output_type": "execute_result"
    }
   ],
   "source": [
    "# Take rotated sorrted array.\n",
    "a =  [4, 5, 6, 7, 0, 1, 2]\n",
    "\n",
    "# Take a target\n",
    "target = 0\n",
    "\n",
    "# Function to find target in given  rotated sorted array\n",
    "def find_target(nums, target):\n",
    "    left = 0\n",
    "    right = len(nums)-1\n",
    "    while (left <= right):\n",
    "        mid = left + (right-left)//2\n",
    "        if nums[mid] == target:\n",
    "            return mid\n",
    "        if a[left] <= a[mid]:\n",
    "            if a[left] <= target <= a[mid]:\n",
    "                right = mid-1\n",
    "            else:\n",
    "                left = mid+1\n",
    "                \n",
    "    return -1\n",
    "\n",
    "# Drive code\n",
    "find_target(a, target)"
   ]
  },
  {
   "cell_type": "markdown",
   "id": "e57a13f5-0711-4eb1-bf7d-7aa2da3271cd",
   "metadata": {},
   "source": [
    "### Problem 17: Find the peak element in an array. A peak element is greater than its neighbors."
   ]
  },
  {
   "cell_type": "code",
   "execution_count": 26,
   "id": "2495b2aa-f033-4e81-85a1-6f0bfd099c68",
   "metadata": {},
   "outputs": [
    {
     "data": {
      "text/plain": [
       "3"
      ]
     },
     "execution_count": 26,
     "metadata": {},
     "output_type": "execute_result"
    }
   ],
   "source": [
    "# Take an array\n",
    "nums = [1, 2, 3, 1]\n",
    "\n",
    "# Function to find peak element\n",
    "def peakElement(a):\n",
    "    l = 0\n",
    "    h = len(nums)-1\n",
    "    while (l <= h):\n",
    "        mid = l + (h-l)//2\n",
    "        if a[mid] > a[mid-1] and a[mid] > a[mid+1]:\n",
    "            return a[mid]\n",
    "        elif a[mid-1] < a[mid] < a[mid+1]:\n",
    "            l = mid\n",
    "        else:\n",
    "            h = mid\n",
    "    return -1\n",
    "\n",
    "# Drive code\n",
    "peakElement(nums)"
   ]
  },
  {
   "cell_type": "markdown",
   "id": "9ec0c49a-b373-4658-b6ab-f2c4be0ca8da",
   "metadata": {},
   "source": [
    "### Problem 18: Given a m x n matrix where each row and column is sorted in ascending order, count the number of negative numbers."
   ]
  },
  {
   "cell_type": "code",
   "execution_count": 27,
   "id": "487209f8-6e79-4826-afd3-1c5c16a9277e",
   "metadata": {},
   "outputs": [
    {
     "data": {
      "text/plain": [
       "8"
      ]
     },
     "execution_count": 27,
     "metadata": {},
     "output_type": "execute_result"
    }
   ],
   "source": [
    "# Take an array\n",
    "grid = [[4, 3, 2, -1], [3, 2, 1, -1], [1, 1, -1, -2], [-1, -1, -2, -3]]\n",
    "\n",
    "# function to count the negative numbers\n",
    "def negative(grid):\n",
    "    if not grid and grid[0]:\n",
    "        return 0\n",
    "    row = len(grid)\n",
    "    col = len(grid[0])\n",
    "    total = 0\n",
    "    i = 0\n",
    "    j = col - 1\n",
    "    while(i < row and j >= 0):\n",
    "        if grid[i][j] < 0:\n",
    "            total += (col-i)\n",
    "            j -= 1\n",
    "        else:\n",
    "            i += 1\n",
    "    return total\n",
    "\n",
    "# Drive code\n",
    "negative(grid)"
   ]
  },
  {
   "cell_type": "markdown",
   "id": "1161ec36-25a0-436f-9ed1-fba3a4bb907f",
   "metadata": {},
   "source": [
    "### Problem 19: Given a 2D matrix sorted in ascending order in each row, and the first integer of each row is greater than the last integer of the previous row, determine if a target value is present in the matrix."
   ]
  },
  {
   "cell_type": "code",
   "execution_count": 28,
   "id": "507f21c5-b6a5-4dfd-9c03-28bb499148ed",
   "metadata": {},
   "outputs": [
    {
     "data": {
      "text/plain": [
       "True"
      ]
     },
     "execution_count": 28,
     "metadata": {},
     "output_type": "execute_result"
    }
   ],
   "source": [
    "# Take a matrix\n",
    "matrix = [[1, 3, 5, 7], [10, 11, 16, 20], [23, 30, 34, 60]]\n",
    "\n",
    "# Take a target value\n",
    "key = 3\n",
    "\n",
    "# function to find target value\n",
    "def target(matrix, key):\n",
    "    if not matrix:\n",
    "        return False\n",
    "    rows = len(matrix)\n",
    "    cols = len(matrix[0])\n",
    "    i = 0\n",
    "    j = cols-1\n",
    "    while (i < rows and j >= 0):\n",
    "        if matrix[i][j] == key:\n",
    "            return True\n",
    "        elif matrix[i][j] > key:\n",
    "            j -= 1\n",
    "        else:\n",
    "            i += 1\n",
    "    return False\n",
    "\n",
    "# Drive code\n",
    "target(matrix, key)"
   ]
  },
  {
   "cell_type": "markdown",
   "id": "7ae8abe4-6cd5-49b3-a0a8-3ea2a45aacf8",
   "metadata": {},
   "source": [
    "### Problem 20: Find Median in Two Sorted Arrays\n",
    "Problem: Given two sorted arrays, find the median of the combined sorted array."
   ]
  },
  {
   "cell_type": "code",
   "execution_count": 29,
   "id": "6d452c8e-6190-42bb-bfb5-1b1db3687aa3",
   "metadata": {},
   "outputs": [
    {
     "name": "stdout",
     "output_type": "stream",
     "text": [
      "First array: [1, 3]\n",
      "Second array: [2]\n",
      "Median of these two arrays:\n"
     ]
    },
    {
     "data": {
      "text/plain": [
       "2.0"
      ]
     },
     "execution_count": 29,
     "metadata": {},
     "output_type": "execute_result"
    }
   ],
   "source": [
    "# Time complexity : O(m+n)\n",
    "\n",
    "# Take two arrays\n",
    "num1 = [1, 3]\n",
    "num2 = [2]\n",
    "\n",
    "# Function to find median of two arrays\n",
    "def median(num1, num2):\n",
    "    l1 = len(num1)\n",
    "    l2 = len(num2)\n",
    "    i = 0\n",
    "    j = 0\n",
    "    m = [-1]*(l1+l2)\n",
    "    k = 0\n",
    "    while (k <= len(m)//2 and i < l1 and j < l2):\n",
    "        if num1[i] < num2[j]:\n",
    "            m[k] = num1[i]\n",
    "            i += 1\n",
    "        else:\n",
    "            m[k] = num2[j]\n",
    "            j += 1\n",
    "        k += 1\n",
    "        \n",
    "    while (k <= len(m)//2 and i < l1):\n",
    "        m[k] = num1[i]\n",
    "        i += 1\n",
    "        k += 1\n",
    "    \n",
    "    while (k <= len(m)//2 and j < l2):\n",
    "        m[k] = num2[j]\n",
    "        j += 1\n",
    "        k += 1\n",
    "        \n",
    "    if (len(m)%2 == 0):\n",
    "        med = (m[(len(m)-1) // 2] + m[len(m)//2]) / 2\n",
    "    else:\n",
    "        med = m[len(m)//2] \n",
    "    return med\n",
    "\n",
    "# Drive code\n",
    "print(\"First array:\", num1)\n",
    "print(\"Second array:\", num2)\n",
    "print(\"Median of these two arrays:\")\n",
    "float(median(num1, num2))"
   ]
  },
  {
   "cell_type": "code",
   "execution_count": 30,
   "id": "2e426699-1bdc-485e-aee2-3840f86773cd",
   "metadata": {},
   "outputs": [
    {
     "name": "stdout",
     "output_type": "stream",
     "text": [
      "First array: [1, 3]\n",
      "Second array: [2]\n",
      "Median of these two arrays:\n"
     ]
    },
    {
     "data": {
      "text/plain": [
       "2.0"
      ]
     },
     "execution_count": 30,
     "metadata": {},
     "output_type": "execute_result"
    }
   ],
   "source": [
    "# Time complexity : O(log(m,n))\n",
    "\n",
    "# Take two arrays\n",
    "num1 = [1, 3]\n",
    "num2 = [2]\n",
    "\n",
    "# function to find median of two arrays\n",
    "def findMedian(ar1, ar2):\n",
    "    if len(ar1) < len(ar2):\n",
    "        return findMedian(ar2, ar1)\n",
    "    \n",
    "    l = 0\n",
    "    h = len(ar1)\n",
    "    while (l <= h):\n",
    "        m1 = (l+h)//2\n",
    "        m2 = ((len(ar1)+len(ar2)+1)//2) - m1\n",
    "        \n",
    "        if m1 == 0:\n",
    "            l1 = -float('inf')\n",
    "        else:\n",
    "            l1 = ar1[m1-1]\n",
    "        \n",
    "        if m1 == len(ar1):\n",
    "            r1 = float('inf')\n",
    "        else:\n",
    "            r1 = ar1[m1]\n",
    "            \n",
    "        if m2 == 0:\n",
    "            l2 = -float('inf')\n",
    "        else:\n",
    "            l2 = ar2[m2-1]\n",
    "            \n",
    "        if m2 == len(ar2):\n",
    "            r2 = float('inf')\n",
    "        else:\n",
    "            r2 = ar2[m2]\n",
    "            \n",
    "        if (l1 <= r2 and l2 <= r1):\n",
    "            if (len(ar1) + len(ar2)) % 2 == 0:\n",
    "                return float(max(l1, l2) + min(r1, r2) // 2)\n",
    "            else:\n",
    "                return float(max(l1, l2))\n",
    "        elif (l2 > r1):\n",
    "            l = m1 + 1\n",
    "        else:\n",
    "            h = m1 - 1\n",
    "    return 0.0\n",
    "\n",
    "# Drive code\n",
    "print(\"First array:\", num1)\n",
    "print(\"Second array:\", num2)\n",
    "print(\"Median of these two arrays:\")\n",
    "findMedian(num1, num2)"
   ]
  },
  {
   "cell_type": "markdown",
   "id": "b8dcb217-72ff-4070-85f4-e24cb5fc2631",
   "metadata": {},
   "source": [
    "### Problem 21: Given a sorted character array and a target letter, find the smallest letter in the array that is greater than the target."
   ]
  },
  {
   "cell_type": "code",
   "execution_count": 31,
   "id": "ed5f669c-dcda-493a-89e5-dcad5cb54a61",
   "metadata": {},
   "outputs": [
    {
     "data": {
      "text/plain": [
       "'c'"
      ]
     },
     "execution_count": 31,
     "metadata": {},
     "output_type": "execute_result"
    }
   ],
   "source": [
    "# Take an array\n",
    "letters = ['c', 'f', 'j']\n",
    "    \n",
    "# Take a target value\n",
    "target = 'a'\n",
    "\n",
    "# function to find the smallest letter in the array that is greater than the target.\n",
    "def findTarget(a, key):\n",
    "    l = 0\n",
    "    h = len(a)-1\n",
    "    while ( l <= h ):\n",
    "        mid = l + (h-l)//2\n",
    "        if a[mid] <= key:\n",
    "            l = mid+1\n",
    "        else:\n",
    "            h = mid-1\n",
    "    if l < len(a):\n",
    "        return a[l]\n",
    "    else:\n",
    "        return a[-1]\n",
    "\n",
    "# Drive code\n",
    "findTarget(letters, target)"
   ]
  },
  {
   "cell_type": "markdown",
   "id": "2c6a00cc-f363-49cc-9590-4bf7b0aa712f",
   "metadata": {},
   "source": [
    "### Problem 22: Given an array with n objects colored red, white, or blue, sort them in-place so that objects of the same color are adjacent, with the colors in the order red, white, and blue."
   ]
  },
  {
   "cell_type": "code",
   "execution_count": 32,
   "id": "5be1d125-5a69-42a7-a3de-4a1fe1bac589",
   "metadata": {},
   "outputs": [
    {
     "name": "stdout",
     "output_type": "stream",
     "text": [
      "[0, 0, 1, 1, 2, 2]\n"
     ]
    }
   ],
   "source": [
    "# Take an array\n",
    "nums = [2, 0, 2, 1, 1, 0]\n",
    "\n",
    "# function to sort array\n",
    "def sortColor(a):\n",
    "    l = 0\n",
    "    h = len(a)-1\n",
    "    i = 0\n",
    "    while (i <= h):\n",
    "        if a[i] == 0:\n",
    "            a[l], a[i] = a[i], a[l]\n",
    "            l += 1\n",
    "        elif a[i] == 2:\n",
    "            a[h], a[i] = a[i], a[h]\n",
    "            h -= 1\n",
    "        i += 1\n",
    "            \n",
    "# Drive code\n",
    "sortColor(nums)\n",
    "print(nums)"
   ]
  },
  {
   "cell_type": "markdown",
   "id": "21021ade-a486-4e1c-b049-282bb5b39c73",
   "metadata": {},
   "source": [
    "### Problem 23: Find the kth largest element in an unsorted array."
   ]
  },
  {
   "cell_type": "code",
   "execution_count": 33,
   "id": "d2925db5-2d07-43fa-b00f-932bba14f2f6",
   "metadata": {},
   "outputs": [
    {
     "name": "stdout",
     "output_type": "stream",
     "text": [
      "2th largest element is 5\n"
     ]
    }
   ],
   "source": [
    "# Take an unsorted array\n",
    "nums = [3, 2, 1, 5, 6, 4] \n",
    "\n",
    "# Take the value of k which finds the kth largest element\n",
    "k = 2\n",
    "\n",
    "def pivotElement(a, l, h):\n",
    "    pivot = a[l]\n",
    "    i = l\n",
    "    j = h\n",
    "    while (i < j):\n",
    "        while (a[i] <= pivot):\n",
    "            i += 1\n",
    "        while (a[j] > pivot):\n",
    "            j -= 1\n",
    "        if (i < j):\n",
    "            a[i], a[j] = a[j], a[i]\n",
    "    a[l], a[j] = a[j], a[l]\n",
    "    return j\n",
    "\n",
    "def findLargest(a, k):\n",
    "    l = 0\n",
    "    h = len(a)-1\n",
    "    k = len(a)+1-k\n",
    "    while (l <= h):\n",
    "        pivot = pivotElement(a, l, h)\n",
    "        if k-1 == pivot:\n",
    "            return a[pivot]\n",
    "        elif pivot < k-1:\n",
    "            l = pivot + 1\n",
    "        else:\n",
    "            h = pivot - 1\n",
    "            \n",
    "# Drive code\n",
    "print(f\"{k}th largest element is\", findLargest(nums, k))"
   ]
  },
  {
   "cell_type": "markdown",
   "id": "5f55ccb0-a3bf-4d3f-b9e2-a97307d0af00",
   "metadata": {},
   "source": [
    "### Problem 24: Given an unsorted array, reorder it in-place such that nums[0] <= nums[1] >= nums[2] <= nums[3]..."
   ]
  },
  {
   "cell_type": "code",
   "execution_count": 34,
   "id": "236b80fd-dbd3-4148-83a5-78ccb47347dd",
   "metadata": {},
   "outputs": [
    {
     "name": "stdout",
     "output_type": "stream",
     "text": [
      "[3, 5, 1, 6, 2, 4]\n"
     ]
    }
   ],
   "source": [
    "# Take an array\n",
    "nums = [3, 5, 2, 1, 6, 4]\n",
    "\n",
    "def fun(nums):\n",
    "    for i in range(1,len(nums)):\n",
    "        if (i%2 == 1 and nums[i] < nums[i-1]) or (i%2 == 0 and nums[i] > nums[i-1]):\n",
    "            nums[i], nums[i-1] = nums[i-1], nums[i]\n",
    "\n",
    "            \n",
    "# Drive code\n",
    "fun(nums)\n",
    "print(nums)"
   ]
  },
  {
   "cell_type": "markdown",
   "id": "daa699d6-54b7-4fe4-bdd7-f9525fc29c96",
   "metadata": {},
   "source": [
    "### Problem 25: Given an array of integers, calculate the sum of all its elements."
   ]
  },
  {
   "cell_type": "code",
   "execution_count": 35,
   "id": "7fc03674-d057-4e18-9d8a-966003c2afc8",
   "metadata": {},
   "outputs": [
    {
     "data": {
      "text/plain": [
       "15"
      ]
     },
     "execution_count": 35,
     "metadata": {},
     "output_type": "execute_result"
    }
   ],
   "source": [
    "# Take an array\n",
    "a = [1, 2, 3, 4, 5]\n",
    "\n",
    "# function to find sum of array.\n",
    "def sum_array(a):\n",
    "    if len(a) == 0:\n",
    "        return 0\n",
    "    return a[0] + sum_array(a[1:])\n",
    "\n",
    "# Drive code\n",
    "sum_array(a)"
   ]
  },
  {
   "cell_type": "markdown",
   "id": "639f3606-8c7c-424d-90bc-5712dcdd846f",
   "metadata": {},
   "source": [
    "### Problem 26: Find the maximum element in an array of integers."
   ]
  },
  {
   "cell_type": "code",
   "execution_count": 36,
   "id": "7d4d30ff-e265-40e5-8970-18568d47851a",
   "metadata": {},
   "outputs": [
    {
     "data": {
      "text/plain": [
       "9"
      ]
     },
     "execution_count": 36,
     "metadata": {},
     "output_type": "execute_result"
    }
   ],
   "source": [
    "# Take an array\n",
    "a = [3, 7, 2, 9, 4, 1]\n",
    "\n",
    "# function to find maximum element \n",
    "def maxElement(a):\n",
    "    max1 = a[0]\n",
    "    for i in range(1,len(a)):\n",
    "        if max1 < a[i]:\n",
    "            max1 = a[i]\n",
    "    return max1\n",
    "\n",
    "# Drive code\n",
    "maxElement(a)"
   ]
  },
  {
   "cell_type": "markdown",
   "id": "3b2175a6-9a30-4382-90d2-a065bc8504a6",
   "metadata": {},
   "source": [
    "### Problem 27: Implement linear search to find the index of a target element in an array."
   ]
  },
  {
   "cell_type": "code",
   "execution_count": 37,
   "id": "57b29a69-5166-47ef-8a17-5f25213a244f",
   "metadata": {},
   "outputs": [
    {
     "data": {
      "text/plain": [
       "2"
      ]
     },
     "execution_count": 37,
     "metadata": {},
     "output_type": "execute_result"
    }
   ],
   "source": [
    "# Take an array\n",
    "a = [5, 3, 8, 2, 7, 4]\n",
    "\n",
    "# Take a target value\n",
    "target = 8\n",
    "\n",
    "# function to find index of a target element\n",
    "def TargetIndex(a, target):\n",
    "    for i in range(len(a)):\n",
    "        if a[i] == target:\n",
    "            return i\n",
    "        \n",
    "# Drive code\n",
    "TargetIndex(a, target)"
   ]
  },
  {
   "cell_type": "markdown",
   "id": "e1ee5c97-dfce-4540-978f-a797c449801c",
   "metadata": {},
   "source": [
    "### Problem 28: Calculate the factorial of a given number."
   ]
  },
  {
   "cell_type": "code",
   "execution_count": 38,
   "id": "f2e251d9-568e-485c-9aae-441d68a88a5c",
   "metadata": {},
   "outputs": [
    {
     "data": {
      "text/plain": [
       "120"
      ]
     },
     "execution_count": 38,
     "metadata": {},
     "output_type": "execute_result"
    }
   ],
   "source": [
    "# Take a number\n",
    "num = 5\n",
    "\n",
    "# function to find factorial of given number\n",
    "def fact(num):\n",
    "    if num == 0 or num == 1:\n",
    "        return 1\n",
    "    return num * fact(num-1)\n",
    "\n",
    "# Drive code\n",
    "fact(num)"
   ]
  },
  {
   "cell_type": "markdown",
   "id": "bf52def0-4756-4c36-acf4-58d37ef174fb",
   "metadata": {},
   "source": [
    "### Problem 29: Check if a given number is a prime number."
   ]
  },
  {
   "cell_type": "code",
   "execution_count": 39,
   "id": "6cb0eed8-1c64-4bf9-8c3a-6cc264b4b21e",
   "metadata": {},
   "outputs": [
    {
     "data": {
      "text/plain": [
       "True"
      ]
     },
     "execution_count": 39,
     "metadata": {},
     "output_type": "execute_result"
    }
   ],
   "source": [
    "import math\n",
    "# Take a number\n",
    "num = 7\n",
    "\n",
    "# function to check given number is prime or not\n",
    "def prime(num):\n",
    "    if num == 1:\n",
    "        return False\n",
    "    if num == 2 or num == 3:\n",
    "        return True\n",
    "    else:\n",
    "        for i in range(2, int(math.sqrt(num))):\n",
    "            if num%i == 0:\n",
    "                return False\n",
    "    return True\n",
    "\n",
    "# Drive code\n",
    "prime(num)"
   ]
  },
  {
   "cell_type": "markdown",
   "id": "6266437d-cc6f-48a3-b831-4a3a7e592bad",
   "metadata": {},
   "source": [
    "### Problem 30: Generate the Fibonacci series up to a given number n."
   ]
  },
  {
   "cell_type": "code",
   "execution_count": 40,
   "id": "11e508dc-2d23-4c34-bcb5-09a2b4721c34",
   "metadata": {},
   "outputs": [
    {
     "data": {
      "text/plain": [
       "[0, 1, 1, 2, 3, 5, 8, 13]"
      ]
     },
     "execution_count": 40,
     "metadata": {},
     "output_type": "execute_result"
    }
   ],
   "source": [
    "# Take a number\n",
    "n = 8\n",
    "\n",
    "# function to find fibonacci series\n",
    "def fibo(n):\n",
    "    if n <= 0:\n",
    "        return []\n",
    "    if n == 1 :\n",
    "        return [0]\n",
    "    elif n == 2:\n",
    "        return  [0,1]\n",
    "    else:\n",
    "        a = fibo(n-1)\n",
    "        a.append(a[-1] + a[-2])\n",
    "        return a\n",
    "\n",
    "# Drive code\n",
    "fibo(n)"
   ]
  },
  {
   "cell_type": "markdown",
   "id": "0c9bfbd2-6283-4259-b32c-e5b1dc66b47d",
   "metadata": {},
   "source": [
    "### Problem 31: Calculate the power of a number using recursion."
   ]
  },
  {
   "cell_type": "code",
   "execution_count": 41,
   "id": "ed68b597-7982-4476-9af9-fbb42d3d0836",
   "metadata": {},
   "outputs": [
    {
     "data": {
      "text/plain": [
       "81"
      ]
     },
     "execution_count": 41,
     "metadata": {},
     "output_type": "execute_result"
    }
   ],
   "source": [
    "# Take base value and exponent\n",
    "base = 3 \n",
    "exponent = 4\n",
    "\n",
    "# function to find power of a number\n",
    "def power(base, exponent):\n",
    "    if exponent == 0:\n",
    "        return 1\n",
    "    return base * power(base, exponent-1)\n",
    "\n",
    "# Drive code\n",
    "power(base, exponent)"
   ]
  },
  {
   "cell_type": "markdown",
   "id": "b3c1c70a-e715-4e89-9b03-5752fbf80027",
   "metadata": {},
   "source": [
    "### Problem 32: Reverse a given string."
   ]
  },
  {
   "cell_type": "code",
   "execution_count": 42,
   "id": "ae6f724f-4e68-4db9-898e-cf034776cd2d",
   "metadata": {},
   "outputs": [
    {
     "data": {
      "text/plain": [
       "'olleh'"
      ]
     },
     "execution_count": 42,
     "metadata": {},
     "output_type": "execute_result"
    }
   ],
   "source": [
    "# Take a string\n",
    "s =  \"hello\"\n",
    "\n",
    "# function to reverse the string\n",
    "def reverse(s):\n",
    "    if len(s) <= 1:\n",
    "        return s\n",
    "    return reverse(s[1:]) + s[0] \n",
    "\n",
    "# Drive code\n",
    "reverse(s)"
   ]
  }
 ],
 "metadata": {
  "kernelspec": {
   "display_name": "Python 3 (ipykernel)",
   "language": "python",
   "name": "python3"
  },
  "language_info": {
   "codemirror_mode": {
    "name": "ipython",
    "version": 3
   },
   "file_extension": ".py",
   "mimetype": "text/x-python",
   "name": "python",
   "nbconvert_exporter": "python",
   "pygments_lexer": "ipython3",
   "version": "3.10.8"
  }
 },
 "nbformat": 4,
 "nbformat_minor": 5
}
